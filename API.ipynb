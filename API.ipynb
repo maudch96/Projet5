{
 "cells": [
  {
   "cell_type": "markdown",
   "metadata": {},
   "source": [
    "# Projet 5 - Catégorisez automatiquement des questions"
   ]
  },
  {
   "cell_type": "markdown",
   "metadata": {},
   "source": [
    "## Importation des librairies et des données"
   ]
  },
  {
   "cell_type": "code",
   "execution_count": 18,
   "metadata": {},
   "outputs": [],
   "source": [
    "import numpy as np\n",
    "import pandas as pd\n",
    "from bs4 import BeautifulSoup\n",
    "from nltk.corpus import stopwords\n",
    "from nltk.tokenize import word_tokenize\n",
    "from nltk.stem import WordNetLemmatizer\n",
    "from nltk.tokenize import RegexpTokenizer\n",
    "from sklearn.feature_extraction.text import TfidfVectorizer\n",
    "from sklearn.feature_extraction.text import TfidfTransformer, CountVectorizer\n",
    "from sklearn.pipeline import make_pipeline\n",
    "import joblib\n",
    "import csv\n",
    "from sklearn import preprocessing"
   ]
  },
  {
   "cell_type": "code",
   "execution_count": 91,
   "metadata": {},
   "outputs": [
    {
     "data": {
      "text/plain": [
       "(34805,)"
      ]
     },
     "execution_count": 91,
     "metadata": {},
     "output_type": "execute_result"
    }
   ],
   "source": [
    "X_df = pd.read_csv('filtered_df.csv', sep = ';', index_col = 0)\n",
    "X_df.fillna(' ', inplace = True)\n",
    "X_df['Body'].shape"
   ]
  },
  {
   "cell_type": "code",
   "execution_count": 5,
   "metadata": {},
   "outputs": [],
   "source": [
    "# Importation de tous les modèles issus de l'analyse du projet\n",
    "model_final = joblib.load('model_final.plk')\n",
    "pca = joblib.load('model_pca.plk')\n",
    "std_scale = joblib.load('std_scale.plk')"
   ]
  },
  {
   "cell_type": "code",
   "execution_count": 106,
   "metadata": {},
   "outputs": [
    {
     "data": {
      "text/plain": [
       "977"
      ]
     },
     "execution_count": 106,
     "metadata": {},
     "output_type": "execute_result"
    }
   ],
   "source": [
    "# Importation des termes de la matrice tf-idf\n",
    "feature_name = []\n",
    "with open('feature_name.csv', 'r') as data:\n",
    "    for line in csv.reader(data):\n",
    "        feature_name.append(line)\n",
    "\n",
    "    # Transforme la liste de listes en liste\n",
    "feature_names = [item for sublist in feature_name for item in sublist]\n",
    "len(feature_names)"
   ]
  },
  {
   "cell_type": "code",
   "execution_count": 118,
   "metadata": {},
   "outputs": [],
   "source": [
    "imported_features = ['able', 'accept', 'access', 'according','account', 'achieve', 'across', 'action', 'active', 'activity', 'activitythread', 'actual', 'actually', 'add', 'added','adding', 'address', 'admin', 'advance', 'ajax', 'alert', 'algorithm',\n",
    " 'align', 'alloc', 'allow', 'allowed', 'already', 'also', 'alternative', 'always', 'android', 'androidruntime', 'angular', 'animation', 'annotation', 'another', 'answer', 'anyone', 'anything', 'apache', 'api', 'apk', 'app', 'appear', 'appears', 'append', 'apple', 'application', 'apply', 'appreciated', 'approach', 'apps', 'area', 'arg', 'args', 'argument', 'around', 'array', 'arraylist', 'article', 'artifactid', 'asp', 'assembly', 'assert', 'assume', 'async', 'attempt', 'attr', 'attribute', 'auth', 'authentication', 'auto', 'automatically', 'available', 'avoid', 'await',\n",
    " 'b', 'back', 'background', 'bad', 'bar', 'base', 'based', 'basic', 'basically', 'bean', 'begin', 'behavior', 'best', 'better', 'big', 'bin', 'binary', 'bind', 'binding', 'bit', 'bitmap','black', 'block', 'blog', 'body', 'book', 'bool', 'boolean','boost','boot', 'bootstrap', 'border', 'bottom', 'box', 'br', 'branch', 'break', 'browser', 'buffer', 'bug', 'build', 'builder', 'building', 'built', 'bundle', 'button', 'byte', 'c', 'cache', 'call', 'callback', 'called', 'calling','cannot', 'canvas', 'card', 'case', 'cast', 'catch', 'category', 'cause', 'cell', 'center', 'certain', 'certificate', 'change', 'changed', 'changing', 'char', 'character', 'check', 'checked', 'checking', 'child', 'chrome', 'class', 'clean', 'clear', 'click', 'client', 'close', 'code', 'col', 'collection', 'color', 'column', 'com', 'come', 'command','comment', 'commit', 'common', 'compare', 'compile', 'compiler', 'complete', 'component', 'condition', 'config', 'configuration', 'connect', 'connection',\n",
    " 'console', 'const', 'constant', 'constraint', 'constructor', 'contain', 'container', 'contains', 'content', 'context', 'control', 'controller', 'convert', 'copy', 'core', 'correct', 'correctly', 'could', 'count', 'counter', 'course', 'cout', 'cpp', 'crash', 'create', 'created', 'creating', 'crypto', 'cs', 'csv', 'current', 'currently', 'cursor', 'custom', 'data', 'database', 'dataframe', 'date', 'datetime', 'day','db', 'debug', 'decimal', 'declaration', 'declare', 'def', 'default', 'define', 'defined', 'definition', 'delegate', 'delete', 'dependency', 'description', 'design', 'detail', 'detect', 'determine', 'dev', 'developer', 'development',\n",
    " 'device', 'df', 'dialog', 'dict','dictionary', 'difference', 'different', 'dir', 'directly', 'directory', 'disable', 'display', 'dist', 'div', 'django', 'dll', 'doc', 'document', 'documentation', 'dom', 'domain', 'done', 'double', 'download', 'dp', 'drawable', 'driver', 'due', 'duplicate', 'dynamic', 'dynamically', 'e', 'easy', 'echo', 'eclipse', 'edit', 'effect', 'either', 'element', 'else', 'email', 'empty', 'emulator', 'en', 'enable', 'encoding', 'end', 'engine', 'enough', 'enter','entire', 'entity', 'entry', 'enum', 'env', 'environment', 'equal', 'equivalent', 'err', 'error', 'etc', 'even','event', 'every', 'everything', 'exactly', 'example', 'except', 'exception', 'exe', 'execute', 'execution', 'exist', 'existing', 'exists', 'exit', 'expect','expected', 'explain', 'export', 'express', 'expression', 'extends', 'extension', 'external', 'extra', 'f', 'facebook', 'factory', 'failed', 'fails','false', 'far', 'faster', 'feature', 'feel', 'fetch', 'field', 'figure', 'file', 'filename', 'fill', 'filter', 'final', 'find', 'findviewbyid', 'fine', 'firefox', 'first', 'fix', 'fixed', 'flag', 'float', 'folder', 'following', 'follows', 'font', 'foo', 'force', 'foreach', 'form', 'format', 'found', 'fragment', 'frame', 'framework', 'free', 'full', 'func', 'function', 'functionality', 'g', 'gcc', 'gem', 'general', 'generate',\n",
    " 'generated', 'generic','get', 'getting', 'git', 'github', 'give', 'given', 'global', 'go', 'going','good', 'google', 'got', 'gradle','graph', 'great', 'group', 'groupid', 'guess', 'h', 'handle', 'handler', 'happens', 'hard', 'hash', 'head', 'header', 'height', 'hello', 'help', 'helper', 'hibernate', 'hidden', 'hide', 'home', 'host','however', 'href', 'html', 'http', 'icon', 'id', 'idea', 'identity', 'ie', 'ignore', 'image', 'imageview', 'img', 'implement', 'implementation',\n",
    " 'implemented', 'import', 'important', 'include', 'index', 'info', 'information', 'init', 'initialize', 'inline', 'inner', 'input', 'insert', 'inside', 'install', 'installed', 'instance', 'instead', 'int', 'integer', 'intent', 'interface', 'internal', 'invalid', 'invoke', 'io','ip', 'iphone', 'issue', 'item', 'j', 'jar', 'java', 'javascript', 'jdk', 'job', 'join', 'jpg', 'jquery', 'json', 'junit', 'k', 'keep', 'key', 'keyboard', 'kind', 'know', 'l', 'label', 'lambda', 'lang', 'language', 'large', 'last', 'later', 'latest', 'layer', 'layout', 'layoutinflater', 'le','least', 'left', 'length', 'let', 'level', 'li', 'lib', 'library', 'like', 'limit', 'line', 'linearlayout', 'link', 'linq', 'linux', 'list', 'listview', 'little', 'load', 'loaded', 'loading', 'local', 'localhost', 'location', 'lock', 'log', 'logger', 'logging', 'login', 'long', 'look', 'looked','looking', 'loop', 'lot', 'mac', 'machine',\n",
    " 'made', 'main', 'make', 'making', 'manager', 'manifest', 'manually', 'many', 'map', 'mapping', 'margin', 'master','match', 'math','matter', 'maven', 'max', 'may','maybe', 'mean', 'medium', 'member', 'memory', 'menu', 'merge', 'message', 'meta', 'method', 'microsoft', 'might', 'min', 'missing', 'mm', 'mobile', 'modal', 'mode', 'model', 'module', 'month', 'move', 'much', 'multiple', 'must', 'mvc', 'myapp', 'myclass', 'mysql', 'n', 'name', 'named', 'namespace', 'native', 'navigation', 'need', 'needed', 'net', 'network', 'never', 'new', 'next', 'ng', 'nice', 'nil', 'node', 'non', 'none', 'normal', 'note', 'nothing', 'notification', 'np', 'npm', 'nsstring', 'null', 'num', 'number', 'numpy', 'obj','object', 'objective', 'ok', 'old', 'onclick', 'oncreate', 'one', 'open', 'operation', 'operator', 'option', 'order', 'org', 'orientation', 'origin', 'original', 'output', 'overflow', 'override', 'p', 'package', 'padding', 'page', 'panda', 'param', 'parameter', 'params', 'parent', 'parse', 'part', 'particular', 'passed', 'password', 'path', 'pattern', 'pdf', 'people', 'per', 'perform', 'performance', 'permission', 'person', 'phone', 'php', 'pip', 'place', 'platform', 'play', 'please', 'plot', 'plugin', 'plugins', 'png', 'point', 'pointer', 'port','position', 'possible', 'post', 'practice', 'pretty', 'prevent', 'previous', 'primary', 'print', 'println', 'private', 'probably', 'problem', 'process', 'product', 'profile', 'program', 'programmatically', 'programming', 'project', 'prop', 'properly', 'property', 'protected', 'provide', 'provider', 'ptr', 'public', 'pull', 'purpose', 'push', 'put','px', 'py', 'python', 'q', 'query', 'question', 'queue', 'quite', 'r', 'rail', 'random', 'range', 'rather', 'rb', 'react', 'read', 'reading', 'ready', 'real', 'really', 'reason', 'recently', 'record', 'recyclerview',\n",
    " 'red', 'ref', 'reference', 'reflect', 'regex', 'related', 'release', 'remote', 'remove', 'render', 'replace', 'repo', 'report', 'repository', 'request', 'require', 'required', 'requirement', 'requires', 'reset', 'resolve', 'resource', 'response','rest', 'result', 'return', 'returned', 'right', 'role', 'root','route', 'row', 'ruby', 'rule','run', 'running', 'runtime', 'rvm','sample', 'save', 'savedinstancestate', 'say', 'schema', 'scope', 'screen', 'script', 'scroll', 'sdk', 'search', 'second', 'section', 'security',\n",
    " 'see', 'seem', 'seems', 'seen', 'select', 'selected', 'selector', 'self', 'send', 'separate', 'server', 'service', 'servlet', 'session', 'set', 'setting', 'setup', 'several', 'shape', 'share', 'shared', 'short', 'show', 'shown', 'side', 'similar', 'simple', 'simply', 'since', 'single', 'site', 'situation', 'size', 'small', 'socket', 'solution', 'solve', 'someone', 'something', 'sometimes', 'sort', 'source', 'space', 'span', 'specific', 'specified', 'specify', 'split', 'spring', 'springframework', 'sql', 'src', 'ssl', 'stack', 'standard', 'start', 'started','starting', 'state', 'statement', 'static','status', 'std', 'step', 'still', 'stop', 'store', 'stored', 'str', 'stream', 'string', 'struct', 'structure', 'studio', 'stuff', 'style', 'sub', 'submit', 'success', 'suggestion', 'sum', 'sun', 'super', 'support', 'sure', 'svg', 'swift', 'switch', 'symbol', 'symfony', 'syntax', 'system', 'tab', 'table', 'tag', 'take', 'target',\n",
    " 'task', 'td', 'tell', 'temp', 'template', 'test', 'testing', 'text', 'textview', 'th', 'thank', 'thanks', 'theme', 'thing', 'think', 'though', 'thought', 'thread', 'three', 'throw', 'time', 'timeout', 'timer', 'title', 'tmp', 'token', 'tool', 'top', 'tostring', 'total', 'tr', 'transaction', 'transform', 'tree', 'tried', 'trigger', 'true', 'try', 'trying', 'tuple', 'turn', 'tutorial', 'two', 'txt', 'type', 'u', 'ui', 'ul', 'unable', 'undefined', 'understand', 'understanding', 'unique', 'unit', 'unknown', 'unsigned', 'update', 'updated', 'upload', 'uri', 'url', 'us', 'usage', 'use', 'used', 'useful', 'user', 'username', 'using', 'usr', 'utf', 'util', 'v', 'val', 'valid', 'validation', 'value', 'var', 'varchar', 'variable', 'vector', 'version', 'vertical', 'via', 'video', 'view', 'virtual', 'visible','visual', 'void', 'w', 'wait', 'want', 'wanted', 'warning',\n",
    " 'way', 'web', 'website', 'well', 'whether', 'white', 'whole', 'widget', 'width', 'win', 'window', 'within', 'without', 'wondering', 'word', 'work', 'worked', 'worker', 'working', 'world', 'would', 'wrap', 'write', 'writeline', 'writing', 'written', 'wrong', 'www', 'x', 'xcode', 'xml', 'xmlns', 'year', 'yes', 'yet','z', 'zero', 'zygoteinit']"
   ]
  },
  {
   "cell_type": "code",
   "execution_count": 123,
   "metadata": {},
   "outputs": [
    {
     "data": {
      "text/plain": [
       "996"
      ]
     },
     "execution_count": 123,
     "metadata": {},
     "output_type": "execute_result"
    }
   ],
   "source": [
    "len(imported_features)"
   ]
  },
  {
   "cell_type": "code",
   "execution_count": 120,
   "metadata": {},
   "outputs": [
    {
     "name": "stdout",
     "output_type": "stream",
     "text": [
      "['alloc', 'allowed', 'area', 'assert', 'auth', 'authentication', 'await', 'bitmap', 'black', 'boot', 'card', 'clean', 'counter', 'crypto', 'decimal', 'determine', 'dict', 'dist', 'emulator', 'entire', 'express', 'feel', 'graph', 'helper', 'identity', 'important', 'initialize', 'inner', 'ip', 'jpg', 'manifest', 'mapping', 'matter', 'modal', 'myapp', 'ng', 'npm', 'objective', 'plugins', 'ready', 'recyclerview', 'requirement', 'ssl', 'svg', 'temp', 'timeout', 'timer', 'trigger', 'tuple', 'varchar', 'win', 'worker']\n"
     ]
    }
   ],
   "source": [
    "# mots qui ne s'importe pas par csv\n",
    "words=[]\n",
    "for i in imported_features:\n",
    "    if i not in feature_names:\n",
    "        words.append(i)\n",
    "print(words)"
   ]
  },
  {
   "cell_type": "code",
   "execution_count": 50,
   "metadata": {},
   "outputs": [
    {
     "data": {
      "text/plain": [
       "86969"
      ]
     },
     "execution_count": 50,
     "metadata": {},
     "output_type": "execute_result"
    }
   ],
   "source": [
    "# Importation des stopwords\n",
    "list_sw = []\n",
    "with open('list_stop_words.csv', 'r') as data:\n",
    "    for line in csv.reader(data):\n",
    "        list_sw.append(line)\n",
    "\n",
    "    # Transforme la liste de listes en liste\n",
    "sw = [item for sublist in list_sw for item in sublist]\n",
    "stop_words = set(sw)\n",
    "len(stop_words)"
   ]
  },
  {
   "cell_type": "markdown",
   "metadata": {},
   "source": [
    "## Traitement des données et du modèle"
   ]
  },
  {
   "cell_type": "code",
   "execution_count": 121,
   "metadata": {},
   "outputs": [
    {
     "data": {
      "text/plain": [
       "<34805x981 sparse matrix of type '<class 'numpy.float64'>'\n",
       "\twith 1055095 stored elements in Compressed Sparse Row format>"
      ]
     },
     "execution_count": 121,
     "metadata": {},
     "output_type": "execute_result"
    }
   ],
   "source": [
    "# Cleaning, tokenizing and lemmatizing\n",
    "class LemmaTokenizer:\n",
    "    def __init__(self):\n",
    "        self.wnl = WordNetLemmatizer()\n",
    "    def __call__(self, doc):\n",
    "        token = RegexpTokenizer(r'[a-zA-Z]+')\n",
    "        return [self.wnl.lemmatize(t) for t in token.tokenize(doc.lower()) if t not in stop_words]\n",
    "wnl = WordNetLemmatizer()    \n",
    "tokenizer = lambda x: [wnl.lemmatize(x) for x in token.tokenize(x.lower()) if x not in stop_words]\n",
    "\n",
    "\n",
    "#Tf-Idf\n",
    "count = CountVectorizer(tokenizer=LemmaTokenizer(),\n",
    "                        stop_words=stop_words, analyzer='word')\n",
    "tfidf = TfidfTransformer()\n",
    "pipe = make_pipeline(count, tfidf)\n",
    "\n",
    "\n",
    "pipe.fit(X_df['Body'])\n",
    "X_features = pipe.transform(X_df['Body'])\n",
    "X_features"
   ]
  },
  {
   "cell_type": "code",
   "execution_count": 122,
   "metadata": {},
   "outputs": [
    {
     "ename": "ValueError",
     "evalue": "Shape of passed values is (34805, 981), indices imply (34805, 996)",
     "output_type": "error",
     "traceback": [
      "\u001b[1;31m---------------------------------------------------------------------------\u001b[0m",
      "\u001b[1;31mValueError\u001b[0m                                Traceback (most recent call last)",
      "\u001b[1;32m~\\Anaconda3\\lib\\site-packages\\pandas\\core\\internals\\managers.py\u001b[0m in \u001b[0;36mcreate_block_manager_from_blocks\u001b[1;34m(blocks, axes)\u001b[0m\n\u001b[0;32m   1677\u001b[0m                 blocks = [\n\u001b[1;32m-> 1678\u001b[1;33m                     \u001b[0mmake_block\u001b[0m\u001b[1;33m(\u001b[0m\u001b[0mvalues\u001b[0m\u001b[1;33m=\u001b[0m\u001b[0mblocks\u001b[0m\u001b[1;33m[\u001b[0m\u001b[1;36m0\u001b[0m\u001b[1;33m]\u001b[0m\u001b[1;33m,\u001b[0m \u001b[0mplacement\u001b[0m\u001b[1;33m=\u001b[0m\u001b[0mslice\u001b[0m\u001b[1;33m(\u001b[0m\u001b[1;36m0\u001b[0m\u001b[1;33m,\u001b[0m \u001b[0mlen\u001b[0m\u001b[1;33m(\u001b[0m\u001b[0maxes\u001b[0m\u001b[1;33m[\u001b[0m\u001b[1;36m0\u001b[0m\u001b[1;33m]\u001b[0m\u001b[1;33m)\u001b[0m\u001b[1;33m)\u001b[0m\u001b[1;33m)\u001b[0m\u001b[1;33m\u001b[0m\u001b[1;33m\u001b[0m\u001b[0m\n\u001b[0m\u001b[0;32m   1679\u001b[0m                 ]\n",
      "\u001b[1;32m~\\Anaconda3\\lib\\site-packages\\pandas\\core\\internals\\blocks.py\u001b[0m in \u001b[0;36mmake_block\u001b[1;34m(values, placement, klass, ndim, dtype, fastpath)\u001b[0m\n\u001b[0;32m   3266\u001b[0m \u001b[1;33m\u001b[0m\u001b[0m\n\u001b[1;32m-> 3267\u001b[1;33m     \u001b[1;32mreturn\u001b[0m \u001b[0mklass\u001b[0m\u001b[1;33m(\u001b[0m\u001b[0mvalues\u001b[0m\u001b[1;33m,\u001b[0m \u001b[0mndim\u001b[0m\u001b[1;33m=\u001b[0m\u001b[0mndim\u001b[0m\u001b[1;33m,\u001b[0m \u001b[0mplacement\u001b[0m\u001b[1;33m=\u001b[0m\u001b[0mplacement\u001b[0m\u001b[1;33m)\u001b[0m\u001b[1;33m\u001b[0m\u001b[1;33m\u001b[0m\u001b[0m\n\u001b[0m\u001b[0;32m   3268\u001b[0m \u001b[1;33m\u001b[0m\u001b[0m\n",
      "\u001b[1;32m~\\Anaconda3\\lib\\site-packages\\pandas\\core\\internals\\blocks.py\u001b[0m in \u001b[0;36m__init__\u001b[1;34m(self, values, placement, ndim)\u001b[0m\n\u001b[0;32m    127\u001b[0m                 \u001b[1;34m\"Wrong number of items passed {val}, placement implies \"\u001b[0m\u001b[1;33m\u001b[0m\u001b[1;33m\u001b[0m\u001b[0m\n\u001b[1;32m--> 128\u001b[1;33m                 \u001b[1;34m\"{mgr}\"\u001b[0m\u001b[1;33m.\u001b[0m\u001b[0mformat\u001b[0m\u001b[1;33m(\u001b[0m\u001b[0mval\u001b[0m\u001b[1;33m=\u001b[0m\u001b[0mlen\u001b[0m\u001b[1;33m(\u001b[0m\u001b[0mself\u001b[0m\u001b[1;33m.\u001b[0m\u001b[0mvalues\u001b[0m\u001b[1;33m)\u001b[0m\u001b[1;33m,\u001b[0m \u001b[0mmgr\u001b[0m\u001b[1;33m=\u001b[0m\u001b[0mlen\u001b[0m\u001b[1;33m(\u001b[0m\u001b[0mself\u001b[0m\u001b[1;33m.\u001b[0m\u001b[0mmgr_locs\u001b[0m\u001b[1;33m)\u001b[0m\u001b[1;33m)\u001b[0m\u001b[1;33m\u001b[0m\u001b[1;33m\u001b[0m\u001b[0m\n\u001b[0m\u001b[0;32m    129\u001b[0m             )\n",
      "\u001b[1;31mValueError\u001b[0m: Wrong number of items passed 981, placement implies 996",
      "\nDuring handling of the above exception, another exception occurred:\n",
      "\u001b[1;31mValueError\u001b[0m                                Traceback (most recent call last)",
      "\u001b[1;32m<ipython-input-122-38ef322175f6>\u001b[0m in \u001b[0;36m<module>\u001b[1;34m\u001b[0m\n\u001b[1;32m----> 1\u001b[1;33m \u001b[0mmX_feature\u001b[0m \u001b[1;33m=\u001b[0m  \u001b[0mpd\u001b[0m\u001b[1;33m.\u001b[0m\u001b[0mDataFrame\u001b[0m\u001b[1;33m(\u001b[0m\u001b[0mX_features\u001b[0m\u001b[1;33m.\u001b[0m\u001b[0mtoarray\u001b[0m\u001b[1;33m(\u001b[0m\u001b[1;33m)\u001b[0m\u001b[1;33m,\u001b[0m \u001b[0mcolumns\u001b[0m \u001b[1;33m=\u001b[0m \u001b[0mimported_features\u001b[0m\u001b[1;33m)\u001b[0m\u001b[1;33m\u001b[0m\u001b[1;33m\u001b[0m\u001b[0m\n\u001b[0m\u001b[0;32m      2\u001b[0m \u001b[0mmx_feature\u001b[0m\u001b[1;33m\u001b[0m\u001b[1;33m\u001b[0m\u001b[0m\n",
      "\u001b[1;32m~\\Anaconda3\\lib\\site-packages\\pandas\\core\\frame.py\u001b[0m in \u001b[0;36m__init__\u001b[1;34m(self, data, index, columns, dtype, copy)\u001b[0m\n\u001b[0;32m    438\u001b[0m                 \u001b[0mmgr\u001b[0m \u001b[1;33m=\u001b[0m \u001b[0minit_dict\u001b[0m\u001b[1;33m(\u001b[0m\u001b[1;33m{\u001b[0m\u001b[0mdata\u001b[0m\u001b[1;33m.\u001b[0m\u001b[0mname\u001b[0m\u001b[1;33m:\u001b[0m \u001b[0mdata\u001b[0m\u001b[1;33m}\u001b[0m\u001b[1;33m,\u001b[0m \u001b[0mindex\u001b[0m\u001b[1;33m,\u001b[0m \u001b[0mcolumns\u001b[0m\u001b[1;33m,\u001b[0m \u001b[0mdtype\u001b[0m\u001b[1;33m=\u001b[0m\u001b[0mdtype\u001b[0m\u001b[1;33m)\u001b[0m\u001b[1;33m\u001b[0m\u001b[1;33m\u001b[0m\u001b[0m\n\u001b[0;32m    439\u001b[0m             \u001b[1;32melse\u001b[0m\u001b[1;33m:\u001b[0m\u001b[1;33m\u001b[0m\u001b[1;33m\u001b[0m\u001b[0m\n\u001b[1;32m--> 440\u001b[1;33m                 \u001b[0mmgr\u001b[0m \u001b[1;33m=\u001b[0m \u001b[0minit_ndarray\u001b[0m\u001b[1;33m(\u001b[0m\u001b[0mdata\u001b[0m\u001b[1;33m,\u001b[0m \u001b[0mindex\u001b[0m\u001b[1;33m,\u001b[0m \u001b[0mcolumns\u001b[0m\u001b[1;33m,\u001b[0m \u001b[0mdtype\u001b[0m\u001b[1;33m=\u001b[0m\u001b[0mdtype\u001b[0m\u001b[1;33m,\u001b[0m \u001b[0mcopy\u001b[0m\u001b[1;33m=\u001b[0m\u001b[0mcopy\u001b[0m\u001b[1;33m)\u001b[0m\u001b[1;33m\u001b[0m\u001b[1;33m\u001b[0m\u001b[0m\n\u001b[0m\u001b[0;32m    441\u001b[0m \u001b[1;33m\u001b[0m\u001b[0m\n\u001b[0;32m    442\u001b[0m         \u001b[1;31m# For data is list-like, or Iterable (will consume into list)\u001b[0m\u001b[1;33m\u001b[0m\u001b[1;33m\u001b[0m\u001b[1;33m\u001b[0m\u001b[0m\n",
      "\u001b[1;32m~\\Anaconda3\\lib\\site-packages\\pandas\\core\\internals\\construction.py\u001b[0m in \u001b[0;36minit_ndarray\u001b[1;34m(values, index, columns, dtype, copy)\u001b[0m\n\u001b[0;32m    211\u001b[0m         \u001b[0mblock_values\u001b[0m \u001b[1;33m=\u001b[0m \u001b[1;33m[\u001b[0m\u001b[0mvalues\u001b[0m\u001b[1;33m]\u001b[0m\u001b[1;33m\u001b[0m\u001b[1;33m\u001b[0m\u001b[0m\n\u001b[0;32m    212\u001b[0m \u001b[1;33m\u001b[0m\u001b[0m\n\u001b[1;32m--> 213\u001b[1;33m     \u001b[1;32mreturn\u001b[0m \u001b[0mcreate_block_manager_from_blocks\u001b[0m\u001b[1;33m(\u001b[0m\u001b[0mblock_values\u001b[0m\u001b[1;33m,\u001b[0m \u001b[1;33m[\u001b[0m\u001b[0mcolumns\u001b[0m\u001b[1;33m,\u001b[0m \u001b[0mindex\u001b[0m\u001b[1;33m]\u001b[0m\u001b[1;33m)\u001b[0m\u001b[1;33m\u001b[0m\u001b[1;33m\u001b[0m\u001b[0m\n\u001b[0m\u001b[0;32m    214\u001b[0m \u001b[1;33m\u001b[0m\u001b[0m\n\u001b[0;32m    215\u001b[0m \u001b[1;33m\u001b[0m\u001b[0m\n",
      "\u001b[1;32m~\\Anaconda3\\lib\\site-packages\\pandas\\core\\internals\\managers.py\u001b[0m in \u001b[0;36mcreate_block_manager_from_blocks\u001b[1;34m(blocks, axes)\u001b[0m\n\u001b[0;32m   1686\u001b[0m         \u001b[0mblocks\u001b[0m \u001b[1;33m=\u001b[0m \u001b[1;33m[\u001b[0m\u001b[0mgetattr\u001b[0m\u001b[1;33m(\u001b[0m\u001b[0mb\u001b[0m\u001b[1;33m,\u001b[0m \u001b[1;34m\"values\"\u001b[0m\u001b[1;33m,\u001b[0m \u001b[0mb\u001b[0m\u001b[1;33m)\u001b[0m \u001b[1;32mfor\u001b[0m \u001b[0mb\u001b[0m \u001b[1;32min\u001b[0m \u001b[0mblocks\u001b[0m\u001b[1;33m]\u001b[0m\u001b[1;33m\u001b[0m\u001b[1;33m\u001b[0m\u001b[0m\n\u001b[0;32m   1687\u001b[0m         \u001b[0mtot_items\u001b[0m \u001b[1;33m=\u001b[0m \u001b[0msum\u001b[0m\u001b[1;33m(\u001b[0m\u001b[0mb\u001b[0m\u001b[1;33m.\u001b[0m\u001b[0mshape\u001b[0m\u001b[1;33m[\u001b[0m\u001b[1;36m0\u001b[0m\u001b[1;33m]\u001b[0m \u001b[1;32mfor\u001b[0m \u001b[0mb\u001b[0m \u001b[1;32min\u001b[0m \u001b[0mblocks\u001b[0m\u001b[1;33m)\u001b[0m\u001b[1;33m\u001b[0m\u001b[1;33m\u001b[0m\u001b[0m\n\u001b[1;32m-> 1688\u001b[1;33m         \u001b[0mconstruction_error\u001b[0m\u001b[1;33m(\u001b[0m\u001b[0mtot_items\u001b[0m\u001b[1;33m,\u001b[0m \u001b[0mblocks\u001b[0m\u001b[1;33m[\u001b[0m\u001b[1;36m0\u001b[0m\u001b[1;33m]\u001b[0m\u001b[1;33m.\u001b[0m\u001b[0mshape\u001b[0m\u001b[1;33m[\u001b[0m\u001b[1;36m1\u001b[0m\u001b[1;33m:\u001b[0m\u001b[1;33m]\u001b[0m\u001b[1;33m,\u001b[0m \u001b[0maxes\u001b[0m\u001b[1;33m,\u001b[0m \u001b[0me\u001b[0m\u001b[1;33m)\u001b[0m\u001b[1;33m\u001b[0m\u001b[1;33m\u001b[0m\u001b[0m\n\u001b[0m\u001b[0;32m   1689\u001b[0m \u001b[1;33m\u001b[0m\u001b[0m\n\u001b[0;32m   1690\u001b[0m \u001b[1;33m\u001b[0m\u001b[0m\n",
      "\u001b[1;32m~\\Anaconda3\\lib\\site-packages\\pandas\\core\\internals\\managers.py\u001b[0m in \u001b[0;36mconstruction_error\u001b[1;34m(tot_items, block_shape, axes, e)\u001b[0m\n\u001b[0;32m   1717\u001b[0m         \u001b[1;32mraise\u001b[0m \u001b[0mValueError\u001b[0m\u001b[1;33m(\u001b[0m\u001b[1;34m\"Empty data passed with indices specified.\"\u001b[0m\u001b[1;33m)\u001b[0m\u001b[1;33m\u001b[0m\u001b[1;33m\u001b[0m\u001b[0m\n\u001b[0;32m   1718\u001b[0m     raise ValueError(\n\u001b[1;32m-> 1719\u001b[1;33m         \u001b[1;34m\"Shape of passed values is {0}, indices imply {1}\"\u001b[0m\u001b[1;33m.\u001b[0m\u001b[0mformat\u001b[0m\u001b[1;33m(\u001b[0m\u001b[0mpassed\u001b[0m\u001b[1;33m,\u001b[0m \u001b[0mimplied\u001b[0m\u001b[1;33m)\u001b[0m\u001b[1;33m\u001b[0m\u001b[1;33m\u001b[0m\u001b[0m\n\u001b[0m\u001b[0;32m   1720\u001b[0m     )\n\u001b[0;32m   1721\u001b[0m \u001b[1;33m\u001b[0m\u001b[0m\n",
      "\u001b[1;31mValueError\u001b[0m: Shape of passed values is (34805, 981), indices imply (34805, 996)"
     ]
    }
   ],
   "source": [
    "mX_feature =  pd.DataFrame(X_features.toarray(), columns = imported_features)\n",
    "mx_feature"
   ]
  },
  {
   "cell_type": "markdown",
   "metadata": {},
   "source": [
    "## Entrée de l'utilisateur"
   ]
  },
  {
   "cell_type": "code",
   "execution_count": 8,
   "metadata": {},
   "outputs": [
    {
     "name": "stdout",
     "output_type": "stream",
     "text": [
      "Title: 'Hello, these are 3 examples to show the different steps of the cleaning process.'\n"
     ]
    }
   ],
   "source": [
    "# User's title input\n",
    "title = input(\"Title: \")"
   ]
  },
  {
   "cell_type": "code",
   "execution_count": 9,
   "metadata": {},
   "outputs": [
    {
     "name": "stdout",
     "output_type": "stream",
     "text": [
      "Body: 'Hello, these are 3 examples to show the\n"
     ]
    }
   ],
   "source": [
    "# User's body imput\n",
    "body = input(\"Body: \")"
   ]
  },
  {
   "cell_type": "code",
   "execution_count": 10,
   "metadata": {},
   "outputs": [
    {
     "data": {
      "text/html": [
       "<div>\n",
       "<style scoped>\n",
       "    .dataframe tbody tr th:only-of-type {\n",
       "        vertical-align: middle;\n",
       "    }\n",
       "\n",
       "    .dataframe tbody tr th {\n",
       "        vertical-align: top;\n",
       "    }\n",
       "\n",
       "    .dataframe thead th {\n",
       "        text-align: right;\n",
       "    }\n",
       "</style>\n",
       "<table border=\"1\" class=\"dataframe\">\n",
       "  <thead>\n",
       "    <tr style=\"text-align: right;\">\n",
       "      <th></th>\n",
       "      <th>Question</th>\n",
       "    </tr>\n",
       "  </thead>\n",
       "  <tbody>\n",
       "    <tr>\n",
       "      <td>0</td>\n",
       "      <td>'Hello, these are 3 examples to show the diffe...</td>\n",
       "    </tr>\n",
       "  </tbody>\n",
       "</table>\n",
       "</div>"
      ],
      "text/plain": [
       "                                            Question\n",
       "0  'Hello, these are 3 examples to show the diffe..."
      ]
     },
     "execution_count": 10,
     "metadata": {},
     "output_type": "execute_result"
    }
   ],
   "source": [
    "# Jointure du titre et du corps pour créer la question\n",
    "question = title + \" \" + body\n",
    "\n",
    "# Créer un dataframe contenant la question\n",
    "df_question = pd.DataFrame({'Question': [question]})\n",
    "df_question.head()"
   ]
  },
  {
   "cell_type": "markdown",
   "metadata": {},
   "source": [
    "## Affichage du tags"
   ]
  },
  {
   "cell_type": "code",
   "execution_count": 87,
   "metadata": {},
   "outputs": [
    {
     "data": {
      "text/html": [
       "<div>\n",
       "<style scoped>\n",
       "    .dataframe tbody tr th:only-of-type {\n",
       "        vertical-align: middle;\n",
       "    }\n",
       "\n",
       "    .dataframe tbody tr th {\n",
       "        vertical-align: top;\n",
       "    }\n",
       "\n",
       "    .dataframe thead th {\n",
       "        text-align: right;\n",
       "    }\n",
       "</style>\n",
       "<table border=\"1\" class=\"dataframe\">\n",
       "  <thead>\n",
       "    <tr style=\"text-align: right;\">\n",
       "      <th></th>\n",
       "      <th>0</th>\n",
       "      <th>1</th>\n",
       "      <th>2</th>\n",
       "      <th>3</th>\n",
       "      <th>4</th>\n",
       "      <th>5</th>\n",
       "      <th>6</th>\n",
       "      <th>7</th>\n",
       "      <th>8</th>\n",
       "      <th>9</th>\n",
       "      <th>...</th>\n",
       "      <th>971</th>\n",
       "      <th>972</th>\n",
       "      <th>973</th>\n",
       "      <th>974</th>\n",
       "      <th>975</th>\n",
       "      <th>976</th>\n",
       "      <th>977</th>\n",
       "      <th>978</th>\n",
       "      <th>979</th>\n",
       "      <th>980</th>\n",
       "    </tr>\n",
       "  </thead>\n",
       "  <tbody>\n",
       "    <tr>\n",
       "      <td>0</td>\n",
       "      <td>0.0</td>\n",
       "      <td>0.0</td>\n",
       "      <td>0.0</td>\n",
       "      <td>0.0</td>\n",
       "      <td>0.0</td>\n",
       "      <td>0.0</td>\n",
       "      <td>0.0</td>\n",
       "      <td>0.0</td>\n",
       "      <td>0.0</td>\n",
       "      <td>0.0</td>\n",
       "      <td>...</td>\n",
       "      <td>0.0</td>\n",
       "      <td>0.0</td>\n",
       "      <td>0.0</td>\n",
       "      <td>0.0</td>\n",
       "      <td>0.0</td>\n",
       "      <td>0.0</td>\n",
       "      <td>0.0</td>\n",
       "      <td>0.0</td>\n",
       "      <td>0.0</td>\n",
       "      <td>0.0</td>\n",
       "    </tr>\n",
       "  </tbody>\n",
       "</table>\n",
       "<p>1 rows × 981 columns</p>\n",
       "</div>"
      ],
      "text/plain": [
       "   0    1    2    3    4    5    6    7    8    9    ...  971  972  973  974  \\\n",
       "0  0.0  0.0  0.0  0.0  0.0  0.0  0.0  0.0  0.0  0.0  ...  0.0  0.0  0.0  0.0   \n",
       "\n",
       "   975  976  977  978  979  980  \n",
       "0  0.0  0.0  0.0  0.0  0.0  0.0  \n",
       "\n",
       "[1 rows x 981 columns]"
      ]
     },
     "execution_count": 87,
     "metadata": {},
     "output_type": "execute_result"
    }
   ],
   "source": [
    "features = pipe.transform(df_question)\n",
    "train_mx =  pd.DataFrame(features.toarray())\n",
    "train_mx\n",
    "#X_scaled = std_scale.transform(train_mx)"
   ]
  },
  {
   "cell_type": "code",
   "execution_count": 88,
   "metadata": {},
   "outputs": [
    {
     "ename": "ValueError",
     "evalue": "X has 981 features, but this StandardScaler is expecting 977 features as input.",
     "output_type": "error",
     "traceback": [
      "\u001b[1;31m---------------------------------------------------------------------------\u001b[0m",
      "\u001b[1;31mValueError\u001b[0m                                Traceback (most recent call last)",
      "\u001b[1;32m<ipython-input-88-c6331489560b>\u001b[0m in \u001b[0;36m<module>\u001b[1;34m\u001b[0m\n\u001b[0;32m      1\u001b[0m \u001b[0mfeatures\u001b[0m \u001b[1;33m=\u001b[0m \u001b[0mpipe\u001b[0m\u001b[1;33m.\u001b[0m\u001b[0mtransform\u001b[0m\u001b[1;33m(\u001b[0m\u001b[0mdf_question\u001b[0m\u001b[1;33m)\u001b[0m\u001b[1;33m\u001b[0m\u001b[1;33m\u001b[0m\u001b[0m\n\u001b[0;32m      2\u001b[0m \u001b[0mmx_feature\u001b[0m \u001b[1;33m=\u001b[0m \u001b[0mpd\u001b[0m\u001b[1;33m.\u001b[0m\u001b[0mDataFrame\u001b[0m\u001b[1;33m(\u001b[0m\u001b[0mfeatures\u001b[0m\u001b[1;33m.\u001b[0m\u001b[0mtoarray\u001b[0m\u001b[1;33m(\u001b[0m\u001b[1;33m)\u001b[0m\u001b[1;33m)\u001b[0m\u001b[1;33m\u001b[0m\u001b[1;33m\u001b[0m\u001b[0m\n\u001b[1;32m----> 3\u001b[1;33m \u001b[0mstd_features\u001b[0m \u001b[1;33m=\u001b[0m \u001b[0mstd_scale\u001b[0m\u001b[1;33m.\u001b[0m\u001b[0mtransform\u001b[0m\u001b[1;33m(\u001b[0m\u001b[0mmx_feature\u001b[0m\u001b[1;33m)\u001b[0m\u001b[1;33m\u001b[0m\u001b[1;33m\u001b[0m\u001b[0m\n\u001b[0m\u001b[0;32m      4\u001b[0m \u001b[0macp\u001b[0m\u001b[1;33m=\u001b[0m\u001b[0mpca\u001b[0m\u001b[1;33m.\u001b[0m\u001b[0mtransform\u001b[0m\u001b[1;33m(\u001b[0m\u001b[0mstd_features\u001b[0m\u001b[1;33m)\u001b[0m\u001b[1;33m\u001b[0m\u001b[1;33m\u001b[0m\u001b[0m\n\u001b[0;32m      5\u001b[0m \u001b[0mpredicted_tags\u001b[0m \u001b[1;33m=\u001b[0m \u001b[0mmodel_final\u001b[0m\u001b[1;33m.\u001b[0m\u001b[0mpredict\u001b[0m\u001b[1;33m(\u001b[0m\u001b[0macp\u001b[0m\u001b[1;33m)\u001b[0m\u001b[1;33m\u001b[0m\u001b[1;33m\u001b[0m\u001b[0m\n",
      "\u001b[1;32m~\\Anaconda3\\lib\\site-packages\\sklearn\\preprocessing\\_data.py\u001b[0m in \u001b[0;36mtransform\u001b[1;34m(self, X, copy)\u001b[0m\n\u001b[0;32m    792\u001b[0m                                 \u001b[0maccept_sparse\u001b[0m\u001b[1;33m=\u001b[0m\u001b[1;34m'csr'\u001b[0m\u001b[1;33m,\u001b[0m \u001b[0mcopy\u001b[0m\u001b[1;33m=\u001b[0m\u001b[0mcopy\u001b[0m\u001b[1;33m,\u001b[0m\u001b[1;33m\u001b[0m\u001b[1;33m\u001b[0m\u001b[0m\n\u001b[0;32m    793\u001b[0m                                 \u001b[0mestimator\u001b[0m\u001b[1;33m=\u001b[0m\u001b[0mself\u001b[0m\u001b[1;33m,\u001b[0m \u001b[0mdtype\u001b[0m\u001b[1;33m=\u001b[0m\u001b[0mFLOAT_DTYPES\u001b[0m\u001b[1;33m,\u001b[0m\u001b[1;33m\u001b[0m\u001b[1;33m\u001b[0m\u001b[0m\n\u001b[1;32m--> 794\u001b[1;33m                                 force_all_finite='allow-nan')\n\u001b[0m\u001b[0;32m    795\u001b[0m \u001b[1;33m\u001b[0m\u001b[0m\n\u001b[0;32m    796\u001b[0m         \u001b[1;32mif\u001b[0m \u001b[0msparse\u001b[0m\u001b[1;33m.\u001b[0m\u001b[0missparse\u001b[0m\u001b[1;33m(\u001b[0m\u001b[0mX\u001b[0m\u001b[1;33m)\u001b[0m\u001b[1;33m:\u001b[0m\u001b[1;33m\u001b[0m\u001b[1;33m\u001b[0m\u001b[0m\n",
      "\u001b[1;32m~\\Anaconda3\\lib\\site-packages\\sklearn\\base.py\u001b[0m in \u001b[0;36m_validate_data\u001b[1;34m(self, X, y, reset, validate_separately, **check_params)\u001b[0m\n\u001b[0;32m    434\u001b[0m \u001b[1;33m\u001b[0m\u001b[0m\n\u001b[0;32m    435\u001b[0m         \u001b[1;32mif\u001b[0m \u001b[0mcheck_params\u001b[0m\u001b[1;33m.\u001b[0m\u001b[0mget\u001b[0m\u001b[1;33m(\u001b[0m\u001b[1;34m'ensure_2d'\u001b[0m\u001b[1;33m,\u001b[0m \u001b[1;32mTrue\u001b[0m\u001b[1;33m)\u001b[0m\u001b[1;33m:\u001b[0m\u001b[1;33m\u001b[0m\u001b[1;33m\u001b[0m\u001b[0m\n\u001b[1;32m--> 436\u001b[1;33m             \u001b[0mself\u001b[0m\u001b[1;33m.\u001b[0m\u001b[0m_check_n_features\u001b[0m\u001b[1;33m(\u001b[0m\u001b[0mX\u001b[0m\u001b[1;33m,\u001b[0m \u001b[0mreset\u001b[0m\u001b[1;33m=\u001b[0m\u001b[0mreset\u001b[0m\u001b[1;33m)\u001b[0m\u001b[1;33m\u001b[0m\u001b[1;33m\u001b[0m\u001b[0m\n\u001b[0m\u001b[0;32m    437\u001b[0m \u001b[1;33m\u001b[0m\u001b[0m\n\u001b[0;32m    438\u001b[0m         \u001b[1;32mreturn\u001b[0m \u001b[0mout\u001b[0m\u001b[1;33m\u001b[0m\u001b[1;33m\u001b[0m\u001b[0m\n",
      "\u001b[1;32m~\\Anaconda3\\lib\\site-packages\\sklearn\\base.py\u001b[0m in \u001b[0;36m_check_n_features\u001b[1;34m(self, X, reset)\u001b[0m\n\u001b[0;32m    378\u001b[0m                     \u001b[1;34m'X has {} features, but this {} is expecting {} features '\u001b[0m\u001b[1;33m\u001b[0m\u001b[1;33m\u001b[0m\u001b[0m\n\u001b[0;32m    379\u001b[0m                     'as input.'.format(n_features, self.__class__.__name__,\n\u001b[1;32m--> 380\u001b[1;33m                                        self.n_features_in_)\n\u001b[0m\u001b[0;32m    381\u001b[0m                 )\n\u001b[0;32m    382\u001b[0m \u001b[1;33m\u001b[0m\u001b[0m\n",
      "\u001b[1;31mValueError\u001b[0m: X has 981 features, but this StandardScaler is expecting 977 features as input."
     ]
    }
   ],
   "source": [
    "features = pipe.transform(df_question)\n",
    "mx_feature = pd.DataFrame(features.toarray())\n",
    "std_features = std_scale.transform(mx_feature)\n",
    "acp=pca.transform(std_features)\n",
    "predicted_tags = model_final.predict(acp)"
   ]
  },
  {
   "cell_type": "code",
   "execution_count": null,
   "metadata": {},
   "outputs": [],
   "source": []
  }
 ],
 "metadata": {
  "kernelspec": {
   "display_name": "Python 3",
   "language": "python",
   "name": "python3"
  },
  "language_info": {
   "codemirror_mode": {
    "name": "ipython",
    "version": 3
   },
   "file_extension": ".py",
   "mimetype": "text/x-python",
   "name": "python",
   "nbconvert_exporter": "python",
   "pygments_lexer": "ipython3",
   "version": "3.7.4"
  },
  "toc": {
   "base_numbering": 1,
   "nav_menu": {},
   "number_sections": true,
   "sideBar": true,
   "skip_h1_title": false,
   "title_cell": "Table of Contents",
   "title_sidebar": "Contents",
   "toc_cell": false,
   "toc_position": {},
   "toc_section_display": true,
   "toc_window_display": false
  }
 },
 "nbformat": 4,
 "nbformat_minor": 2
}
