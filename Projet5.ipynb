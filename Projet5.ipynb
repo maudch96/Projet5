{
 "cells": [
  {
   "cell_type": "code",
   "execution_count": 1,
   "metadata": {},
   "outputs": [],
   "source": [
    "import numpy as np\n",
    "import pandas as pd\n",
    "import matplotlib.pyplot as plt\n",
    "import requests\n",
    "from bs4 import BeautifulSoup\n",
    "from nltk.corpus import stopwords\n",
    "from nltk.tokenize import word_tokenize\n",
    "pd.options.mode.chained_assignment = None  # default='warn'\n",
    "from nltk.stem import WordNetLemmatizer"
   ]
  },
  {
   "cell_type": "code",
   "execution_count": 2,
   "metadata": {},
   "outputs": [],
   "source": [
    "test_df = pd.read_csv('test.csv')\n",
    "train_df = pd.read_csv('train.csv')"
   ]
  },
  {
   "cell_type": "code",
   "execution_count": 3,
   "metadata": {},
   "outputs": [
    {
     "data": {
      "text/html": [
       "<div>\n",
       "<style scoped>\n",
       "    .dataframe tbody tr th:only-of-type {\n",
       "        vertical-align: middle;\n",
       "    }\n",
       "\n",
       "    .dataframe tbody tr th {\n",
       "        vertical-align: top;\n",
       "    }\n",
       "\n",
       "    .dataframe thead th {\n",
       "        text-align: right;\n",
       "    }\n",
       "</style>\n",
       "<table border=\"1\" class=\"dataframe\">\n",
       "  <thead>\n",
       "    <tr style=\"text-align: right;\">\n",
       "      <th></th>\n",
       "      <th>Id</th>\n",
       "      <th>Score</th>\n",
       "      <th>ViewCount</th>\n",
       "      <th>Body</th>\n",
       "      <th>Title</th>\n",
       "      <th>Tags</th>\n",
       "      <th>AnswerCount</th>\n",
       "      <th>CommentCount</th>\n",
       "      <th>FavoriteCount</th>\n",
       "    </tr>\n",
       "  </thead>\n",
       "  <tbody>\n",
       "    <tr>\n",
       "      <td>0</td>\n",
       "      <td>14964108</td>\n",
       "      <td>26</td>\n",
       "      <td>32507.0</td>\n",
       "      <td>&lt;p&gt;I'm currently trying to build a little test...</td>\n",
       "      <td>Alternative to PhantomJS for Testing</td>\n",
       "      <td>&lt;javascript&gt;&lt;testing&gt;&lt;phantomjs&gt;</td>\n",
       "      <td>4.0</td>\n",
       "      <td>1</td>\n",
       "      <td>7.0</td>\n",
       "    </tr>\n",
       "    <tr>\n",
       "      <td>1</td>\n",
       "      <td>7439273</td>\n",
       "      <td>26</td>\n",
       "      <td>18913.0</td>\n",
       "      <td>&lt;p&gt;I am handling touches for a couple of my UI...</td>\n",
       "      <td>UIScrollView prevents touchesBegan, touchesMov...</td>\n",
       "      <td>&lt;iphone&gt;&lt;uiscrollview&gt;&lt;touch&gt;&lt;viewcontroller&gt;&lt;...</td>\n",
       "      <td>5.0</td>\n",
       "      <td>1</td>\n",
       "      <td>8.0</td>\n",
       "    </tr>\n",
       "    <tr>\n",
       "      <td>2</td>\n",
       "      <td>29382728</td>\n",
       "      <td>26</td>\n",
       "      <td>14626.0</td>\n",
       "      <td>&lt;p&gt;I just read somewhere that having an interf...</td>\n",
       "      <td>Constant Interface Anti-Pattern Clarification</td>\n",
       "      <td>&lt;java&gt;</td>\n",
       "      <td>4.0</td>\n",
       "      <td>2</td>\n",
       "      <td>3.0</td>\n",
       "    </tr>\n",
       "    <tr>\n",
       "      <td>3</td>\n",
       "      <td>13883404</td>\n",
       "      <td>26</td>\n",
       "      <td>68725.0</td>\n",
       "      <td>&lt;p&gt;I'm interested in a PowerShell script that ...</td>\n",
       "      <td>Custom RoboCopy Progress Bar in PowerShell</td>\n",
       "      <td>&lt;powershell&gt;</td>\n",
       "      <td>7.0</td>\n",
       "      <td>2</td>\n",
       "      <td>20.0</td>\n",
       "    </tr>\n",
       "    <tr>\n",
       "      <td>4</td>\n",
       "      <td>27241881</td>\n",
       "      <td>26</td>\n",
       "      <td>20075.0</td>\n",
       "      <td>&lt;p&gt;I am trying to rename the class name in swi...</td>\n",
       "      <td>How to rename the class name in swift?</td>\n",
       "      <td>&lt;ios&gt;&lt;swift&gt;</td>\n",
       "      <td>7.0</td>\n",
       "      <td>6</td>\n",
       "      <td>3.0</td>\n",
       "    </tr>\n",
       "  </tbody>\n",
       "</table>\n",
       "</div>"
      ],
      "text/plain": [
       "         Id  Score  ViewCount  \\\n",
       "0  14964108     26    32507.0   \n",
       "1   7439273     26    18913.0   \n",
       "2  29382728     26    14626.0   \n",
       "3  13883404     26    68725.0   \n",
       "4  27241881     26    20075.0   \n",
       "\n",
       "                                                Body  \\\n",
       "0  <p>I'm currently trying to build a little test...   \n",
       "1  <p>I am handling touches for a couple of my UI...   \n",
       "2  <p>I just read somewhere that having an interf...   \n",
       "3  <p>I'm interested in a PowerShell script that ...   \n",
       "4  <p>I am trying to rename the class name in swi...   \n",
       "\n",
       "                                               Title  \\\n",
       "0               Alternative to PhantomJS for Testing   \n",
       "1  UIScrollView prevents touchesBegan, touchesMov...   \n",
       "2      Constant Interface Anti-Pattern Clarification   \n",
       "3         Custom RoboCopy Progress Bar in PowerShell   \n",
       "4             How to rename the class name in swift?   \n",
       "\n",
       "                                                Tags  AnswerCount  \\\n",
       "0                   <javascript><testing><phantomjs>          4.0   \n",
       "1  <iphone><uiscrollview><touch><viewcontroller><...          5.0   \n",
       "2                                             <java>          4.0   \n",
       "3                                       <powershell>          7.0   \n",
       "4                                       <ios><swift>          7.0   \n",
       "\n",
       "   CommentCount  FavoriteCount  \n",
       "0             1            7.0  \n",
       "1             1            8.0  \n",
       "2             2            3.0  \n",
       "3             2           20.0  \n",
       "4             6            3.0  "
      ]
     },
     "execution_count": 3,
     "metadata": {},
     "output_type": "execute_result"
    }
   ],
   "source": [
    "test_df.head()"
   ]
  },
  {
   "cell_type": "code",
   "execution_count": 4,
   "metadata": {},
   "outputs": [
    {
     "name": "stdout",
     "output_type": "stream",
     "text": [
      "train: <class 'str'>\n",
      "test: <class 'str'>\n"
     ]
    }
   ],
   "source": [
    "print('train:',type(train_df['Body'].iloc[0]))\n",
    "print('test:',type(test_df['Body'].iloc[0]))"
   ]
  },
  {
   "cell_type": "code",
   "execution_count": 5,
   "metadata": {},
   "outputs": [],
   "source": [
    "train_df['processed_tags'] = train_df['Tags'].str.findall(\"<(.*?)>\")\n",
    "test_df['processed_tags'] = test_df['Tags'].str.findall(\"<(.*?)>\")"
   ]
  },
  {
   "cell_type": "code",
   "execution_count": 6,
   "metadata": {
    "scrolled": true
   },
   "outputs": [],
   "source": [
    "train_df['processed_body'] = train_df['Body'].map(lambda x: BeautifulSoup(x, \"html.parser\").get_text())\n",
    "test_df['processed_body'] = test_df['Body'].map(lambda x: BeautifulSoup(x, \"html.parser\").get_text())"
   ]
  },
  {
   "cell_type": "code",
   "execution_count": 7,
   "metadata": {},
   "outputs": [
    {
     "name": "stdout",
     "output_type": "stream",
     "text": [
      "train: <class 'str'>\n",
      "test: <class 'str'>\n"
     ]
    }
   ],
   "source": [
    "print('train:',type(train_df['processed_body'].iloc[0]))\n",
    "print('test:',type(test_df['processed_body'].iloc[0]))"
   ]
  },
  {
   "cell_type": "code",
   "execution_count": 8,
   "metadata": {},
   "outputs": [],
   "source": [
    "train_df['processed_body'] = train_df['processed_body'].map(lambda x: x.replace('\\n', ' '))\n",
    "test_df['processed_body'] = test_df['processed_body'].map(lambda x: x.replace('\\n', ' '))"
   ]
  },
  {
   "cell_type": "code",
   "execution_count": 9,
   "metadata": {},
   "outputs": [],
   "source": [
    "train_df = train_df.drop(['Tags', 'Body'], axis = 1)\n",
    "test_df = test_df.drop(['Tags', 'Body'], axis = 1)"
   ]
  },
  {
   "cell_type": "code",
   "execution_count": 10,
   "metadata": {},
   "outputs": [],
   "source": [
    "train_mini = train_df.sample(frac = 0.1)"
   ]
  },
  {
   "cell_type": "code",
   "execution_count": 11,
   "metadata": {},
   "outputs": [],
   "source": [
    "#train_mini['processed_tags'].value_counts()"
   ]
  },
  {
   "cell_type": "code",
   "execution_count": 12,
   "metadata": {},
   "outputs": [],
   "source": [
    "#words = word_tokenize(train_df['processed_body'].iloc[0])"
   ]
  },
  {
   "cell_type": "code",
   "execution_count": 13,
   "metadata": {},
   "outputs": [],
   "source": [
    "stop_words = set(stopwords.words('english'))"
   ]
  },
  {
   "cell_type": "code",
   "execution_count": 15,
   "metadata": {
    "scrolled": true
   },
   "outputs": [],
   "source": [
    "train_df['processed_body'] = train_df['processed_body'].map(lambda x: word_tokenize(x))\n",
    "test_df['processed_body'] = test_df['processed_body'].map(lambda x: word_tokenize(x))"
   ]
  },
  {
   "cell_type": "code",
   "execution_count": 16,
   "metadata": {},
   "outputs": [],
   "source": [
    "train_df['processed_body'] = train_df['processed_body'].map(lambda x: [w for w in x if not w in stop_words])\n",
    "test_df['processed_body'] = test_df['processed_body'].map(lambda x: [w for w in x if not w in stop_words])"
   ]
  },
  {
   "cell_type": "code",
   "execution_count": 17,
   "metadata": {},
   "outputs": [],
   "source": [
    "lemmatizer = WordNetLemmatizer()"
   ]
  },
  {
   "cell_type": "code",
   "execution_count": 18,
   "metadata": {},
   "outputs": [],
   "source": [
    "train_df['processed_body'] = train_df['processed_body'].map(lambda x: [lemmatizer.lemmatize(w) for w in x])\n",
    "test_df['processed_body'] = test_df['processed_body'].map(lambda x: [lemmatizer.lemmatize(w) for w in x])"
   ]
  },
  {
   "cell_type": "code",
   "execution_count": null,
   "metadata": {},
   "outputs": [],
   "source": []
  }
 ],
 "metadata": {
  "kernelspec": {
   "display_name": "Python 3",
   "language": "python",
   "name": "python3"
  },
  "language_info": {
   "codemirror_mode": {
    "name": "ipython",
    "version": 3
   },
   "file_extension": ".py",
   "mimetype": "text/x-python",
   "name": "python",
   "nbconvert_exporter": "python",
   "pygments_lexer": "ipython3",
   "version": "3.7.4"
  },
  "toc": {
   "base_numbering": 1,
   "nav_menu": {},
   "number_sections": true,
   "sideBar": true,
   "skip_h1_title": false,
   "title_cell": "Table of Contents",
   "title_sidebar": "Contents",
   "toc_cell": false,
   "toc_position": {},
   "toc_section_display": true,
   "toc_window_display": false
  }
 },
 "nbformat": 4,
 "nbformat_minor": 2
}
