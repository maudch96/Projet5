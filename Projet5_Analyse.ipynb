{
 "cells": [
  {
   "cell_type": "markdown",
   "metadata": {},
   "source": [
    "# Projet 5 - Catégorisez automatiquement des questions"
   ]
  },
  {
   "cell_type": "markdown",
   "metadata": {},
   "source": [
    "## Importation des librairies et des données et conversions"
   ]
  },
  {
   "cell_type": "code",
   "execution_count": 45,
   "metadata": {},
   "outputs": [],
   "source": [
    "import numpy as np\n",
    "import pandas as pd\n",
    "import gensim\n",
    "import scipy\n",
    "from sklearn.decomposition import LatentDirichletAllocation\n",
    "import csv\n",
    "from sklearn import preprocessing\n",
    "from sklearn import decomposition\n",
    "from sklearn.linear_model import LogisticRegression\n",
    "from sklearn.tree import DecisionTreeClassifier\n",
    "from sklearn import svm\n",
    "from sklearn.svm import SVC\n",
    "import matplotlib.pyplot as plt\n",
    "from sklearn.model_selection import cross_validate\n",
    "import time\n",
    "from sklearn.model_selection import GridSearchCV\n",
    "from sklearn.metrics import f1_score, accuracy_score, f1_score, precision_score, recall_score, classification_report, confusion_matrix, plot_confusion_matrix\n",
    "import joblib\n",
    "from sklearn.model_selection import train_test_split"
   ]
  },
  {
   "cell_type": "code",
   "execution_count": 93,
   "metadata": {},
   "outputs": [],
   "source": [
    "test_mx = pd.read_csv('test_mx.csv', sep=';', index_col=0)\n",
    "train_mx = pd.read_csv('train_mx.csv', sep=';', index_col=0)\n",
    "fw_dict = pd.read_csv('fw_dict.csv')\n",
    "test_df = pd.read_csv('filtered_test_df.csv', sep=';',\n",
    "                      index_col=0, converters={'processed_tags': eval})\n",
    "train_df = pd.read_csv('filtered_df.csv', sep=';',\n",
    "                       index_col=0, converters={'processed_tags': eval})"
   ]
  },
  {
   "cell_type": "code",
   "execution_count": 47,
   "metadata": {},
   "outputs": [],
   "source": [
    "feature_name = []\n",
    "with open('feature_name.csv', 'r') as data:\n",
    "    for line in csv.reader(data):\n",
    "        feature_name.append(line)\n",
    "\n",
    "# Transforme la liste de listes en liste\n",
    "feature_names = [item for sublist in feature_name for item in sublist]"
   ]
  },
  {
   "cell_type": "code",
   "execution_count": 50,
   "metadata": {},
   "outputs": [],
   "source": [
    "fw_dict = fw_dict.to_dict(orient='list')"
   ]
  },
  {
   "cell_type": "code",
   "execution_count": 51,
   "metadata": {},
   "outputs": [],
   "source": [
    "train_feature = scipy.sparse.csr_matrix(train_mx.values)"
   ]
  },
  {
   "cell_type": "code",
   "execution_count": 52,
   "metadata": {},
   "outputs": [
    {
     "data": {
      "text/plain": [
       "<34802x997 sparse matrix of type '<class 'numpy.float64'>'\n",
       "\twith 1060544 stored elements in Compressed Sparse Row format>"
      ]
     },
     "execution_count": 52,
     "metadata": {},
     "output_type": "execute_result"
    }
   ],
   "source": [
    "train_feature"
   ]
  },
  {
   "cell_type": "markdown",
   "metadata": {},
   "source": [
    "## LDA"
   ]
  },
  {
   "cell_type": "code",
   "execution_count": 8,
   "metadata": {
    "scrolled": true
   },
   "outputs": [
    {
     "data": {
      "text/plain": [
       "LatentDirichletAllocation(learning_method='online', learning_offset=50.0,\n",
       "                          max_iter=5, n_components=11, random_state=0)"
      ]
     },
     "execution_count": 8,
     "metadata": {},
     "output_type": "execute_result"
    }
   ],
   "source": [
    "lda = LatentDirichletAllocation(n_components=11, max_iter=5,\n",
    "                                learning_method='online',\n",
    "                                learning_offset=50.,\n",
    "                                random_state=0)\n",
    "\n",
    "lda.fit(train_feature)"
   ]
  },
  {
   "cell_type": "code",
   "execution_count": 9,
   "metadata": {},
   "outputs": [],
   "source": [
    "def print_top_words(model, feature_names, n_top_words):\n",
    "    for topic_idx, topic in enumerate(model.components_):\n",
    "        print(\"Topic #%d:\" % topic_idx)\n",
    "        print(\" \".join([feature_names[i]\n",
    "                        for i in topic.argsort()[:-n_top_words - 1:-1]]))\n",
    "    print()"
   ]
  },
  {
   "cell_type": "code",
   "execution_count": 10,
   "metadata": {},
   "outputs": [
    {
     "name": "stdout",
     "output_type": "stream",
     "text": [
      "\n",
      "Topics in LDA model: \n",
      "Topic #0:\n",
      "use javascript using would page like code way file j know html browser c jquery function window application one google need example time want image work question good java find script web chrome event used user library get net looking\n",
      "Topic #1:\n",
      "public thread class method exception static void task java catch private new system difference async throw test interface null println try return string block queue object code main call e final instance wait console boolean writeline args run override int\n",
      "Topic #2:\n",
      "java android org jar eclipse com gradle maven spring annotation dependency hibernate lang junit xml bean compile build support google plugin apache sun class project util internal springframework version activitythread servlet jdk test http main error source property v groupid\n",
      "Topic #3:\n",
      "android view layout button image activity app self color intent item text id io screen height swift fragment want width parent r background set change textview action bar programmatically new dialog animation notification show drawable size application keyboard like menu\n",
      "Topic #4:\n",
      "date input datetime form jquery button value text event click day function option time td javascript div label element format select month type id field html get mm submit name checkbox want var hour using alert child box year tr\n",
      "Topic #5:\n",
      "file python error project version app run install studio android c path application build window directory module package py using command library get xcode code running test lib installed use line ruby system visual folder import debug php program process\n",
      "Topic #6:\n",
      "c int class std function x foo type b return variable value const operator code char use object string public pointer f method compiler argument double void like bar error vector struct parameter member include template would using constructor static\n",
      "Topic #7:\n",
      "string array list value object python key number way convert like character item x c return want get function var b would name new print int n dictionary element java loop integer using line method map use one example data\n",
      "Topic #8:\n",
      "git branch commit repository file master repo remote github push merge change pull origin directory local command folder head want project delete status way one feature tag fatal team ref like add fetch reset get working back new using would\n",
      "Topic #9:\n",
      "table div column row sql id cs query mysql px select width cell li height text image database style class like font color value data html element name panda want using span df background border insert dataframe left top index\n",
      "Topic #10:\n",
      "request user url data model json http error get name post response server string id new using file php function return password email public com controller app session net set client code var react connection log api rail username page\n",
      "\n"
     ]
    }
   ],
   "source": [
    "n_top_words = 40\n",
    "print(\"\\nTopics in LDA model: \")\n",
    "print_top_words(lda, feature_names, n_top_words)"
   ]
  },
  {
   "cell_type": "markdown",
   "metadata": {},
   "source": [
    "## ACP"
   ]
  },
  {
   "cell_type": "markdown",
   "metadata": {},
   "source": [
    "On extrait le 1er tag de chaque ligne pour créer 'y' de la base train et test. Il faut encoder les données sur le dataframe contenant toutes les données pour éviter des problèmes liés avec des tags qui apparaissent dans une base et non l'autre"
   ]
  },
  {
   "cell_type": "markdown",
   "metadata": {},
   "source": [
    "### LabelEncoder"
   ]
  },
  {
   "cell_type": "code",
   "execution_count": 94,
   "metadata": {},
   "outputs": [
    {
     "data": {
      "text/plain": [
       "LabelEncoder()"
      ]
     },
     "execution_count": 94,
     "metadata": {},
     "output_type": "execute_result"
    }
   ],
   "source": [
    "full_df = pd.concat([train_df, test_df])\n",
    "pre_base = [full_df['processed_tags'].iloc[i][0]\n",
    "            for i in range(len(full_df['processed_tags']))]\n",
    "le = preprocessing.LabelEncoder()\n",
    "le.fit(pre_base)"
   ]
  },
  {
   "cell_type": "code",
   "execution_count": 95,
   "metadata": {},
   "outputs": [],
   "source": [
    "pre_ytrain = [train_df['processed_tags'].iloc[i][0]\n",
    "              for i in range(len(train_df['processed_tags']))]\n",
    "y_train = le.transform(pre_ytrain)"
   ]
  },
  {
   "cell_type": "code",
   "execution_count": 97,
   "metadata": {},
   "outputs": [],
   "source": [
    "pre_ytest = [test_df['processed_tags'].iloc[i][0]\n",
    "             for i in range(len(test_df['processed_tags']))]\n",
    "y_test = le.transform(pre_ytest)"
   ]
  },
  {
   "cell_type": "code",
   "execution_count": 98,
   "metadata": {},
   "outputs": [],
   "source": [
    "# Normalisation de la base train\n",
    "std_scale = preprocessing.StandardScaler().fit(train_mx)\n",
    "X_scaled = std_scale.transform(train_mx)"
   ]
  },
  {
   "cell_type": "code",
   "execution_count": 99,
   "metadata": {},
   "outputs": [],
   "source": [
    "# Normalisation de la base test selon la base test\n",
    "X_scaled_test = std_scale.transform(test_mx)"
   ]
  },
  {
   "cell_type": "markdown",
   "metadata": {},
   "source": [
    "On test l'ACP avec plusieurs nombres de composants"
   ]
  },
  {
   "cell_type": "code",
   "execution_count": 102,
   "metadata": {},
   "outputs": [],
   "source": [
    "# On calcul les 2 premieres composantes principales\n",
    "pca = decomposition.PCA(n_components=800).fit(X_scaled)\n",
    "\n",
    "# projeter X sur les composantes principales\n",
    "train_projected = pca.transform(X_scaled)"
   ]
  },
  {
   "cell_type": "code",
   "execution_count": 104,
   "metadata": {},
   "outputs": [],
   "source": [
    "test_projected = pca.transform(X_scaled_test)"
   ]
  },
  {
   "cell_type": "code",
   "execution_count": 105,
   "metadata": {},
   "outputs": [
    {
     "data": {
      "text/plain": [
       "(8696, 800)"
      ]
     },
     "execution_count": 105,
     "metadata": {},
     "output_type": "execute_result"
    }
   ],
   "source": [
    "test_projected.shape"
   ]
  },
  {
   "cell_type": "code",
   "execution_count": 106,
   "metadata": {},
   "outputs": [
    {
     "name": "stdout",
     "output_type": "stream",
     "text": [
      "0.881514688185973\n"
     ]
    }
   ],
   "source": [
    "# Pourcentage de la variance expliquee\n",
    "# print(pca.explained_variance_ratio_)\n",
    "print(pca.explained_variance_ratio_.sum())"
   ]
  },
  {
   "cell_type": "code",
   "execution_count": 107,
   "metadata": {},
   "outputs": [
    {
     "data": {
      "image/png": "[encoded data removed]",
      "text/plain": [
       "<Figure size 720x576 with 1 Axes>"
      ]
     },
     "metadata": {
      "needs_background": "light"
     },
     "output_type": "display_data"
    }
   ],
   "source": [
    "plt.figure(figsize=(10, 8))\n",
    "scree = pca.explained_variance_ratio_*100\n",
    "#plt.bar(np.arange(len(scree))+1, scree)\n",
    "plt.plot(np.arange(len(scree)), np.cumsum(pca.explained_variance_ratio_), 'r-')\n",
    "plt.xlabel('Nombre de composantes principales')\n",
    "plt.ylabel('Pourcentage de la variance expliquee')\n",
    "plt.title(\"Eboulis des valeurs propres\")\n",
    "plt.show(block=False)"
   ]
  },
  {
   "cell_type": "markdown",
   "metadata": {},
   "source": [
    "On enregistre les composantes dans une variable qui devient le nouveau x_train"
   ]
  },
  {
   "cell_type": "code",
   "execution_count": 108,
   "metadata": {},
   "outputs": [
    {
     "data": {
      "text/plain": [
       "(34802, 800)"
      ]
     },
     "execution_count": 108,
     "metadata": {},
     "output_type": "execute_result"
    }
   ],
   "source": [
    "train_projected.shape"
   ]
  },
  {
   "cell_type": "markdown",
   "metadata": {},
   "source": [
    "### Exportation données"
   ]
  },
  {
   "cell_type": "markdown",
   "metadata": {},
   "source": [
    "Exportation des données pour le fonctionnement de l'API"
   ]
  },
  {
   "cell_type": "code",
   "execution_count": 129,
   "metadata": {},
   "outputs": [],
   "source": [
    "np.save('tags.npy', pre_ytrain)"
   ]
  },
  {
   "cell_type": "code",
   "execution_count": 101,
   "metadata": {},
   "outputs": [
    {
     "data": {
      "text/plain": [
       "['std_scale.plk']"
      ]
     },
     "execution_count": 101,
     "metadata": {},
     "output_type": "execute_result"
    }
   ],
   "source": [
    "joblib.dump(std_scale, 'std_scale.plk')"
   ]
  },
  {
   "cell_type": "code",
   "execution_count": 103,
   "metadata": {},
   "outputs": [
    {
     "data": {
      "text/plain": [
       "['model_pca.plk']"
      ]
     },
     "execution_count": 103,
     "metadata": {},
     "output_type": "execute_result"
    }
   ],
   "source": [
    "joblib.dump(pca, 'model_pca.plk')"
   ]
  },
  {
   "cell_type": "markdown",
   "metadata": {},
   "source": [
    "## Modélisation"
   ]
  },
  {
   "cell_type": "markdown",
   "metadata": {},
   "source": [
    "### Préparation des données"
   ]
  },
  {
   "cell_type": "markdown",
   "metadata": {},
   "source": [
    "__Base initiale:__"
   ]
  },
  {
   "cell_type": "code",
   "execution_count": 109,
   "metadata": {},
   "outputs": [],
   "source": [
    "X_train = train_projected\n",
    "Y_train = y_train\n",
    "X_test = test_projected\n",
    "Y_test = y_test"
   ]
  },
  {
   "cell_type": "markdown",
   "metadata": {},
   "source": [
    "Nous allons crée une nouvelle base test et train afin de pouvoir tester la modélisation avant de réaliser la validation du modèle final sur la base test initiale."
   ]
  },
  {
   "cell_type": "code",
   "execution_count": 111,
   "metadata": {},
   "outputs": [],
   "source": [
    "X_train_2, X_test_2, Y_train_2, Y_test_2 = train_test_split(\n",
    "    X_train, Y_train, test_size=0.20, random_state=42)"
   ]
  },
  {
   "cell_type": "markdown",
   "metadata": {},
   "source": [
    "__Split base:__"
   ]
  },
  {
   "cell_type": "code",
   "execution_count": 90,
   "metadata": {},
   "outputs": [],
   "source": [
    "X = X_train_2\n",
    "Y = Y_train_2"
   ]
  },
  {
   "cell_type": "code",
   "execution_count": 91,
   "metadata": {},
   "outputs": [
    {
     "name": "stdout",
     "output_type": "stream",
     "text": [
      "(27841, 800)\n",
      "(27841,)\n"
     ]
    }
   ],
   "source": [
    "print(X_train_2.shape)\n",
    "print(Y_train_2.shape)"
   ]
  },
  {
   "cell_type": "markdown",
   "metadata": {},
   "source": [
    "__Base échantillon:__"
   ]
  },
  {
   "cell_type": "markdown",
   "metadata": {},
   "source": [
    "Pour tester le bon fonctionnement des modèles, nous avons créer une nouvelle base train-test_E à partir des 10 000 première valeurs de X_train et Y_train. Cela permet de pouvoir faire tourner les algorithmes plus facilement."
   ]
  },
  {
   "cell_type": "code",
   "execution_count": 92,
   "metadata": {},
   "outputs": [],
   "source": [
    "X_train_E, X_test_E, Y_train_E, Y_test_E = train_test_split(\n",
    "    X_train[:10000], Y_train[:10000], test_size=0.20, random_state=42)"
   ]
  },
  {
   "cell_type": "markdown",
   "metadata": {},
   "source": [
    "### V1 - Modélisation sur un échantillon"
   ]
  },
  {
   "cell_type": "markdown",
   "metadata": {},
   "source": [
    "Nous allons tester trois modèles différents pour trouver celui ayant la meilleure précision. Les trois modèles choisis sont:\n",
    "- l'arbre de décision\n",
    "- le modèle logisitique\n",
    "- la SVM"
   ]
  },
  {
   "cell_type": "markdown",
   "metadata": {},
   "source": [
    " Ces tests sont effectués sur un échantillon de données pour pouvoir faire exécuter les modèles. Cependant le résultat de ces tests là ne sont pas pris en compte dans le choix du modèle final, ils permettent uniquement de vérifier le bon fonctionnement des modèles."
   ]
  },
  {
   "cell_type": "code",
   "execution_count": 29,
   "metadata": {},
   "outputs": [],
   "source": [
    "# Choix des données d'entrainement\n",
    "X = X_train_E\n",
    "Y = Y_train_E"
   ]
  },
  {
   "cell_type": "markdown",
   "metadata": {},
   "source": [
    "### Arbre de décision"
   ]
  },
  {
   "cell_type": "code",
   "execution_count": 84,
   "metadata": {},
   "outputs": [
    {
     "data": {
      "text/plain": [
       "DecisionTreeClassifier()"
      ]
     },
     "execution_count": 84,
     "metadata": {},
     "output_type": "execute_result"
    }
   ],
   "source": [
    "tree_class = DecisionTreeClassifier()\n",
    "tree_class.fit(X, Y)"
   ]
  },
  {
   "cell_type": "code",
   "execution_count": 85,
   "metadata": {
    "scrolled": false
   },
   "outputs": [
    {
     "name": "stdout",
     "output_type": "stream",
     "text": [
      "0.344\n",
      "0.14479324281992892\n",
      "0.1402413575967063\n",
      "              precision    recall  f1-score   support\n",
      "\n",
      "           0       0.00      0.00      0.00        35\n",
      "           3       0.00      0.00      0.00         2\n",
      "           5       0.52      0.52      0.52       187\n",
      "          13       0.00      0.00      0.00         3\n",
      "          23       0.27      0.38      0.31        34\n",
      "          24       0.30      0.30      0.30       247\n",
      "          26       0.42      0.37      0.40       148\n",
      "          33       0.30      0.25      0.27        40\n",
      "          38       0.00      0.00      0.00         2\n",
      "          39       0.00      0.00      0.00         1\n",
      "          49       0.73      0.69      0.71        65\n",
      "          51       0.00      0.00      0.00         0\n",
      "          55       0.20      0.21      0.21        56\n",
      "          59       0.00      0.00      0.00         1\n",
      "          63       0.33      0.27      0.30       100\n",
      "          66       0.09      0.13      0.11        38\n",
      "          70       0.34      0.38      0.36       230\n",
      "          71       0.33      0.32      0.32       222\n",
      "          73       0.14      0.16      0.15        43\n",
      "          78       0.00      0.00      0.00         0\n",
      "          81       0.39      0.33      0.36        42\n",
      "          83       0.00      0.00      0.00         1\n",
      "          84       0.00      0.00      0.00        25\n",
      "          87       0.15      0.20      0.17        92\n",
      "          88       0.00      0.00      0.00         1\n",
      "          89       0.00      0.00      0.00         1\n",
      "          90       0.48      0.51      0.50       244\n",
      "          92       0.11      0.05      0.07        38\n",
      "          93       0.22      0.23      0.22        44\n",
      "          94       0.00      0.00      0.00         0\n",
      "          96       0.00      0.00      0.00         0\n",
      "          98       0.00      0.00      0.00         0\n",
      "          99       0.46      0.30      0.36        54\n",
      "         102       0.00      0.00      0.00         1\n",
      "         104       0.00      0.00      0.00         0\n",
      "         108       0.00      0.00      0.00         0\n",
      "         109       0.00      0.00      0.00         1\n",
      "         111       0.00      0.00      0.00         1\n",
      "         120       0.00      0.00      0.00         1\n",
      "         124       0.00      0.00      0.00         0\n",
      "\n",
      "    accuracy                           0.34      2000\n",
      "   macro avg       0.14      0.14      0.14      2000\n",
      "weighted avg       0.35      0.34      0.34      2000\n",
      "\n"
     ]
    },
    {
     "name": "stderr",
     "output_type": "stream",
     "text": [
      "C:\\Users\\Happy\\Anaconda3\\lib\\site-packages\\sklearn\\metrics\\_classification.py:1221: UndefinedMetricWarning: Precision is ill-defined and being set to 0.0 in labels with no predicted samples. Use `zero_division` parameter to control this behavior.\n",
      "  _warn_prf(average, modifier, msg_start, len(result))\n",
      "C:\\Users\\Happy\\Anaconda3\\lib\\site-packages\\sklearn\\metrics\\_classification.py:1221: UndefinedMetricWarning: Recall is ill-defined and being set to 0.0 in labels with no true samples. Use `zero_division` parameter to control this behavior.\n",
      "  _warn_prf(average, modifier, msg_start, len(result))\n",
      "C:\\Users\\Happy\\Anaconda3\\lib\\site-packages\\sklearn\\metrics\\_classification.py:1221: UndefinedMetricWarning: Precision and F-score are ill-defined and being set to 0.0 in labels with no predicted samples. Use `zero_division` parameter to control this behavior.\n",
      "  _warn_prf(average, modifier, msg_start, len(result))\n",
      "C:\\Users\\Happy\\Anaconda3\\lib\\site-packages\\sklearn\\metrics\\_classification.py:1221: UndefinedMetricWarning: Recall and F-score are ill-defined and being set to 0.0 in labels with no true samples. Use `zero_division` parameter to control this behavior.\n",
      "  _warn_prf(average, modifier, msg_start, len(result))\n"
     ]
    }
   ],
   "source": [
    "Y_pred = tree_class.predict(X_test_E)\n",
    "\n",
    "print(f1_score(Y_test_E, Y_pred, average='micro'))\n",
    "print(precision_score(Y_test_E, Y_pred, average=\"macro\"))\n",
    "print(recall_score(Y_test_E, Y_pred, average=\"macro\"))\n",
    "print(classification_report(Y_test_E, Y_pred))"
   ]
  },
  {
   "cell_type": "markdown",
   "metadata": {},
   "source": [
    "### Régression logistique"
   ]
  },
  {
   "cell_type": "code",
   "execution_count": 86,
   "metadata": {},
   "outputs": [
    {
     "name": "stderr",
     "output_type": "stream",
     "text": [
      "C:\\Users\\Happy\\Anaconda3\\lib\\site-packages\\sklearn\\linear_model\\_logistic.py:764: ConvergenceWarning: lbfgs failed to converge (status=1):\n",
      "STOP: TOTAL NO. of ITERATIONS REACHED LIMIT.\n",
      "\n",
      "Increase the number of iterations (max_iter) or scale the data as shown in:\n",
      "    https://scikit-learn.org/stable/modules/preprocessing.html\n",
      "Please also refer to the documentation for alternative solver options:\n",
      "    https://scikit-learn.org/stable/modules/linear_model.html#logistic-regression\n",
      "  extra_warning_msg=_LOGISTIC_SOLVER_CONVERGENCE_MSG)\n"
     ]
    },
    {
     "data": {
      "text/plain": [
       "LogisticRegression()"
      ]
     },
     "execution_count": 86,
     "metadata": {},
     "output_type": "execute_result"
    }
   ],
   "source": [
    "log_reg = LogisticRegression()\n",
    "log_reg.fit(X, Y)"
   ]
  },
  {
   "cell_type": "code",
   "execution_count": 87,
   "metadata": {
    "scrolled": false
   },
   "outputs": [
    {
     "name": "stdout",
     "output_type": "stream",
     "text": [
      "0.5875\n",
      "0.330346042482038\n",
      "0.3147159592516945\n",
      "              precision    recall  f1-score   support\n",
      "\n",
      "           0       0.23      0.26      0.24        35\n",
      "           3       0.00      0.00      0.00         2\n",
      "           5       0.60      0.62      0.61       187\n",
      "          13       0.00      0.00      0.00         3\n",
      "          23       0.31      0.47      0.37        34\n",
      "          24       0.59      0.65      0.62       247\n",
      "          26       0.59      0.53      0.56       148\n",
      "          33       0.47      0.38      0.42        40\n",
      "          38       0.00      0.00      0.00         2\n",
      "          39       0.00      0.00      0.00         1\n",
      "          49       0.91      0.74      0.81        65\n",
      "          55       0.37      0.39      0.38        56\n",
      "          59       0.00      0.00      0.00         1\n",
      "          63       0.62      0.55      0.59       100\n",
      "          66       0.17      0.18      0.18        38\n",
      "          70       0.59      0.65      0.62       230\n",
      "          71       0.58      0.59      0.59       222\n",
      "          73       0.42      0.49      0.45        43\n",
      "          81       0.71      0.52      0.60        42\n",
      "          83       0.00      0.00      0.00         1\n",
      "          84       0.12      0.08      0.10        25\n",
      "          87       0.56      0.65      0.60        92\n",
      "          88       0.00      0.00      0.00         1\n",
      "          89       0.00      0.00      0.00         1\n",
      "          90       0.78      0.79      0.78       244\n",
      "          92       0.65      0.34      0.45        38\n",
      "          93       0.68      0.64      0.66        44\n",
      "          99       0.61      0.56      0.58        54\n",
      "         102       0.00      0.00      0.00         1\n",
      "         109       0.00      0.00      0.00         1\n",
      "         111       0.00      0.00      0.00         1\n",
      "         120       0.00      0.00      0.00         1\n",
      "\n",
      "    accuracy                           0.59      2000\n",
      "   macro avg       0.33      0.31      0.32      2000\n",
      "weighted avg       0.59      0.59      0.59      2000\n",
      "\n"
     ]
    },
    {
     "name": "stderr",
     "output_type": "stream",
     "text": [
      "C:\\Users\\Happy\\Anaconda3\\lib\\site-packages\\sklearn\\metrics\\_classification.py:1221: UndefinedMetricWarning: Precision is ill-defined and being set to 0.0 in labels with no predicted samples. Use `zero_division` parameter to control this behavior.\n",
      "  _warn_prf(average, modifier, msg_start, len(result))\n",
      "C:\\Users\\Happy\\Anaconda3\\lib\\site-packages\\sklearn\\metrics\\_classification.py:1221: UndefinedMetricWarning: Precision and F-score are ill-defined and being set to 0.0 in labels with no predicted samples. Use `zero_division` parameter to control this behavior.\n",
      "  _warn_prf(average, modifier, msg_start, len(result))\n"
     ]
    }
   ],
   "source": [
    "Y_pred = log_reg.predict(X_test_E)\n",
    "\n",
    "print(f1_score(Y_test_E, Y_pred, average='micro'))\n",
    "print(precision_score(Y_test_E, Y_pred, average=\"macro\"))\n",
    "print(recall_score(Y_test_E, Y_pred, average=\"macro\"))\n",
    "print(classification_report(Y_test_E, Y_pred))"
   ]
  },
  {
   "cell_type": "markdown",
   "metadata": {},
   "source": [
    "### SVM"
   ]
  },
  {
   "cell_type": "code",
   "execution_count": 88,
   "metadata": {},
   "outputs": [
    {
     "data": {
      "text/plain": [
       "SVC()"
      ]
     },
     "execution_count": 88,
     "metadata": {},
     "output_type": "execute_result"
    }
   ],
   "source": [
    "svm = SVC()\n",
    "svm.fit(X, Y)"
   ]
  },
  {
   "cell_type": "code",
   "execution_count": 89,
   "metadata": {},
   "outputs": [
    {
     "name": "stdout",
     "output_type": "stream",
     "text": [
      "0.6235\n",
      "0.3903087821835974\n",
      "0.2874000660722521\n",
      "              precision    recall  f1-score   support\n",
      "\n",
      "           0       0.00      0.00      0.00        35\n",
      "           3       0.00      0.00      0.00         2\n",
      "           5       0.73      0.76      0.74       187\n",
      "          13       0.00      0.00      0.00         3\n",
      "          23       0.75      0.18      0.29        34\n",
      "          24       0.49      0.72      0.58       247\n",
      "          26       0.76      0.61      0.67       148\n",
      "          33       0.42      0.25      0.31        40\n",
      "          38       0.00      0.00      0.00         2\n",
      "          39       0.00      0.00      0.00         1\n",
      "          49       0.83      0.69      0.76        65\n",
      "          55       0.35      0.21      0.27        56\n",
      "          59       0.00      0.00      0.00         1\n",
      "          63       0.67      0.62      0.65       100\n",
      "          66       1.00      0.08      0.15        38\n",
      "          70       0.54      0.75      0.63       230\n",
      "          71       0.54      0.77      0.63       222\n",
      "          73       0.57      0.09      0.16        43\n",
      "          81       0.96      0.52      0.68        42\n",
      "          83       0.00      0.00      0.00         1\n",
      "          84       0.00      0.00      0.00        25\n",
      "          87       0.83      0.58      0.68        92\n",
      "          88       0.00      0.00      0.00         1\n",
      "          89       0.00      0.00      0.00         1\n",
      "          90       0.75      0.84      0.79       244\n",
      "          92       0.87      0.34      0.49        38\n",
      "          93       0.83      0.57      0.68        44\n",
      "          99       0.61      0.61      0.61        54\n",
      "         102       0.00      0.00      0.00         1\n",
      "         109       0.00      0.00      0.00         1\n",
      "         111       0.00      0.00      0.00         1\n",
      "         120       0.00      0.00      0.00         1\n",
      "\n",
      "    accuracy                           0.62      2000\n",
      "   macro avg       0.39      0.29      0.30      2000\n",
      "weighted avg       0.63      0.62      0.60      2000\n",
      "\n"
     ]
    },
    {
     "name": "stderr",
     "output_type": "stream",
     "text": [
      "C:\\Users\\Happy\\Anaconda3\\lib\\site-packages\\sklearn\\metrics\\_classification.py:1221: UndefinedMetricWarning: Precision is ill-defined and being set to 0.0 in labels with no predicted samples. Use `zero_division` parameter to control this behavior.\n",
      "  _warn_prf(average, modifier, msg_start, len(result))\n",
      "C:\\Users\\Happy\\Anaconda3\\lib\\site-packages\\sklearn\\metrics\\_classification.py:1221: UndefinedMetricWarning: Precision and F-score are ill-defined and being set to 0.0 in labels with no predicted samples. Use `zero_division` parameter to control this behavior.\n",
      "  _warn_prf(average, modifier, msg_start, len(result))\n"
     ]
    }
   ],
   "source": [
    "Y_pred = svm.predict(X_test_E)\n",
    "\n",
    "print(f1_score(Y_test_E, Y_pred, average='micro'))\n",
    "print(precision_score(Y_test_E, Y_pred, average=\"macro\"))\n",
    "print(recall_score(Y_test_E, Y_pred, average=\"macro\"))\n",
    "print(classification_report(Y_test_E, Y_pred))"
   ]
  },
  {
   "cell_type": "markdown",
   "metadata": {},
   "source": [
    "## Modélisation sur toutes les données"
   ]
  },
  {
   "cell_type": "markdown",
   "metadata": {},
   "source": [
    "Une fois que nous avons vérifié que les modèles fonctionnent, les tests pour trouver le modèle le plus adapté sont lancés sur toutes les données."
   ]
  },
  {
   "cell_type": "markdown",
   "metadata": {},
   "source": [
    "### Tests sur google colab"
   ]
  },
  {
   "cell_type": "markdown",
   "metadata": {},
   "source": [
    "Le jeu de données étant très important, j'ai rencontré des difficultées à faire tourner ces codes sur jupyter. J'ai donc fait certains tests sur google colab en utilisant le GPU. Pour pouvoir faire cela, il m'a fallu transférer les données sur google colab et vérifier leur forme et leur taille."
   ]
  },
  {
   "cell_type": "code",
   "execution_count": 27,
   "metadata": {},
   "outputs": [],
   "source": [
    "X = X_train_2\n",
    "Y = Y_train_2"
   ]
  },
  {
   "cell_type": "code",
   "execution_count": 28,
   "metadata": {},
   "outputs": [
    {
     "name": "stdout",
     "output_type": "stream",
     "text": [
      "(27900, 800)\n",
      "(27900,)\n",
      "(6976, 800)\n",
      "(6976,)\n"
     ]
    }
   ],
   "source": [
    "print(X.shape)\n",
    "print(Y.shape)\n",
    "print(X_test_2.shape)\n",
    "print(Y_test_2.shape)"
   ]
  },
  {
   "cell_type": "code",
   "execution_count": 29,
   "metadata": {},
   "outputs": [
    {
     "name": "stdout",
     "output_type": "stream",
     "text": [
      "X: [[ 0.6308673  -1.29475411 -2.48500474 ... -1.57374487 -0.28336823\n",
      "  -1.37927146]\n",
      " [-0.47473237 -1.2811054  -0.13240925 ... -0.85725817  0.27135341\n",
      "   0.07065494]\n",
      " [-3.44883561  0.4801291  -1.097162   ... -0.62238276  0.02870844\n",
      "  -2.86407701]\n",
      " ...\n",
      " [-0.60307577  1.32995904  1.60713454 ...  0.40832189  0.5182883\n",
      "  -0.22438643]\n",
      " [ 0.03098465 -2.50835725  3.99099541 ...  0.97028402  0.32447122\n",
      "  -0.59510646]\n",
      " [ 0.15557146  0.48820484 -0.30835538 ...  1.19139354  0.8639742\n",
      "   1.84410017]]\n",
      "Y: [71 90 90 ... 70 26 87]\n",
      "X_test_2: [[ 4.10706023e+00 -1.35589932e+00 -3.85813274e+00 ...  4.20535336e-01\n",
      "  -1.25037205e+00 -1.29945165e+00]\n",
      " [ 1.53820732e+00  6.53139347e-03 -6.72654005e-01 ... -1.06890883e-02\n",
      "  -1.11226497e+00 -7.68421269e-02]\n",
      " [-3.51798866e+00  1.03986573e+00 -1.13900036e+00 ...  5.22231805e-01\n",
      "  -6.74840348e-01  1.43773371e+00]\n",
      " ...\n",
      " [-7.61737691e-01 -1.36831669e+00  3.27620734e+00 ...  3.55936404e-01\n",
      "  -1.46203278e+00 -4.76016808e-02]\n",
      " [-1.93316048e+00 -1.49257989e+00  4.67835337e-01 ...  1.46017333e+00\n",
      "   1.99807109e+00  8.89231284e-01]\n",
      " [ 6.83195468e+00  2.27618033e+00  6.16898093e+00 ...  1.00148342e+00\n",
      "  -1.02686277e+00  9.68583215e-01]]\n",
      "Y_test_2: [55 66 92 ... 26 66  5]\n"
     ]
    }
   ],
   "source": [
    "print('X:', X)\n",
    "print('Y:', Y)\n",
    "print('X_test_2:', X_test_2)\n",
    "print('Y_test_2:', Y_test_2)"
   ]
  },
  {
   "cell_type": "code",
   "execution_count": 74,
   "metadata": {},
   "outputs": [],
   "source": [
    "# Sauvegarde des données pour utiliser dans google colab\n",
    "np.savetxt('X.csv', X, delimiter=',', fmt='%d', header='Values')\n",
    "np.savetxt('Y.csv', y, delimiter=',', fmt='%d', header='Values')\n",
    "np.savetxt('X_test_2.csv', X_test_2, delimiter=',', fmt='%d', header='Values')\n",
    "np.savetxt('Y_test_2.csv', Y_test_2, delimiter=',', fmt='%d', header='Values')"
   ]
  },
  {
   "cell_type": "markdown",
   "metadata": {},
   "source": [
    "### Choix du modèle"
   ]
  },
  {
   "cell_type": "code",
   "execution_count": 44,
   "metadata": {},
   "outputs": [],
   "source": [
    "# Choix des données d'entrainement\n",
    "X = X_train_2\n",
    "Y = Y_train_2"
   ]
  },
  {
   "cell_type": "markdown",
   "metadata": {},
   "source": [
    "#### Arbre de décision"
   ]
  },
  {
   "cell_type": "code",
   "execution_count": 70,
   "metadata": {
    "scrolled": false
   },
   "outputs": [
    {
     "name": "stdout",
     "output_type": "stream",
     "text": [
      "0.38775802752293576\n",
      "0.10329050122795348\n",
      "0.10377419275314687\n",
      "              precision    recall  f1-score   support\n",
      "\n",
      "           0       0.11      0.10      0.10       112\n",
      "           1       0.00      0.00      0.00         1\n",
      "           3       0.00      0.00      0.00         1\n",
      "           5       0.52      0.52      0.52       632\n",
      "           6       0.00      0.00      0.00         0\n",
      "           9       0.00      0.00      0.00         3\n",
      "          13       0.00      0.00      0.00         8\n",
      "          14       0.00      0.00      0.00         2\n",
      "          22       0.00      0.00      0.00         1\n",
      "          23       0.24      0.23      0.23       170\n",
      "          24       0.35      0.34      0.35       813\n",
      "          25       0.00      0.00      0.00         0\n",
      "          26       0.48      0.47      0.47       467\n",
      "          28       0.00      0.00      0.00         2\n",
      "          32       0.00      0.00      0.00         0\n",
      "          33       0.19      0.24      0.21       108\n",
      "          36       0.00      0.00      0.00         1\n",
      "          38       0.00      0.00      0.00         0\n",
      "          44       0.00      0.00      0.00         1\n",
      "          47       0.00      0.00      0.00         1\n",
      "          49       0.77      0.77      0.77       214\n",
      "          51       0.00      0.00      0.00         2\n",
      "          52       0.00      0.00      0.00         1\n",
      "          53       0.00      0.00      0.00         1\n",
      "          55       0.24      0.22      0.23       208\n",
      "          57       0.00      0.00      0.00         0\n",
      "          59       0.00      0.00      0.00         2\n",
      "          62       0.00      0.00      0.00         1\n",
      "          63       0.26      0.27      0.27       278\n",
      "          65       0.00      0.00      0.00         1\n",
      "          66       0.13      0.13      0.13       134\n",
      "          67       0.00      0.00      0.00         1\n",
      "          70       0.44      0.41      0.43       923\n",
      "          71       0.41      0.43      0.42       851\n",
      "          73       0.19      0.22      0.20       138\n",
      "          75       0.00      0.00      0.00         1\n",
      "          76       0.00      0.00      0.00         1\n",
      "          77       0.00      0.00      0.00         1\n",
      "          78       0.00      0.00      0.00         2\n",
      "          79       0.00      0.00      0.00         0\n",
      "          80       0.00      0.00      0.00         1\n",
      "          81       0.29      0.26      0.27       151\n",
      "          82       0.00      0.00      0.00         0\n",
      "          84       0.03      0.03      0.03        74\n",
      "          87       0.22      0.22      0.22       362\n",
      "          89       0.00      0.00      0.00         0\n",
      "          90       0.55      0.57      0.56       845\n",
      "          92       0.17      0.16      0.16       112\n",
      "          93       0.27      0.25      0.26       174\n",
      "          95       0.00      0.00      0.00         1\n",
      "          96       0.00      0.00      0.00         0\n",
      "          99       0.35      0.38      0.37       154\n",
      "         101       0.00      0.00      0.00         1\n",
      "         102       0.00      0.00      0.00         1\n",
      "         105       0.00      0.00      0.00         0\n",
      "         107       0.00      0.00      0.00         1\n",
      "         114       0.00      0.00      0.00         1\n",
      "         120       0.00      0.00      0.00        11\n",
      "         124       0.00      0.00      0.00         4\n",
      "         125       0.00      0.00      0.00         0\n",
      "\n",
      "    accuracy                           0.39      6976\n",
      "   macro avg       0.10      0.10      0.10      6976\n",
      "weighted avg       0.39      0.39      0.39      6976\n",
      "\n",
      "Temps d'exécution:  101.86959886550903\n"
     ]
    },
    {
     "name": "stderr",
     "output_type": "stream",
     "text": [
      "C:\\Users\\Happy\\Anaconda3\\lib\\site-packages\\sklearn\\metrics\\_classification.py:1221: UndefinedMetricWarning: Precision is ill-defined and being set to 0.0 in labels with no predicted samples. Use `zero_division` parameter to control this behavior.\n",
      "  _warn_prf(average, modifier, msg_start, len(result))\n",
      "C:\\Users\\Happy\\Anaconda3\\lib\\site-packages\\sklearn\\metrics\\_classification.py:1221: UndefinedMetricWarning: Recall is ill-defined and being set to 0.0 in labels with no true samples. Use `zero_division` parameter to control this behavior.\n",
      "  _warn_prf(average, modifier, msg_start, len(result))\n",
      "C:\\Users\\Happy\\Anaconda3\\lib\\site-packages\\sklearn\\metrics\\_classification.py:1221: UndefinedMetricWarning: Precision and F-score are ill-defined and being set to 0.0 in labels with no predicted samples. Use `zero_division` parameter to control this behavior.\n",
      "  _warn_prf(average, modifier, msg_start, len(result))\n",
      "C:\\Users\\Happy\\Anaconda3\\lib\\site-packages\\sklearn\\metrics\\_classification.py:1221: UndefinedMetricWarning: Recall and F-score are ill-defined and being set to 0.0 in labels with no true samples. Use `zero_division` parameter to control this behavior.\n",
      "  _warn_prf(average, modifier, msg_start, len(result))\n"
     ]
    }
   ],
   "source": [
    "debut_tree = time.time()\n",
    "\n",
    "tree_class = DecisionTreeClassifier()\n",
    "tree_class.fit(X, Y)\n",
    "\n",
    "Y_pred = tree_class.predict(X_test_2)\n",
    "\n",
    "fin_tree =  time.time()\n",
    "print(f1_score(Y_test_2, Y_pred, average='micro'))\n",
    "print(precision_score(Y_test_2, Y_pred, average=\"macro\"))\n",
    "print(recall_score(Y_test_2, Y_pred, average=\"macro\"))\n",
    "print(classification_report(Y_test_2, Y_pred))\n",
    "print(\"Temps d'exécution: \", fin_tree - debut_tree)"
   ]
  },
  {
   "cell_type": "markdown",
   "metadata": {},
   "source": [
    "#### Régression logistique"
   ]
  },
  {
   "cell_type": "code",
   "execution_count": 77,
   "metadata": {
    "scrolled": false
   },
   "outputs": [
    {
     "name": "stdout",
     "output_type": "stream",
     "text": [
      "0.6619839449541285\n",
      "0.22558681990384988\n",
      "0.21316928210633107\n",
      "              precision    recall  f1-score   support\n",
      "\n",
      "           0       0.24      0.22      0.23       112\n",
      "           1       0.00      0.00      0.00         1\n",
      "           3       0.00      0.00      0.00         1\n",
      "           5       0.80      0.75      0.77       632\n",
      "           9       0.00      0.00      0.00         3\n",
      "          11       0.00      0.00      0.00         0\n",
      "          13       0.00      0.00      0.00         8\n",
      "          14       0.00      0.00      0.00         2\n",
      "          21       0.00      0.00      0.00         0\n",
      "          22       0.00      0.00      0.00         1\n",
      "          23       0.42      0.41      0.41       170\n",
      "          24       0.64      0.65      0.65       813\n",
      "          26       0.67      0.69      0.68       467\n",
      "          28       0.00      0.00      0.00         2\n",
      "          33       0.31      0.37      0.34       108\n",
      "          36       0.00      0.00      0.00         1\n",
      "          44       0.00      0.00      0.00         1\n",
      "          47       0.00      0.00      0.00         1\n",
      "          49       0.85      0.88      0.87       214\n",
      "          51       0.00      0.00      0.00         2\n",
      "          52       0.00      0.00      0.00         1\n",
      "          53       0.00      0.00      0.00         1\n",
      "          55       0.44      0.47      0.46       208\n",
      "          59       0.00      0.00      0.00         2\n",
      "          62       0.00      0.00      0.00         1\n",
      "          63       0.54      0.60      0.57       278\n",
      "          65       0.00      0.00      0.00         1\n",
      "          66       0.29      0.27      0.28       134\n",
      "          67       0.00      0.00      0.00         1\n",
      "          70       0.76      0.72      0.74       923\n",
      "          71       0.73      0.70      0.72       851\n",
      "          73       0.36      0.45      0.40       138\n",
      "          75       0.00      0.00      0.00         1\n",
      "          76       0.00      0.00      0.00         1\n",
      "          77       0.00      0.00      0.00         1\n",
      "          78       0.00      0.00      0.00         2\n",
      "          80       0.00      0.00      0.00         1\n",
      "          81       0.62      0.60      0.61       151\n",
      "          82       0.00      0.00      0.00         0\n",
      "          84       0.15      0.22      0.17        74\n",
      "          87       0.71      0.65      0.68       362\n",
      "          90       0.84      0.84      0.84       845\n",
      "          92       0.58      0.62      0.60       112\n",
      "          93       0.66      0.63      0.64       174\n",
      "          94       0.00      0.00      0.00         0\n",
      "          95       0.00      0.00      0.00         1\n",
      "          97       0.00      0.00      0.00         0\n",
      "          99       0.58      0.66      0.62       154\n",
      "         101       0.00      0.00      0.00         1\n",
      "         102       0.00      0.00      0.00         1\n",
      "         107       0.00      0.00      0.00         1\n",
      "         114       0.00      0.00      0.00         1\n",
      "         120       1.00      0.09      0.17        11\n",
      "         124       0.00      0.00      0.00         4\n",
      "\n",
      "    accuracy                           0.66      6976\n",
      "   macro avg       0.23      0.21      0.21      6976\n",
      "weighted avg       0.67      0.66      0.66      6976\n",
      "\n",
      "Temps d'exécution:  24.22258186340332\n"
     ]
    },
    {
     "name": "stderr",
     "output_type": "stream",
     "text": [
      "C:\\Users\\Happy\\Anaconda3\\lib\\site-packages\\sklearn\\linear_model\\_logistic.py:764: ConvergenceWarning: lbfgs failed to converge (status=1):\n",
      "STOP: TOTAL NO. of ITERATIONS REACHED LIMIT.\n",
      "\n",
      "Increase the number of iterations (max_iter) or scale the data as shown in:\n",
      "    https://scikit-learn.org/stable/modules/preprocessing.html\n",
      "Please also refer to the documentation for alternative solver options:\n",
      "    https://scikit-learn.org/stable/modules/linear_model.html#logistic-regression\n",
      "  extra_warning_msg=_LOGISTIC_SOLVER_CONVERGENCE_MSG)\n",
      "C:\\Users\\Happy\\Anaconda3\\lib\\site-packages\\sklearn\\metrics\\_classification.py:1221: UndefinedMetricWarning: Precision is ill-defined and being set to 0.0 in labels with no predicted samples. Use `zero_division` parameter to control this behavior.\n",
      "  _warn_prf(average, modifier, msg_start, len(result))\n",
      "C:\\Users\\Happy\\Anaconda3\\lib\\site-packages\\sklearn\\metrics\\_classification.py:1221: UndefinedMetricWarning: Recall is ill-defined and being set to 0.0 in labels with no true samples. Use `zero_division` parameter to control this behavior.\n",
      "  _warn_prf(average, modifier, msg_start, len(result))\n",
      "C:\\Users\\Happy\\Anaconda3\\lib\\site-packages\\sklearn\\metrics\\_classification.py:1221: UndefinedMetricWarning: Precision and F-score are ill-defined and being set to 0.0 in labels with no predicted samples. Use `zero_division` parameter to control this behavior.\n",
      "  _warn_prf(average, modifier, msg_start, len(result))\n",
      "C:\\Users\\Happy\\Anaconda3\\lib\\site-packages\\sklearn\\metrics\\_classification.py:1221: UndefinedMetricWarning: Recall and F-score are ill-defined and being set to 0.0 in labels with no true samples. Use `zero_division` parameter to control this behavior.\n",
      "  _warn_prf(average, modifier, msg_start, len(result))\n"
     ]
    }
   ],
   "source": [
    "debut_reg = time.time()\n",
    "\n",
    "log_reg = LogisticRegression()\n",
    "log_reg.fit(X, Y)\n",
    "Y_pred = log_reg.predict(X_test_2)\n",
    "\n",
    "fin_reg = time.time()\n",
    "print(f1_score(Y_test_2, Y_pred, average='micro'))\n",
    "print(precision_score(Y_test_2, Y_pred, average=\"macro\"))\n",
    "print(recall_score(Y_test_2, Y_pred, average=\"macro\"))\n",
    "print(classification_report(Y_test_2, Y_pred))\n",
    "print(\"Temps d'exécution: \", fin_reg - debut_reg)"
   ]
  },
  {
   "cell_type": "markdown",
   "metadata": {},
   "source": [
    "#### SVM"
   ]
  },
  {
   "cell_type": "code",
   "execution_count": 78,
   "metadata": {
    "scrolled": false
   },
   "outputs": [
    {
     "name": "stdout",
     "output_type": "stream",
     "text": [
      "0.6810493119266054\n",
      "0.266716028212696\n",
      "0.22460081729901948\n",
      "              precision    recall  f1-score   support\n",
      "\n",
      "           0       0.50      0.03      0.05       112\n",
      "           1       0.00      0.00      0.00         1\n",
      "           3       0.00      0.00      0.00         1\n",
      "           5       0.77      0.81      0.79       632\n",
      "           9       0.00      0.00      0.00         3\n",
      "          13       0.00      0.00      0.00         8\n",
      "          14       0.00      0.00      0.00         2\n",
      "          22       0.00      0.00      0.00         1\n",
      "          23       0.71      0.29      0.41       170\n",
      "          24       0.53      0.76      0.63       813\n",
      "          26       0.71      0.72      0.72       467\n",
      "          28       0.00      0.00      0.00         2\n",
      "          33       0.40      0.40      0.40       108\n",
      "          36       0.00      0.00      0.00         1\n",
      "          44       0.00      0.00      0.00         1\n",
      "          47       0.00      0.00      0.00         1\n",
      "          49       0.91      0.90      0.91       214\n",
      "          51       0.00      0.00      0.00         2\n",
      "          52       0.00      0.00      0.00         1\n",
      "          53       0.00      0.00      0.00         1\n",
      "          55       0.51      0.50      0.51       208\n",
      "          59       0.00      0.00      0.00         2\n",
      "          62       0.00      0.00      0.00         1\n",
      "          63       0.57      0.66      0.61       278\n",
      "          65       0.00      0.00      0.00         1\n",
      "          66       0.51      0.14      0.22       134\n",
      "          67       0.00      0.00      0.00         1\n",
      "          70       0.67      0.72      0.69       923\n",
      "          71       0.68      0.79      0.74       851\n",
      "          73       0.51      0.24      0.33       138\n",
      "          75       0.00      0.00      0.00         1\n",
      "          76       0.00      0.00      0.00         1\n",
      "          77       0.00      0.00      0.00         1\n",
      "          78       0.00      0.00      0.00         2\n",
      "          80       0.00      0.00      0.00         1\n",
      "          81       0.76      0.64      0.69       151\n",
      "          84       0.40      0.03      0.05        74\n",
      "          87       0.84      0.59      0.69       362\n",
      "          90       0.80      0.85      0.83       845\n",
      "          92       0.79      0.59      0.67       112\n",
      "          93       0.86      0.59      0.70       174\n",
      "          95       0.00      0.00      0.00         1\n",
      "          99       0.64      0.76      0.69       154\n",
      "         101       0.00      0.00      0.00         1\n",
      "         102       0.00      0.00      0.00         1\n",
      "         107       0.00      0.00      0.00         1\n",
      "         114       0.00      0.00      0.00         1\n",
      "         120       0.00      0.00      0.00        11\n",
      "         124       0.00      0.00      0.00         4\n",
      "\n",
      "    accuracy                           0.68      6976\n",
      "   macro avg       0.27      0.22      0.23      6976\n",
      "weighted avg       0.68      0.68      0.66      6976\n",
      "\n",
      "Temps d'éxecution:  1478.547325372696\n"
     ]
    },
    {
     "name": "stderr",
     "output_type": "stream",
     "text": [
      "C:\\Users\\Happy\\Anaconda3\\lib\\site-packages\\sklearn\\metrics\\_classification.py:1221: UndefinedMetricWarning: Precision is ill-defined and being set to 0.0 in labels with no predicted samples. Use `zero_division` parameter to control this behavior.\n",
      "  _warn_prf(average, modifier, msg_start, len(result))\n",
      "C:\\Users\\Happy\\Anaconda3\\lib\\site-packages\\sklearn\\metrics\\_classification.py:1221: UndefinedMetricWarning: Precision and F-score are ill-defined and being set to 0.0 in labels with no predicted samples. Use `zero_division` parameter to control this behavior.\n",
      "  _warn_prf(average, modifier, msg_start, len(result))\n"
     ]
    }
   ],
   "source": [
    "debut_svm = time.time()\n",
    "\n",
    "svm = SVC()\n",
    "svm.fit(X, Y)\n",
    "Y_pred = svm.predict(X_test_2)\n",
    "\n",
    "fin_svm = time.time()\n",
    "print(f1_score(Y_test_2, Y_pred, average='micro'))\n",
    "print(precision_score(Y_test_2, Y_pred, average=\"macro\"))\n",
    "print(recall_score(Y_test_2, Y_pred, average=\"macro\"))\n",
    "print(classification_report(Y_test_2, Y_pred))\n",
    "print(\"Temps d'éxecution: \", fin_svm - debut_svm)"
   ]
  },
  {
   "cell_type": "markdown",
   "metadata": {},
   "source": [
    "## Modèle choisi"
   ]
  },
  {
   "cell_type": "markdown",
   "metadata": {},
   "source": [
    "Le meilleur score est atteint avec la SVM (accuracy = 0,68). Cependant le temps d'exécution de la SVM est plus de 60 fois plus long que pour la régression linéaire qui possède un score de 0,66.\n",
    "Le modèle choisi est donc la régression logistique avec un score accuracy de 0,66 avec les paramètres par défaut suivants: _{'C': 1, 'max_iter': 100, 'penalty': 'l2'}._\n",
    "\n",
    "On teste d'autres paramètres pour améliorer si possible le score."
   ]
  },
  {
   "cell_type": "code",
   "execution_count": 45,
   "metadata": {},
   "outputs": [],
   "source": [
    "# Choix des données d'entrainement\n",
    "X = X_train_2\n",
    "Y = Y_train_2"
   ]
  },
  {
   "cell_type": "code",
   "execution_count": null,
   "metadata": {},
   "outputs": [],
   "source": [
    "#Choix du modèle\n",
    "model = LogisticRegression()"
   ]
  },
  {
   "cell_type": "markdown",
   "metadata": {},
   "source": [
    "### Tuning des paramètres : GridSearchCV V1"
   ]
  },
  {
   "cell_type": "code",
   "execution_count": 47,
   "metadata": {},
   "outputs": [
    {
     "name": "stdout",
     "output_type": "stream",
     "text": [
      "Fitting 5 folds for each of 12 candidates, totalling 60 fits\n"
     ]
    },
    {
     "name": "stderr",
     "output_type": "stream",
     "text": [
      "C:\\Users\\Happy\\Anaconda3\\lib\\site-packages\\sklearn\\model_selection\\_split.py:672: UserWarning: The least populated class in y has only 1 members, which is less than n_splits=5.\n",
      "  % (min_groups, self.n_splits)), UserWarning)\n",
      "[Parallel(n_jobs=-1)]: Using backend LokyBackend with 8 concurrent workers.\n",
      "[Parallel(n_jobs=-1)]: Done  25 tasks      | elapsed:  2.3min\n",
      "[Parallel(n_jobs=-1)]: Done  60 out of  60 | elapsed:  7.1min finished\n",
      "C:\\Users\\Happy\\Anaconda3\\lib\\site-packages\\sklearn\\linear_model\\_logistic.py:764: ConvergenceWarning: lbfgs failed to converge (status=1):\n",
      "STOP: TOTAL NO. of ITERATIONS REACHED LIMIT.\n",
      "\n",
      "Increase the number of iterations (max_iter) or scale the data as shown in:\n",
      "    https://scikit-learn.org/stable/modules/preprocessing.html\n",
      "Please also refer to the documentation for alternative solver options:\n",
      "    https://scikit-learn.org/stable/modules/linear_model.html#logistic-regression\n",
      "  extra_warning_msg=_LOGISTIC_SOLVER_CONVERGENCE_MSG)\n"
     ]
    }
   ],
   "source": [
    "param_grid = {\n",
    "    'penalty': ['l1', 'none'],\n",
    "    'C': [1, 10, 100],\n",
    "    'max_iter': [100, 150]\n",
    "}\n",
    "\n",
    "grid_search = GridSearchCV(estimator=model, param_grid=param_grid,\n",
    "                           cv=5, scoring=\"accuracy\", verbose=2, n_jobs=-1)\n",
    "\n",
    "best_model = grid_search.fit(X, Y)"
   ]
  },
  {
   "cell_type": "code",
   "execution_count": 48,
   "metadata": {},
   "outputs": [
    {
     "data": {
      "text/plain": [
       "{'C': 1, 'max_iter': 100, 'penalty': 'none'}"
      ]
     },
     "execution_count": 48,
     "metadata": {},
     "output_type": "execute_result"
    }
   ],
   "source": [
    "grid_search.best_params_"
   ]
  },
  {
   "cell_type": "code",
   "execution_count": 49,
   "metadata": {},
   "outputs": [
    {
     "data": {
      "text/plain": [
       "0.6280645161290322"
      ]
     },
     "execution_count": 49,
     "metadata": {},
     "output_type": "execute_result"
    }
   ],
   "source": [
    "grid_search.best_score_"
   ]
  },
  {
   "cell_type": "markdown",
   "metadata": {},
   "source": [
    "### Tuning des paramètres : GridSearchCV V2"
   ]
  },
  {
   "cell_type": "code",
   "execution_count": 50,
   "metadata": {},
   "outputs": [
    {
     "name": "stdout",
     "output_type": "stream",
     "text": [
      "Fitting 5 folds for each of 8 candidates, totalling 40 fits\n"
     ]
    },
    {
     "name": "stderr",
     "output_type": "stream",
     "text": [
      "C:\\Users\\Happy\\Anaconda3\\lib\\site-packages\\sklearn\\model_selection\\_split.py:672: UserWarning: The least populated class in y has only 1 members, which is less than n_splits=5.\n",
      "  % (min_groups, self.n_splits)), UserWarning)\n",
      "[Parallel(n_jobs=-1)]: Using backend LokyBackend with 8 concurrent workers.\n",
      "[Parallel(n_jobs=-1)]: Done  25 tasks      | elapsed:  2.8min\n",
      "[Parallel(n_jobs=-1)]: Done  40 out of  40 | elapsed: 26.7min finished\n",
      "C:\\Users\\Happy\\Anaconda3\\lib\\site-packages\\sklearn\\linear_model\\_logistic.py:764: ConvergenceWarning: lbfgs failed to converge (status=1):\n",
      "STOP: TOTAL NO. of ITERATIONS REACHED LIMIT.\n",
      "\n",
      "Increase the number of iterations (max_iter) or scale the data as shown in:\n",
      "    https://scikit-learn.org/stable/modules/preprocessing.html\n",
      "Please also refer to the documentation for alternative solver options:\n",
      "    https://scikit-learn.org/stable/modules/linear_model.html#logistic-regression\n",
      "  extra_warning_msg=_LOGISTIC_SOLVER_CONVERGENCE_MSG)\n"
     ]
    }
   ],
   "source": [
    "param_grid = {\n",
    "    'penalty': ['l1', 'l2'],\n",
    "    'C': [1, 10],\n",
    "    'max_iter': [100, 1000]\n",
    "}\n",
    "\n",
    "grid_search = GridSearchCV(estimator=model, param_grid=param_grid,\n",
    "                           cv=5, scoring=\"accuracy\", verbose=2, n_jobs=-1)\n",
    "best_model = grid_search.fit(X, Y)"
   ]
  },
  {
   "cell_type": "code",
   "execution_count": 51,
   "metadata": {},
   "outputs": [
    {
     "data": {
      "text/plain": [
       "{'C': 1, 'max_iter': 100, 'penalty': 'l2'}"
      ]
     },
     "execution_count": 51,
     "metadata": {},
     "output_type": "execute_result"
    }
   ],
   "source": [
    "grid_search.best_params_"
   ]
  },
  {
   "cell_type": "code",
   "execution_count": 52,
   "metadata": {},
   "outputs": [
    {
     "data": {
      "text/plain": [
       "0.6470967741935484"
      ]
     },
     "execution_count": 52,
     "metadata": {},
     "output_type": "execute_result"
    }
   ],
   "source": [
    "grid_search.best_score_"
   ]
  },
  {
   "cell_type": "markdown",
   "metadata": {},
   "source": [
    "### Tuning des paramètres : GridSearchCV V3"
   ]
  },
  {
   "cell_type": "code",
   "execution_count": 53,
   "metadata": {},
   "outputs": [
    {
     "name": "stdout",
     "output_type": "stream",
     "text": [
      "Fitting 5 folds for each of 20 candidates, totalling 100 fits\n"
     ]
    },
    {
     "name": "stderr",
     "output_type": "stream",
     "text": [
      "C:\\Users\\Happy\\Anaconda3\\lib\\site-packages\\sklearn\\model_selection\\_split.py:672: UserWarning: The least populated class in y has only 1 members, which is less than n_splits=5.\n",
      "  % (min_groups, self.n_splits)), UserWarning)\n",
      "[Parallel(n_jobs=-1)]: Using backend LokyBackend with 8 concurrent workers.\n",
      "[Parallel(n_jobs=-1)]: Done  25 tasks      | elapsed:  3.4min\n",
      "[Parallel(n_jobs=-1)]: Done 100 out of 100 | elapsed: 16.0min finished\n",
      "C:\\Users\\Happy\\Anaconda3\\lib\\site-packages\\sklearn\\linear_model\\_logistic.py:764: ConvergenceWarning: lbfgs failed to converge (status=1):\n",
      "STOP: TOTAL NO. of ITERATIONS REACHED LIMIT.\n",
      "\n",
      "Increase the number of iterations (max_iter) or scale the data as shown in:\n",
      "    https://scikit-learn.org/stable/modules/preprocessing.html\n",
      "Please also refer to the documentation for alternative solver options:\n",
      "    https://scikit-learn.org/stable/modules/linear_model.html#logistic-regression\n",
      "  extra_warning_msg=_LOGISTIC_SOLVER_CONVERGENCE_MSG)\n"
     ]
    }
   ],
   "source": [
    "param_grid = {\n",
    "    'penalty': ['l2', 'none'],\n",
    "     'C': np.logspace(-2,2,5),\n",
    "    'max_iter': [50,100]\n",
    "}\n",
    "\n",
    "grid_search = GridSearchCV(estimator=model, param_grid=param_grid, cv=5, scoring=\"accuracy\", verbose=2, n_jobs=-1)\n",
    "best_model = grid_search.fit(X, Y)"
   ]
  },
  {
   "cell_type": "markdown",
   "metadata": {},
   "source": [
    "Meilleurs paramètres: {'C': 0.01, 'max_iter': 100, 'penalty': 'l2'}\n",
    "\n",
    "Meilleur score: 0.7102879303541482"
   ]
  },
  {
   "cell_type": "code",
   "execution_count": 54,
   "metadata": {},
   "outputs": [
    {
     "data": {
      "text/plain": [
       "{'C': 0.01, 'max_iter': 100, 'penalty': 'l2'}"
      ]
     },
     "execution_count": 54,
     "metadata": {},
     "output_type": "execute_result"
    }
   ],
   "source": [
    "grid_search.best_params_"
   ]
  },
  {
   "cell_type": "code",
   "execution_count": 55,
   "metadata": {},
   "outputs": [
    {
     "data": {
      "text/plain": [
       "0.7040143369175628"
      ]
     },
     "execution_count": 55,
     "metadata": {},
     "output_type": "execute_result"
    }
   ],
   "source": [
    "grid_search.best_score_"
   ]
  },
  {
   "cell_type": "markdown",
   "metadata": {},
   "source": [
    "### Tuning des paramètres : GridSearchCV V4"
   ]
  },
  {
   "cell_type": "code",
   "execution_count": 56,
   "metadata": {},
   "outputs": [
    {
     "name": "stdout",
     "output_type": "stream",
     "text": [
      "Fitting 5 folds for each of 16 candidates, totalling 80 fits\n"
     ]
    },
    {
     "name": "stderr",
     "output_type": "stream",
     "text": [
      "C:\\Users\\Happy\\Anaconda3\\lib\\site-packages\\sklearn\\model_selection\\_split.py:672: UserWarning: The least populated class in y has only 1 members, which is less than n_splits=5.\n",
      "  % (min_groups, self.n_splits)), UserWarning)\n",
      "[Parallel(n_jobs=-1)]: Using backend LokyBackend with 8 concurrent workers.\n",
      "[Parallel(n_jobs=-1)]: Done  25 tasks      | elapsed: 20.0min\n",
      "[Parallel(n_jobs=-1)]: Done  80 out of  80 | elapsed: 94.6min finished\n"
     ]
    }
   ],
   "source": [
    "param_grid = {\n",
    "    'penalty': ['l2', 'none'],\n",
    "     'C': np.logspace(-1,2,4),\n",
    "    'max_iter': [100,1000]\n",
    "}\n",
    "\n",
    "grid_search = GridSearchCV(estimator=model, param_grid=param_grid, cv=5, scoring=\"accuracy\", verbose=2, n_jobs=-1)\n",
    "best_model = grid_search.fit(X, Y)"
   ]
  },
  {
   "cell_type": "code",
   "execution_count": 57,
   "metadata": {},
   "outputs": [
    {
     "data": {
      "text/plain": [
       "{'C': 0.1, 'max_iter': 1000, 'penalty': 'l2'}"
      ]
     },
     "execution_count": 57,
     "metadata": {},
     "output_type": "execute_result"
    }
   ],
   "source": [
    "grid_search.best_params_"
   ]
  },
  {
   "cell_type": "code",
   "execution_count": 58,
   "metadata": {},
   "outputs": [
    {
     "data": {
      "text/plain": [
       "0.6757347670250896"
      ]
     },
     "execution_count": 58,
     "metadata": {},
     "output_type": "execute_result"
    }
   ],
   "source": [
    "grid_search.best_score_"
   ]
  },
  {
   "cell_type": "markdown",
   "metadata": {},
   "source": [
    "Meilleurs paramètres: {'C': 0.1, 'max_iter': 1000, 'penalty': 'l2'}\n",
    "Meilleur score: 0.6458596765972839"
   ]
  },
  {
   "cell_type": "markdown",
   "metadata": {},
   "source": [
    "### Paramètres choisis"
   ]
  },
  {
   "cell_type": "markdown",
   "metadata": {},
   "source": [
    "Après avoir testé différents paramètres, le meilleur score est obtenu dans le tuning V3 avec C=0,01, penalty=l2 et max_tier=100"
   ]
  },
  {
   "cell_type": "markdown",
   "metadata": {},
   "source": [
    "## Validation du modèle"
   ]
  },
  {
   "cell_type": "code",
   "execution_count": 112,
   "metadata": {},
   "outputs": [
    {
     "name": "stdout",
     "output_type": "stream",
     "text": [
      "              precision    recall  f1-score   support\n",
      "\n",
      "           0       0.28      0.10      0.15       122\n",
      "           1       0.00      0.00      0.00         1\n",
      "           3       0.78      0.82      0.80       749\n",
      "           9       0.00      0.00      0.00        13\n",
      "          10       0.00      0.00      0.00         1\n",
      "          11       0.00      0.00      0.00         1\n",
      "          12       0.41      0.38      0.39       176\n",
      "          13       0.67      0.74      0.70      1077\n",
      "          14       0.71      0.71      0.71       593\n",
      "          16       0.00      0.00      0.00         1\n",
      "          24       0.00      0.00      0.00         1\n",
      "          25       0.48      0.41      0.45       155\n",
      "          26       0.00      0.00      0.00         1\n",
      "          27       0.00      0.00      0.00         1\n",
      "          30       0.00      0.00      0.00         1\n",
      "          33       0.00      0.00      0.00         1\n",
      "          34       0.00      0.00      0.00         7\n",
      "          36       0.00      0.00      0.00         1\n",
      "          40       0.00      0.00      0.00         1\n",
      "          43       0.00      0.00      0.00         1\n",
      "          44       0.00      0.00      0.00         1\n",
      "          45       0.00      0.00      0.00         1\n",
      "          46       0.89      0.89      0.89       264\n",
      "          48       0.00      0.00      0.00         1\n",
      "          53       0.45      0.54      0.49       236\n",
      "          54       0.00      0.00      0.00         1\n",
      "          55       0.00      0.00      0.00         3\n",
      "          56       0.00      0.00      0.00         1\n",
      "          58       0.59      0.74      0.66       322\n",
      "          59       0.00      0.00      0.00         1\n",
      "          60       0.44      0.29      0.35       183\n",
      "          63       0.72      0.75      0.73      1115\n",
      "          65       0.74      0.79      0.76      1127\n",
      "          66       0.45      0.41      0.43       163\n",
      "          69       0.00      0.00      0.00         1\n",
      "          75       0.73      0.72      0.72       176\n",
      "          76       0.00      0.00      0.00         1\n",
      "          78       0.00      0.00      0.00         1\n",
      "          79       0.44      0.17      0.25       109\n",
      "          80       0.00      0.00      0.00         1\n",
      "          81       0.79      0.68      0.73       434\n",
      "          83       0.00      0.00      0.00         1\n",
      "          84       0.86      0.89      0.87      1108\n",
      "          86       0.66      0.57      0.61       107\n",
      "          87       0.78      0.69      0.73       206\n",
      "          97       0.71      0.68      0.70       213\n",
      "         103       0.00      0.00      0.00         2\n",
      "         104       0.00      0.00      0.00         1\n",
      "         107       0.00      0.00      0.00         1\n",
      "         108       0.00      0.00      0.00         1\n",
      "         110       0.00      0.00      0.00         1\n",
      "         113       0.00      0.00      0.00         1\n",
      "         115       0.00      0.00      0.00         1\n",
      "         116       0.00      0.00      0.00         3\n",
      "         118       0.00      0.00      0.00         1\n",
      "         119       0.00      0.00      0.00         1\n",
      "         120       0.00      0.00      0.00         1\n",
      "         121       0.00      0.00      0.00         1\n",
      "\n",
      "    accuracy                           0.71      8696\n",
      "   macro avg       0.22      0.21      0.21      8696\n",
      "weighted avg       0.70      0.71      0.70      8696\n",
      "\n"
     ]
    },
    {
     "name": "stderr",
     "output_type": "stream",
     "text": [
      "C:\\Users\\Happy\\Anaconda3\\lib\\site-packages\\sklearn\\linear_model\\_logistic.py:764: ConvergenceWarning: lbfgs failed to converge (status=1):\n",
      "STOP: TOTAL NO. of ITERATIONS REACHED LIMIT.\n",
      "\n",
      "Increase the number of iterations (max_iter) or scale the data as shown in:\n",
      "    https://scikit-learn.org/stable/modules/preprocessing.html\n",
      "Please also refer to the documentation for alternative solver options:\n",
      "    https://scikit-learn.org/stable/modules/linear_model.html#logistic-regression\n",
      "  extra_warning_msg=_LOGISTIC_SOLVER_CONVERGENCE_MSG)\n",
      "C:\\Users\\Happy\\Anaconda3\\lib\\site-packages\\sklearn\\metrics\\_classification.py:1221: UndefinedMetricWarning: Precision and F-score are ill-defined and being set to 0.0 in labels with no predicted samples. Use `zero_division` parameter to control this behavior.\n",
      "  _warn_prf(average, modifier, msg_start, len(result))\n"
     ]
    }
   ],
   "source": [
    "model_final = LogisticRegression(penalty='l2', C=0.01, max_iter=100)\n",
    "model_final.fit(X_train, Y_train)\n",
    "\n",
    "Y_pred = model_final.predict(X_test)\n",
    "print(classification_report(Y_test, Y_pred))"
   ]
  },
  {
   "cell_type": "code",
   "execution_count": 113,
   "metadata": {},
   "outputs": [
    {
     "data": {
      "text/plain": [
       "['model_final.plk']"
      ]
     },
     "execution_count": 113,
     "metadata": {},
     "output_type": "execute_result"
    }
   ],
   "source": [
    "# Exportation du modèle final\n",
    "joblib.dump(model_final, 'model_final.plk')"
   ]
  },
  {
   "cell_type": "code",
   "execution_count": null,
   "metadata": {},
   "outputs": [],
   "source": []
  }
 ],
 "metadata": {
  "kernelspec": {
   "display_name": "Python 3",
   "language": "python",
   "name": "python3"
  },
  "language_info": {
   "codemirror_mode": {
    "name": "ipython",
    "version": 3
   },
   "file_extension": ".py",
   "mimetype": "text/x-python",
   "name": "python",
   "nbconvert_exporter": "python",
   "pygments_lexer": "ipython3",
   "version": "3.7.4"
  },
  "toc": {
   "base_numbering": 1,
   "nav_menu": {},
   "number_sections": true,
   "sideBar": true,
   "skip_h1_title": false,
   "title_cell": "Table of Contents",
   "title_sidebar": "Contents",
   "toc_cell": false,
   "toc_position": {
    "height": "calc(100% - 180px)",
    "left": "10px",
    "top": "150px",
    "width": "168px"
   },
   "toc_section_display": true,
   "toc_window_display": true
  }
 },
 "nbformat": 4,
 "nbformat_minor": 2
}
