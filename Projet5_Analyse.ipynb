{
 "cells": [
  {
   "cell_type": "markdown",
   "metadata": {},
   "source": [
    "# Projet 5 - Catégorisez automatiquement des questions"
   ]
  },
  {
   "cell_type": "markdown",
   "metadata": {},
   "source": [
    "## Importation des librairies et des données et conversions"
   ]
  },
  {
   "cell_type": "code",
   "execution_count": 1,
   "metadata": {},
   "outputs": [],
   "source": [
    "import numpy as np\n",
    "import pandas as pd\n",
    "import gensim\n",
    "import scipy\n",
    "from sklearn.decomposition import LatentDirichletAllocation\n",
    "import csv\n",
    "from sklearn import preprocessing\n",
    "from sklearn import decomposition\n",
    "from sklearn.linear_model import LogisticRegression\n",
    "from sklearn.tree import DecisionTreeClassifier\n",
    "from sklearn import svm\n",
    "from sklearn.svm import SVC\n",
    "import matplotlib.pyplot as plt\n",
    "from sklearn.model_selection import cross_validate\n",
    "import time\n",
    "from sklearn.model_selection import GridSearchCV\n",
    "from sklearn.metrics import f1_score, accuracy_score, f1_score, precision_score, recall_score, classification_report, confusion_matrix, plot_confusion_matrix\n",
    "import joblib"
   ]
  },
  {
   "cell_type": "code",
   "execution_count": 2,
   "metadata": {},
   "outputs": [],
   "source": [
    "test_mx = pd.read_csv('test_mx.csv', sep=';', index_col=0)\n",
    "train_mx = pd.read_csv('train_mx.csv', sep=';', index_col=0)\n",
    "fw_dict = pd.read_csv('fw_dict.csv')\n",
    "test_df = pd.read_csv('processed_test_df.csv', sep=';',\n",
    "                      index_col=0, converters={'processed_tags': eval})\n",
    "train_df = pd.read_csv('processed_train_df.csv', sep=';',\n",
    "                       index_col=0, converters={'processed_tags': eval})"
   ]
  },
  {
   "cell_type": "code",
   "execution_count": 3,
   "metadata": {},
   "outputs": [],
   "source": [
    "feature_name = []\n",
    "with open('feature_name.csv', 'r') as data:\n",
    "    for line in csv.reader(data):\n",
    "        feature_name.append(line)\n",
    "\n",
    "# Transforme la liste de listes en liste\n",
    "feature_names = [item for sublist in feature_name for item in sublist]"
   ]
  },
  {
   "cell_type": "code",
   "execution_count": 4,
   "metadata": {},
   "outputs": [],
   "source": [
    "fw_dict = fw_dict.to_dict(orient='list')"
   ]
  },
  {
   "cell_type": "code",
   "execution_count": 5,
   "metadata": {},
   "outputs": [
    {
     "data": {
      "text/html": [
       "<div>\n",
       "<style scoped>\n",
       "    .dataframe tbody tr th:only-of-type {\n",
       "        vertical-align: middle;\n",
       "    }\n",
       "\n",
       "    .dataframe tbody tr th {\n",
       "        vertical-align: top;\n",
       "    }\n",
       "\n",
       "    .dataframe thead th {\n",
       "        text-align: right;\n",
       "    }\n",
       "</style>\n",
       "<table border=\"1\" class=\"dataframe\">\n",
       "  <thead>\n",
       "    <tr style=\"text-align: right;\">\n",
       "      <th></th>\n",
       "      <th>able</th>\n",
       "      <th>accept</th>\n",
       "      <th>access</th>\n",
       "      <th>according</th>\n",
       "      <th>account</th>\n",
       "      <th>achieve</th>\n",
       "      <th>across</th>\n",
       "      <th>action</th>\n",
       "      <th>active</th>\n",
       "      <th>activity</th>\n",
       "      <th>...</th>\n",
       "      <th>xcode</th>\n",
       "      <th>xml</th>\n",
       "      <th>xmlns</th>\n",
       "      <th>year</th>\n",
       "      <th>yes</th>\n",
       "      <th>yet</th>\n",
       "      <th>z</th>\n",
       "      <th>zero</th>\n",
       "      <th>zip</th>\n",
       "      <th>zygoteinit</th>\n",
       "    </tr>\n",
       "  </thead>\n",
       "  <tbody>\n",
       "    <tr>\n",
       "      <td>0</td>\n",
       "      <td>0.000000</td>\n",
       "      <td>0.000000</td>\n",
       "      <td>0.000000</td>\n",
       "      <td>0.000000</td>\n",
       "      <td>0.0</td>\n",
       "      <td>0.0</td>\n",
       "      <td>0.0</td>\n",
       "      <td>0.0</td>\n",
       "      <td>0.0</td>\n",
       "      <td>0.0</td>\n",
       "      <td>...</td>\n",
       "      <td>0.0</td>\n",
       "      <td>0.00000</td>\n",
       "      <td>0.000000</td>\n",
       "      <td>0.0</td>\n",
       "      <td>0.0</td>\n",
       "      <td>0.000000</td>\n",
       "      <td>0.0</td>\n",
       "      <td>0.0</td>\n",
       "      <td>0.0</td>\n",
       "      <td>0.0</td>\n",
       "    </tr>\n",
       "    <tr>\n",
       "      <td>1</td>\n",
       "      <td>0.000000</td>\n",
       "      <td>0.000000</td>\n",
       "      <td>0.000000</td>\n",
       "      <td>0.000000</td>\n",
       "      <td>0.0</td>\n",
       "      <td>0.0</td>\n",
       "      <td>0.0</td>\n",
       "      <td>0.0</td>\n",
       "      <td>0.0</td>\n",
       "      <td>0.0</td>\n",
       "      <td>...</td>\n",
       "      <td>0.0</td>\n",
       "      <td>0.00000</td>\n",
       "      <td>0.000000</td>\n",
       "      <td>0.0</td>\n",
       "      <td>0.0</td>\n",
       "      <td>0.000000</td>\n",
       "      <td>0.0</td>\n",
       "      <td>0.0</td>\n",
       "      <td>0.0</td>\n",
       "      <td>0.0</td>\n",
       "    </tr>\n",
       "    <tr>\n",
       "      <td>2</td>\n",
       "      <td>0.115881</td>\n",
       "      <td>0.000000</td>\n",
       "      <td>0.000000</td>\n",
       "      <td>0.000000</td>\n",
       "      <td>0.0</td>\n",
       "      <td>0.0</td>\n",
       "      <td>0.0</td>\n",
       "      <td>0.0</td>\n",
       "      <td>0.0</td>\n",
       "      <td>0.0</td>\n",
       "      <td>...</td>\n",
       "      <td>0.0</td>\n",
       "      <td>0.00000</td>\n",
       "      <td>0.000000</td>\n",
       "      <td>0.0</td>\n",
       "      <td>0.0</td>\n",
       "      <td>0.000000</td>\n",
       "      <td>0.0</td>\n",
       "      <td>0.0</td>\n",
       "      <td>0.0</td>\n",
       "      <td>0.0</td>\n",
       "    </tr>\n",
       "    <tr>\n",
       "      <td>3</td>\n",
       "      <td>0.000000</td>\n",
       "      <td>0.000000</td>\n",
       "      <td>0.000000</td>\n",
       "      <td>0.000000</td>\n",
       "      <td>0.0</td>\n",
       "      <td>0.0</td>\n",
       "      <td>0.0</td>\n",
       "      <td>0.0</td>\n",
       "      <td>0.0</td>\n",
       "      <td>0.0</td>\n",
       "      <td>...</td>\n",
       "      <td>0.0</td>\n",
       "      <td>0.00000</td>\n",
       "      <td>0.000000</td>\n",
       "      <td>0.0</td>\n",
       "      <td>0.0</td>\n",
       "      <td>0.000000</td>\n",
       "      <td>0.0</td>\n",
       "      <td>0.0</td>\n",
       "      <td>0.0</td>\n",
       "      <td>0.0</td>\n",
       "    </tr>\n",
       "    <tr>\n",
       "      <td>4</td>\n",
       "      <td>0.000000</td>\n",
       "      <td>0.000000</td>\n",
       "      <td>0.000000</td>\n",
       "      <td>0.000000</td>\n",
       "      <td>0.0</td>\n",
       "      <td>0.0</td>\n",
       "      <td>0.0</td>\n",
       "      <td>0.0</td>\n",
       "      <td>0.0</td>\n",
       "      <td>0.0</td>\n",
       "      <td>...</td>\n",
       "      <td>0.0</td>\n",
       "      <td>0.18369</td>\n",
       "      <td>0.000000</td>\n",
       "      <td>0.0</td>\n",
       "      <td>0.0</td>\n",
       "      <td>0.000000</td>\n",
       "      <td>0.0</td>\n",
       "      <td>0.0</td>\n",
       "      <td>0.0</td>\n",
       "      <td>0.0</td>\n",
       "    </tr>\n",
       "    <tr>\n",
       "      <td>...</td>\n",
       "      <td>...</td>\n",
       "      <td>...</td>\n",
       "      <td>...</td>\n",
       "      <td>...</td>\n",
       "      <td>...</td>\n",
       "      <td>...</td>\n",
       "      <td>...</td>\n",
       "      <td>...</td>\n",
       "      <td>...</td>\n",
       "      <td>...</td>\n",
       "      <td>...</td>\n",
       "      <td>...</td>\n",
       "      <td>...</td>\n",
       "      <td>...</td>\n",
       "      <td>...</td>\n",
       "      <td>...</td>\n",
       "      <td>...</td>\n",
       "      <td>...</td>\n",
       "      <td>...</td>\n",
       "      <td>...</td>\n",
       "      <td>...</td>\n",
       "    </tr>\n",
       "    <tr>\n",
       "      <td>34871</td>\n",
       "      <td>0.000000</td>\n",
       "      <td>0.000000</td>\n",
       "      <td>0.000000</td>\n",
       "      <td>0.000000</td>\n",
       "      <td>0.0</td>\n",
       "      <td>0.0</td>\n",
       "      <td>0.0</td>\n",
       "      <td>0.0</td>\n",
       "      <td>0.0</td>\n",
       "      <td>0.0</td>\n",
       "      <td>...</td>\n",
       "      <td>0.0</td>\n",
       "      <td>0.00000</td>\n",
       "      <td>0.000000</td>\n",
       "      <td>0.0</td>\n",
       "      <td>0.0</td>\n",
       "      <td>0.000000</td>\n",
       "      <td>0.0</td>\n",
       "      <td>0.0</td>\n",
       "      <td>0.0</td>\n",
       "      <td>0.0</td>\n",
       "    </tr>\n",
       "    <tr>\n",
       "      <td>34872</td>\n",
       "      <td>0.000000</td>\n",
       "      <td>0.000000</td>\n",
       "      <td>0.081002</td>\n",
       "      <td>0.000000</td>\n",
       "      <td>0.0</td>\n",
       "      <td>0.0</td>\n",
       "      <td>0.0</td>\n",
       "      <td>0.0</td>\n",
       "      <td>0.0</td>\n",
       "      <td>0.0</td>\n",
       "      <td>...</td>\n",
       "      <td>0.0</td>\n",
       "      <td>0.00000</td>\n",
       "      <td>0.000000</td>\n",
       "      <td>0.0</td>\n",
       "      <td>0.0</td>\n",
       "      <td>0.000000</td>\n",
       "      <td>0.0</td>\n",
       "      <td>0.0</td>\n",
       "      <td>0.0</td>\n",
       "      <td>0.0</td>\n",
       "    </tr>\n",
       "    <tr>\n",
       "      <td>34873</td>\n",
       "      <td>0.000000</td>\n",
       "      <td>0.235645</td>\n",
       "      <td>0.000000</td>\n",
       "      <td>0.108872</td>\n",
       "      <td>0.0</td>\n",
       "      <td>0.0</td>\n",
       "      <td>0.0</td>\n",
       "      <td>0.0</td>\n",
       "      <td>0.0</td>\n",
       "      <td>0.0</td>\n",
       "      <td>...</td>\n",
       "      <td>0.0</td>\n",
       "      <td>0.00000</td>\n",
       "      <td>0.000000</td>\n",
       "      <td>0.0</td>\n",
       "      <td>0.0</td>\n",
       "      <td>0.000000</td>\n",
       "      <td>0.0</td>\n",
       "      <td>0.0</td>\n",
       "      <td>0.0</td>\n",
       "      <td>0.0</td>\n",
       "    </tr>\n",
       "    <tr>\n",
       "      <td>34874</td>\n",
       "      <td>0.000000</td>\n",
       "      <td>0.000000</td>\n",
       "      <td>0.000000</td>\n",
       "      <td>0.000000</td>\n",
       "      <td>0.0</td>\n",
       "      <td>0.0</td>\n",
       "      <td>0.0</td>\n",
       "      <td>0.0</td>\n",
       "      <td>0.0</td>\n",
       "      <td>0.0</td>\n",
       "      <td>...</td>\n",
       "      <td>0.0</td>\n",
       "      <td>0.00000</td>\n",
       "      <td>0.000000</td>\n",
       "      <td>0.0</td>\n",
       "      <td>0.0</td>\n",
       "      <td>0.000000</td>\n",
       "      <td>0.0</td>\n",
       "      <td>0.0</td>\n",
       "      <td>0.0</td>\n",
       "      <td>0.0</td>\n",
       "    </tr>\n",
       "    <tr>\n",
       "      <td>34875</td>\n",
       "      <td>0.000000</td>\n",
       "      <td>0.000000</td>\n",
       "      <td>0.000000</td>\n",
       "      <td>0.000000</td>\n",
       "      <td>0.0</td>\n",
       "      <td>0.0</td>\n",
       "      <td>0.0</td>\n",
       "      <td>0.0</td>\n",
       "      <td>0.0</td>\n",
       "      <td>0.0</td>\n",
       "      <td>...</td>\n",
       "      <td>0.0</td>\n",
       "      <td>0.00000</td>\n",
       "      <td>0.053969</td>\n",
       "      <td>0.0</td>\n",
       "      <td>0.0</td>\n",
       "      <td>0.025111</td>\n",
       "      <td>0.0</td>\n",
       "      <td>0.0</td>\n",
       "      <td>0.0</td>\n",
       "      <td>0.0</td>\n",
       "    </tr>\n",
       "  </tbody>\n",
       "</table>\n",
       "<p>34876 rows × 977 columns</p>\n",
       "</div>"
      ],
      "text/plain": [
       "           able    accept    access  according  account  achieve  across  \\\n",
       "0      0.000000  0.000000  0.000000   0.000000      0.0      0.0     0.0   \n",
       "1      0.000000  0.000000  0.000000   0.000000      0.0      0.0     0.0   \n",
       "2      0.115881  0.000000  0.000000   0.000000      0.0      0.0     0.0   \n",
       "3      0.000000  0.000000  0.000000   0.000000      0.0      0.0     0.0   \n",
       "4      0.000000  0.000000  0.000000   0.000000      0.0      0.0     0.0   \n",
       "...         ...       ...       ...        ...      ...      ...     ...   \n",
       "34871  0.000000  0.000000  0.000000   0.000000      0.0      0.0     0.0   \n",
       "34872  0.000000  0.000000  0.081002   0.000000      0.0      0.0     0.0   \n",
       "34873  0.000000  0.235645  0.000000   0.108872      0.0      0.0     0.0   \n",
       "34874  0.000000  0.000000  0.000000   0.000000      0.0      0.0     0.0   \n",
       "34875  0.000000  0.000000  0.000000   0.000000      0.0      0.0     0.0   \n",
       "\n",
       "       action  active  activity  ...  xcode      xml     xmlns  year  yes  \\\n",
       "0         0.0     0.0       0.0  ...    0.0  0.00000  0.000000   0.0  0.0   \n",
       "1         0.0     0.0       0.0  ...    0.0  0.00000  0.000000   0.0  0.0   \n",
       "2         0.0     0.0       0.0  ...    0.0  0.00000  0.000000   0.0  0.0   \n",
       "3         0.0     0.0       0.0  ...    0.0  0.00000  0.000000   0.0  0.0   \n",
       "4         0.0     0.0       0.0  ...    0.0  0.18369  0.000000   0.0  0.0   \n",
       "...       ...     ...       ...  ...    ...      ...       ...   ...  ...   \n",
       "34871     0.0     0.0       0.0  ...    0.0  0.00000  0.000000   0.0  0.0   \n",
       "34872     0.0     0.0       0.0  ...    0.0  0.00000  0.000000   0.0  0.0   \n",
       "34873     0.0     0.0       0.0  ...    0.0  0.00000  0.000000   0.0  0.0   \n",
       "34874     0.0     0.0       0.0  ...    0.0  0.00000  0.000000   0.0  0.0   \n",
       "34875     0.0     0.0       0.0  ...    0.0  0.00000  0.053969   0.0  0.0   \n",
       "\n",
       "            yet    z  zero  zip  zygoteinit  \n",
       "0      0.000000  0.0   0.0  0.0         0.0  \n",
       "1      0.000000  0.0   0.0  0.0         0.0  \n",
       "2      0.000000  0.0   0.0  0.0         0.0  \n",
       "3      0.000000  0.0   0.0  0.0         0.0  \n",
       "4      0.000000  0.0   0.0  0.0         0.0  \n",
       "...         ...  ...   ...  ...         ...  \n",
       "34871  0.000000  0.0   0.0  0.0         0.0  \n",
       "34872  0.000000  0.0   0.0  0.0         0.0  \n",
       "34873  0.000000  0.0   0.0  0.0         0.0  \n",
       "34874  0.000000  0.0   0.0  0.0         0.0  \n",
       "34875  0.025111  0.0   0.0  0.0         0.0  \n",
       "\n",
       "[34876 rows x 977 columns]"
      ]
     },
     "execution_count": 5,
     "metadata": {},
     "output_type": "execute_result"
    }
   ],
   "source": [
    "train_mx"
   ]
  },
  {
   "cell_type": "code",
   "execution_count": 6,
   "metadata": {},
   "outputs": [],
   "source": [
    "train_feature = scipy.sparse.csr_matrix(train_mx.values)"
   ]
  },
  {
   "cell_type": "code",
   "execution_count": 7,
   "metadata": {},
   "outputs": [
    {
     "data": {
      "text/plain": [
       "<34876x977 sparse matrix of type '<class 'numpy.float64'>'\n",
       "\twith 1051739 stored elements in Compressed Sparse Row format>"
      ]
     },
     "execution_count": 7,
     "metadata": {},
     "output_type": "execute_result"
    }
   ],
   "source": [
    "train_feature"
   ]
  },
  {
   "cell_type": "markdown",
   "metadata": {},
   "source": [
    "## LDA"
   ]
  },
  {
   "cell_type": "code",
   "execution_count": 8,
   "metadata": {
    "scrolled": true
   },
   "outputs": [
    {
     "data": {
      "text/plain": [
       "LatentDirichletAllocation(learning_method='online', learning_offset=50.0,\n",
       "                          max_iter=5, n_components=11, random_state=0)"
      ]
     },
     "execution_count": 8,
     "metadata": {},
     "output_type": "execute_result"
    }
   ],
   "source": [
    "lda = LatentDirichletAllocation(n_components=11, max_iter=5,\n",
    "                                learning_method='online',\n",
    "                                learning_offset=50.,\n",
    "                                random_state=0)\n",
    "\n",
    "lda.fit(train_feature)"
   ]
  },
  {
   "cell_type": "code",
   "execution_count": 9,
   "metadata": {},
   "outputs": [],
   "source": [
    "def print_top_words(model, feature_names, n_top_words):\n",
    "    for topic_idx, topic in enumerate(model.components_):\n",
    "        print(\"Topic #%d:\" % topic_idx)\n",
    "        print(\" \".join([feature_names[i]\n",
    "                        for i in topic.argsort()[:-n_top_words - 1:-1]]))\n",
    "    print()"
   ]
  },
  {
   "cell_type": "code",
   "execution_count": 10,
   "metadata": {},
   "outputs": [
    {
     "name": "stdout",
     "output_type": "stream",
     "text": [
      "\n",
      "Topics in LDA model: \n",
      "Topic #0:\n",
      "use javascript using would page like code way file j know html browser c jquery function window application one google need example time want image work question good java find script web chrome event used user library get net looking\n",
      "Topic #1:\n",
      "public thread class method exception static void task java catch private new system difference async throw test interface null println try return string block queue object code main call e final instance wait console boolean writeline args run override int\n",
      "Topic #2:\n",
      "java android org jar eclipse com gradle maven spring annotation dependency hibernate lang junit xml bean compile build support google plugin apache sun class project util internal springframework version activitythread servlet jdk test http main error source property v groupid\n",
      "Topic #3:\n",
      "android view layout button image activity app self color intent item text id io screen height swift fragment want width parent r background set change textview action bar programmatically new dialog animation notification show drawable size application keyboard like menu\n",
      "Topic #4:\n",
      "date input datetime form jquery button value text event click day function option time td javascript div label element format select month type id field html get mm submit name checkbox want var hour using alert child box year tr\n",
      "Topic #5:\n",
      "file python error project version app run install studio android c path application build window directory module package py using command library get xcode code running test lib installed use line ruby system visual folder import debug php program process\n",
      "Topic #6:\n",
      "c int class std function x foo type b return variable value const operator code char use object string public pointer f method compiler argument double void like bar error vector struct parameter member include template would using constructor static\n",
      "Topic #7:\n",
      "string array list value object python key number way convert like character item x c return want get function var b would name new print int n dictionary element java loop integer using line method map use one example data\n",
      "Topic #8:\n",
      "git branch commit repository file master repo remote github push merge change pull origin directory local command folder head want project delete status way one feature tag fatal team ref like add fetch reset get working back new using would\n",
      "Topic #9:\n",
      "table div column row sql id cs query mysql px select width cell li height text image database style class like font color value data html element name panda want using span df background border insert dataframe left top index\n",
      "Topic #10:\n",
      "request user url data model json http error get name post response server string id new using file php function return password email public com controller app session net set client code var react connection log api rail username page\n",
      "\n"
     ]
    }
   ],
   "source": [
    "n_top_words = 40\n",
    "print(\"\\nTopics in LDA model: \")\n",
    "print_top_words(lda, feature_names, n_top_words)"
   ]
  },
  {
   "cell_type": "markdown",
   "metadata": {},
   "source": [
    "## ACP"
   ]
  },
  {
   "cell_type": "markdown",
   "metadata": {},
   "source": [
    "On extrait le 1er tag de chaque ligne pour créer 'y' de la base train et test. Il faut encoder les données sur le dataframe contenant toutes les données pour éviter des problèmes liés avec des tags qui apparaissent dans une base et non l'autre"
   ]
  },
  {
   "cell_type": "markdown",
   "metadata": {},
   "source": [
    "### LabelEncoder"
   ]
  },
  {
   "cell_type": "code",
   "execution_count": 8,
   "metadata": {},
   "outputs": [
    {
     "data": {
      "text/plain": [
       "LabelEncoder()"
      ]
     },
     "execution_count": 8,
     "metadata": {},
     "output_type": "execute_result"
    }
   ],
   "source": [
    "full_df = pd.concat([train_df, test_df])\n",
    "pre_base = [full_df['processed_tags'].iloc[i][0]\n",
    "            for i in range(len(full_df['processed_tags']))]\n",
    "le = preprocessing.LabelEncoder()\n",
    "le.fit(pre_base)"
   ]
  },
  {
   "cell_type": "code",
   "execution_count": 9,
   "metadata": {},
   "outputs": [],
   "source": [
    "pre_ytrain = [train_df['processed_tags'].iloc[i][0]\n",
    "              for i in range(len(train_df['processed_tags']))]\n",
    "y_train = le.transform(pre_ytrain)"
   ]
  },
  {
   "cell_type": "code",
   "execution_count": 10,
   "metadata": {},
   "outputs": [],
   "source": [
    "pre_ytest = [test_df['processed_tags'].iloc[i][0]\n",
    "             for i in range(len(test_df['processed_tags']))]\n",
    "y_test = le.transform(pre_ytest)"
   ]
  },
  {
   "cell_type": "code",
   "execution_count": 11,
   "metadata": {},
   "outputs": [],
   "source": [
    "# Normalisation de la base train\n",
    "std_scale = preprocessing.StandardScaler().fit(train_mx)\n",
    "X_scaled = std_scale.transform(train_mx)"
   ]
  },
  {
   "cell_type": "code",
   "execution_count": 12,
   "metadata": {},
   "outputs": [],
   "source": [
    "# Normalisation de la base test selon la base test\n",
    "X_scaled_test = std_scale.transform(test_mx)"
   ]
  },
  {
   "cell_type": "markdown",
   "metadata": {},
   "source": [
    "On test l'ACP avec plusieurs nombres de composants"
   ]
  },
  {
   "cell_type": "code",
   "execution_count": 13,
   "metadata": {},
   "outputs": [],
   "source": [
    "# On calcul les 2 premieres composantes principales\n",
    "pca = decomposition.PCA(n_components=800)\n",
    "pca.fit(X_scaled)\n",
    "\n",
    "# projeter X sur les composantes principales\n",
    "train_projected = pca.transform(X_scaled)"
   ]
  },
  {
   "cell_type": "code",
   "execution_count": 14,
   "metadata": {},
   "outputs": [],
   "source": [
    "test_projected = pca.transform(X_scaled_test)"
   ]
  },
  {
   "cell_type": "code",
   "execution_count": 15,
   "metadata": {},
   "outputs": [
    {
     "name": "stdout",
     "output_type": "stream",
     "text": [
      "0.8925587586009399\n"
     ]
    }
   ],
   "source": [
    "# Pourcentage de la variance expliquee\n",
    "# print(pca.explained_variance_ratio_)\n",
    "print(pca.explained_variance_ratio_.sum())"
   ]
  },
  {
   "cell_type": "code",
   "execution_count": 16,
   "metadata": {},
   "outputs": [
    {
     "data": {
      "image/png": "[encoded data removed]",
      "text/plain": [
       "<Figure size 720x576 with 1 Axes>"
      ]
     },
     "metadata": {
      "needs_background": "light"
     },
     "output_type": "display_data"
    }
   ],
   "source": [
    "plt.figure(figsize=(10, 8))\n",
    "scree = pca.explained_variance_ratio_*100\n",
    "#plt.bar(np.arange(len(scree))+1, scree)\n",
    "plt.plot(np.arange(len(scree)), np.cumsum(pca.explained_variance_ratio_), 'r-')\n",
    "plt.xlabel('Nombre de composantes principales')\n",
    "plt.ylabel('Pourcentage de la variance expliquee')\n",
    "plt.title(\"Eboulis des valeurs propres\")\n",
    "plt.show(block=False)"
   ]
  },
  {
   "cell_type": "markdown",
   "metadata": {},
   "source": [
    "On enregistre les composantes dans une variable qui devient le nouveau x_train"
   ]
  },
  {
   "cell_type": "code",
   "execution_count": 17,
   "metadata": {},
   "outputs": [
    {
     "data": {
      "text/plain": [
       "(34876, 800)"
      ]
     },
     "execution_count": 17,
     "metadata": {},
     "output_type": "execute_result"
    }
   ],
   "source": [
    "train_projected.shape"
   ]
  },
  {
   "cell_type": "markdown",
   "metadata": {},
   "source": [
    "## V1 - Modélisation"
   ]
  },
  {
   "cell_type": "markdown",
   "metadata": {},
   "source": [
    "Nous allons tester trois modèles différents pour trouver celui ayant la meilleure précision. Les trois modèles choisis sont:\n",
    "- l'arbre de décision\n",
    "- le modèle logisitique\n",
    "- la SVM\n",
    "\n",
    "Cette première version est simplement un premier jet, les versions suivantes sont plus travaillées et utiles"
   ]
  },
  {
   "cell_type": "markdown",
   "metadata": {},
   "source": [
    "### Arbre de décision"
   ]
  },
  {
   "cell_type": "code",
   "execution_count": 21,
   "metadata": {},
   "outputs": [
    {
     "data": {
      "text/plain": [
       "(34876, 977)"
      ]
     },
     "execution_count": 21,
     "metadata": {},
     "output_type": "execute_result"
    }
   ],
   "source": [
    "X_scaled.shape"
   ]
  },
  {
   "cell_type": "code",
   "execution_count": 22,
   "metadata": {},
   "outputs": [
    {
     "data": {
      "text/plain": [
       "(34876,)"
      ]
     },
     "execution_count": 22,
     "metadata": {},
     "output_type": "execute_result"
    }
   ],
   "source": [
    "y_train.shape"
   ]
  },
  {
   "cell_type": "code",
   "execution_count": 23,
   "metadata": {},
   "outputs": [
    {
     "name": "stderr",
     "output_type": "stream",
     "text": [
      "C:\\Users\\Happy\\Anaconda3\\lib\\site-packages\\sklearn\\model_selection\\_split.py:672: UserWarning: The least populated class in y has only 1 members, which is less than n_splits=5.\n",
      "  % (min_groups, self.n_splits)), UserWarning)\n"
     ]
    },
    {
     "data": {
      "text/plain": [
       "{'fit_time': array([102.06740141, 102.67597294, 109.02975059, 104.48239422,\n",
       "        103.40116   ]),\n",
       " 'score_time': array([0.03195596, 0.02400041, 0.02400041, 0.02453303, 0.02403855]),\n",
       " 'test_score': array([0.38704128, 0.38308244, 0.37749104, 0.39268817, 0.38566308]),\n",
       " 'train_score': array([0.99989247, 0.99992832, 0.99992832, 0.99992832, 0.99992832])}"
      ]
     },
     "execution_count": 23,
     "metadata": {},
     "output_type": "execute_result"
    }
   ],
   "source": [
    "tree_class = DecisionTreeClassifier()\n",
    "scores = cross_validate(estimator=tree_class, X=train_projected, y=y_train, cv=5, scoring=(\n",
    "    'accuracy'), return_train_score=True)\n",
    "\n",
    "scores"
   ]
  },
  {
   "cell_type": "code",
   "execution_count": 25,
   "metadata": {},
   "outputs": [],
   "source": [
    "#print('Accuracy moyenne pour data train:', scores['train_accuracy'].mean())\n",
    "\n",
    "#print('Accuracy moyen pour data test:', scores['test_accuracy'].mean())"
   ]
  },
  {
   "cell_type": "code",
   "execution_count": 26,
   "metadata": {},
   "outputs": [
    {
     "name": "stdout",
     "output_type": "stream",
     "text": [
      "Accuracy avec modèle: Arbre de décision: 0.39358736059479554\n",
      "144.60286808013916\n"
     ]
    }
   ],
   "source": [
    "debut = time.time()\n",
    "decision_tree = DecisionTreeClassifier()\n",
    "decision_tree.fit(train_projected, y_train)\n",
    "fin = time.time()\n",
    "print('Accuracy avec modèle: Arbre de décision:',\n",
    "      decision_tree.score(test_projected, y_test))\n",
    "print(fin-debut)"
   ]
  },
  {
   "cell_type": "markdown",
   "metadata": {},
   "source": [
    "### Modèle logistique"
   ]
  },
  {
   "cell_type": "code",
   "execution_count": 27,
   "metadata": {},
   "outputs": [
    {
     "data": {
      "text/plain": [
       "numpy.ndarray"
      ]
     },
     "execution_count": 27,
     "metadata": {},
     "output_type": "execute_result"
    }
   ],
   "source": [
    "type(y_train)"
   ]
  },
  {
   "cell_type": "code",
   "execution_count": null,
   "metadata": {},
   "outputs": [],
   "source": [
    "model = LogisticRegression()\n",
    "parameters = {'penalty': ['none'], 'C': [\n",
    "    0.01, 1, 100], 'max_iter': [1000]}\n",
    "gs_reglog = GridSearchCV(model, parameters, scoring=(\n",
    "    'accuracy'), refit='r2', cv=5)\n",
    "gs_reglog.fit(train_projected, y_train)"
   ]
  },
  {
   "cell_type": "code",
   "execution_count": null,
   "metadata": {},
   "outputs": [],
   "source": [
    "modele_logit = LogisticRegression(penalty='none')\n",
    "modele_logit.fit(train_projected, y_train)"
   ]
  },
  {
   "cell_type": "markdown",
   "metadata": {},
   "source": [
    "### SVM"
   ]
  },
  {
   "cell_type": "code",
   "execution_count": null,
   "metadata": {},
   "outputs": [],
   "source": [
    "SVM = svm.SVC(C=1.0, kernel='linear', degree=3, gamma='auto')\n",
    "SVM.fit(X_scaled, y_train)"
   ]
  },
  {
   "cell_type": "markdown",
   "metadata": {},
   "source": [
    "## V2 - Modélisation sur un échantillon"
   ]
  },
  {
   "cell_type": "markdown",
   "metadata": {},
   "source": [
    "Pour tester le bon fonctionnement des modèles, nous avons sélectionné les 10 000 première valeurs de X et Y afin de pouvoir faire tourner les algorithmes plus facilement. Cependant le résultat de ces tests là ne sont pas pris en compte dans le choix du modèle final."
   ]
  },
  {
   "cell_type": "code",
   "execution_count": 30,
   "metadata": {},
   "outputs": [],
   "source": [
    "X = train_projected[:10000]\n",
    "y = y_train[:10000]"
   ]
  },
  {
   "cell_type": "markdown",
   "metadata": {},
   "source": [
    "### Arbre de décision"
   ]
  },
  {
   "cell_type": "code",
   "execution_count": 31,
   "metadata": {},
   "outputs": [
    {
     "data": {
      "text/plain": [
       "DecisionTreeClassifier()"
      ]
     },
     "execution_count": 31,
     "metadata": {},
     "output_type": "execute_result"
    }
   ],
   "source": [
    "tree_class = DecisionTreeClassifier()\n",
    "tree_class.fit(X, y)"
   ]
  },
  {
   "cell_type": "code",
   "execution_count": 32,
   "metadata": {
    "scrolled": false
   },
   "outputs": [
    {
     "name": "stdout",
     "output_type": "stream",
     "text": [
      "0.35931691449814124\n",
      "0.08591997447324211\n",
      "0.08637855735368614\n",
      "              precision    recall  f1-score   support\n",
      "\n",
      "           0       0.03      0.03      0.03       106\n",
      "           3       0.00      0.00      0.00         3\n",
      "           5       0.47      0.46      0.46       800\n",
      "          10       0.00      0.00      0.00         0\n",
      "          13       0.00      0.00      0.00         6\n",
      "          14       0.00      0.00      0.00         0\n",
      "          16       0.00      0.00      0.00         1\n",
      "          23       0.14      0.15      0.15       197\n",
      "          24       0.30      0.26      0.28      1033\n",
      "          26       0.46      0.46      0.46       621\n",
      "          27       0.00      0.00      0.00         0\n",
      "          32       0.00      0.00      0.00         0\n",
      "          33       0.30      0.24      0.27       173\n",
      "          35       0.00      0.00      0.00         1\n",
      "          36       0.00      0.00      0.00         4\n",
      "          37       0.00      0.00      0.00         1\n",
      "          38       0.00      0.00      0.00         7\n",
      "          40       0.00      0.00      0.00         1\n",
      "          41       0.00      0.00      0.00         2\n",
      "          46       0.00      0.00      0.00         1\n",
      "          48       0.00      0.00      0.00         1\n",
      "          49       0.72      0.77      0.75       258\n",
      "          51       0.00      0.00      0.00         0\n",
      "          55       0.27      0.31      0.29       260\n",
      "          56       0.00      0.00      0.00         1\n",
      "          58       0.00      0.00      0.00         1\n",
      "          59       0.00      0.00      0.00         1\n",
      "          60       0.00      0.00      0.00         1\n",
      "          61       0.00      0.00      0.00         0\n",
      "          63       0.29      0.29      0.29       360\n",
      "          65       0.00      0.00      0.00         0\n",
      "          66       0.05      0.04      0.05       185\n",
      "          68       0.00      0.00      0.00         1\n",
      "          70       0.42      0.44      0.43      1082\n",
      "          71       0.39      0.41      0.40      1077\n",
      "          72       0.00      0.00      0.00         1\n",
      "          73       0.12      0.12      0.12       179\n",
      "          75       0.00      0.00      0.00         1\n",
      "          77       0.00      0.00      0.00         0\n",
      "          78       0.00      0.00      0.00         2\n",
      "          79       0.00      0.00      0.00         1\n",
      "          80       0.00      0.00      0.00         3\n",
      "          81       0.31      0.30      0.31       167\n",
      "          82       0.00      0.00      0.00         0\n",
      "          84       0.08      0.09      0.08        93\n",
      "          87       0.15      0.14      0.14       436\n",
      "          90       0.51      0.51      0.51      1026\n",
      "          91       0.00      0.00      0.00         1\n",
      "          92       0.14      0.18      0.16       104\n",
      "          93       0.20      0.17      0.19       203\n",
      "          94       0.00      0.00      0.00         0\n",
      "          97       0.00      0.00      0.00         0\n",
      "          99       0.32      0.33      0.32       190\n",
      "         102       0.00      0.00      0.00         4\n",
      "         104       0.00      0.00      0.00         0\n",
      "         106       0.00      0.00      0.00         1\n",
      "         110       0.00      0.00      0.00         1\n",
      "         113       0.00      0.00      0.00         0\n",
      "         115       0.00      0.00      0.00         1\n",
      "         116       0.00      0.00      0.00         0\n",
      "         118       0.00      0.00      0.00         1\n",
      "         120       0.00      0.00      0.00         6\n",
      "         122       0.00      0.00      0.00         1\n",
      "         123       0.00      0.00      0.00         0\n",
      "         124       0.00      0.00      0.00         0\n",
      "         125       0.00      0.00      0.00         1\n",
      "\n",
      "    accuracy                           0.36      8608\n",
      "   macro avg       0.09      0.09      0.09      8608\n",
      "weighted avg       0.36      0.36      0.36      8608\n",
      "\n"
     ]
    },
    {
     "name": "stderr",
     "output_type": "stream",
     "text": [
      "C:\\Users\\Happy\\Anaconda3\\lib\\site-packages\\sklearn\\metrics\\_classification.py:1221: UndefinedMetricWarning: Precision is ill-defined and being set to 0.0 in labels with no predicted samples. Use `zero_division` parameter to control this behavior.\n",
      "  _warn_prf(average, modifier, msg_start, len(result))\n",
      "C:\\Users\\Happy\\Anaconda3\\lib\\site-packages\\sklearn\\metrics\\_classification.py:1221: UndefinedMetricWarning: Recall is ill-defined and being set to 0.0 in labels with no true samples. Use `zero_division` parameter to control this behavior.\n",
      "  _warn_prf(average, modifier, msg_start, len(result))\n",
      "C:\\Users\\Happy\\Anaconda3\\lib\\site-packages\\sklearn\\metrics\\_classification.py:1221: UndefinedMetricWarning: Precision and F-score are ill-defined and being set to 0.0 in labels with no predicted samples. Use `zero_division` parameter to control this behavior.\n",
      "  _warn_prf(average, modifier, msg_start, len(result))\n",
      "C:\\Users\\Happy\\Anaconda3\\lib\\site-packages\\sklearn\\metrics\\_classification.py:1221: UndefinedMetricWarning: Recall and F-score are ill-defined and being set to 0.0 in labels with no true samples. Use `zero_division` parameter to control this behavior.\n",
      "  _warn_prf(average, modifier, msg_start, len(result))\n"
     ]
    }
   ],
   "source": [
    "y_pred = tree_class.predict(test_projected[:10000])\n",
    "\n",
    "print(f1_score(y_test[:10000], y_pred, average='micro'))\n",
    "print(precision_score(y_test[:10000], y_pred, average=\"macro\"))\n",
    "print(recall_score(y_test[:10000], y_pred, average=\"macro\"))\n",
    "print(classification_report(y_test[:10000], y_pred))"
   ]
  },
  {
   "cell_type": "markdown",
   "metadata": {},
   "source": [
    "### Régression logistique"
   ]
  },
  {
   "cell_type": "code",
   "execution_count": 33,
   "metadata": {},
   "outputs": [
    {
     "name": "stderr",
     "output_type": "stream",
     "text": [
      "C:\\Users\\Happy\\Anaconda3\\lib\\site-packages\\sklearn\\linear_model\\_logistic.py:764: ConvergenceWarning: lbfgs failed to converge (status=1):\n",
      "STOP: TOTAL NO. of ITERATIONS REACHED LIMIT.\n",
      "\n",
      "Increase the number of iterations (max_iter) or scale the data as shown in:\n",
      "    https://scikit-learn.org/stable/modules/preprocessing.html\n",
      "Please also refer to the documentation for alternative solver options:\n",
      "    https://scikit-learn.org/stable/modules/linear_model.html#logistic-regression\n",
      "  extra_warning_msg=_LOGISTIC_SOLVER_CONVERGENCE_MSG)\n"
     ]
    },
    {
     "data": {
      "text/plain": [
       "LogisticRegression()"
      ]
     },
     "execution_count": 33,
     "metadata": {},
     "output_type": "execute_result"
    }
   ],
   "source": [
    "log_reg = LogisticRegression()\n",
    "log_reg.fit(X, y)"
   ]
  },
  {
   "cell_type": "code",
   "execution_count": 34,
   "metadata": {},
   "outputs": [
    {
     "name": "stdout",
     "output_type": "stream",
     "text": [
      "0.6011849442379182\n",
      "0.18664315696661823\n",
      "0.18687764274111676\n",
      "              precision    recall  f1-score   support\n",
      "\n",
      "           0       0.13      0.17      0.15       106\n",
      "           3       0.00      0.00      0.00         3\n",
      "           5       0.63      0.64      0.64       800\n",
      "           9       0.00      0.00      0.00         0\n",
      "          10       0.00      0.00      0.00         0\n",
      "          11       0.00      0.00      0.00         0\n",
      "          13       0.00      0.00      0.00         6\n",
      "          16       0.00      0.00      0.00         1\n",
      "          23       0.38      0.40      0.39       197\n",
      "          24       0.62      0.57      0.59      1033\n",
      "          26       0.61      0.62      0.61       621\n",
      "          33       0.41      0.29      0.34       173\n",
      "          35       0.00      0.00      0.00         1\n",
      "          36       0.00      0.00      0.00         4\n",
      "          37       0.00      0.00      0.00         1\n",
      "          38       0.00      0.00      0.00         7\n",
      "          40       0.00      0.00      0.00         1\n",
      "          41       0.00      0.00      0.00         2\n",
      "          44       0.00      0.00      0.00         0\n",
      "          46       0.00      0.00      0.00         1\n",
      "          48       0.00      0.00      0.00         1\n",
      "          49       0.90      0.84      0.87       258\n",
      "          55       0.35      0.44      0.39       260\n",
      "          56       0.00      0.00      0.00         1\n",
      "          58       0.00      0.00      0.00         1\n",
      "          59       0.00      0.00      0.00         1\n",
      "          60       0.00      0.00      0.00         1\n",
      "          61       0.00      0.00      0.00         0\n",
      "          63       0.56      0.56      0.56       360\n",
      "          66       0.24      0.20      0.22       185\n",
      "          68       0.00      0.00      0.00         1\n",
      "          70       0.62      0.64      0.63      1082\n",
      "          71       0.64      0.69      0.67      1077\n",
      "          72       0.00      0.00      0.00         1\n",
      "          73       0.35      0.36      0.35       179\n",
      "          75       0.00      0.00      0.00         1\n",
      "          78       0.00      0.00      0.00         2\n",
      "          79       0.00      0.00      0.00         1\n",
      "          80       0.00      0.00      0.00         3\n",
      "          81       0.58      0.57      0.58       167\n",
      "          84       0.16      0.16      0.16        93\n",
      "          87       0.67      0.63      0.65       436\n",
      "          90       0.80      0.81      0.80      1026\n",
      "          91       0.00      0.00      0.00         1\n",
      "          92       0.45      0.51      0.48       104\n",
      "          93       0.62      0.52      0.57       203\n",
      "          94       0.00      0.00      0.00         0\n",
      "          99       0.54      0.52      0.53       190\n",
      "         102       0.00      0.00      0.00         4\n",
      "         106       0.00      0.00      0.00         1\n",
      "         110       0.00      0.00      0.00         1\n",
      "         115       0.00      0.00      0.00         1\n",
      "         118       0.00      0.00      0.00         1\n",
      "         120       0.18      0.33      0.24         6\n",
      "         122       0.00      0.00      0.00         1\n",
      "         125       0.00      0.00      0.00         1\n",
      "\n",
      "    accuracy                           0.60      8608\n",
      "   macro avg       0.19      0.19      0.19      8608\n",
      "weighted avg       0.60      0.60      0.60      8608\n",
      "\n"
     ]
    },
    {
     "name": "stderr",
     "output_type": "stream",
     "text": [
      "C:\\Users\\Happy\\Anaconda3\\lib\\site-packages\\sklearn\\metrics\\_classification.py:1221: UndefinedMetricWarning: Precision is ill-defined and being set to 0.0 in labels with no predicted samples. Use `zero_division` parameter to control this behavior.\n",
      "  _warn_prf(average, modifier, msg_start, len(result))\n",
      "C:\\Users\\Happy\\Anaconda3\\lib\\site-packages\\sklearn\\metrics\\_classification.py:1221: UndefinedMetricWarning: Recall is ill-defined and being set to 0.0 in labels with no true samples. Use `zero_division` parameter to control this behavior.\n",
      "  _warn_prf(average, modifier, msg_start, len(result))\n",
      "C:\\Users\\Happy\\Anaconda3\\lib\\site-packages\\sklearn\\metrics\\_classification.py:1221: UndefinedMetricWarning: Precision and F-score are ill-defined and being set to 0.0 in labels with no predicted samples. Use `zero_division` parameter to control this behavior.\n",
      "  _warn_prf(average, modifier, msg_start, len(result))\n",
      "C:\\Users\\Happy\\Anaconda3\\lib\\site-packages\\sklearn\\metrics\\_classification.py:1221: UndefinedMetricWarning: Recall and F-score are ill-defined and being set to 0.0 in labels with no true samples. Use `zero_division` parameter to control this behavior.\n",
      "  _warn_prf(average, modifier, msg_start, len(result))\n"
     ]
    }
   ],
   "source": [
    "y_pred = log_reg.predict(test_projected[:10000])\n",
    "\n",
    "print(f1_score(y_test[:10000], y_pred, average='micro'))\n",
    "print(precision_score(y_test[:10000], y_pred, average=\"macro\"))\n",
    "print(recall_score(y_test[:10000], y_pred, average=\"macro\"))\n",
    "print(classification_report(y_test[:10000], y_pred))"
   ]
  },
  {
   "cell_type": "markdown",
   "metadata": {},
   "source": [
    "### SVM"
   ]
  },
  {
   "cell_type": "code",
   "execution_count": 35,
   "metadata": {},
   "outputs": [
    {
     "data": {
      "text/plain": [
       "SVC()"
      ]
     },
     "execution_count": 35,
     "metadata": {},
     "output_type": "execute_result"
    }
   ],
   "source": [
    "svm = SVC()\n",
    "svm.fit(X, y)"
   ]
  },
  {
   "cell_type": "code",
   "execution_count": 36,
   "metadata": {},
   "outputs": [
    {
     "name": "stdout",
     "output_type": "stream",
     "text": [
      "0.6442843866171004\n",
      "0.27631817799096065\n",
      "0.19266478030209178\n",
      "              precision    recall  f1-score   support\n",
      "\n",
      "           0       1.00      0.01      0.02       106\n",
      "           3       0.00      0.00      0.00         3\n",
      "           5       0.71      0.76      0.73       800\n",
      "          13       0.00      0.00      0.00         6\n",
      "          16       0.00      0.00      0.00         1\n",
      "          23       0.69      0.17      0.28       197\n",
      "          24       0.55      0.71      0.62      1033\n",
      "          26       0.71      0.66      0.68       621\n",
      "          33       0.46      0.14      0.21       173\n",
      "          35       0.00      0.00      0.00         1\n",
      "          36       0.00      0.00      0.00         4\n",
      "          37       0.00      0.00      0.00         1\n",
      "          38       0.00      0.00      0.00         7\n",
      "          40       0.00      0.00      0.00         1\n",
      "          41       0.00      0.00      0.00         2\n",
      "          46       0.00      0.00      0.00         1\n",
      "          48       0.00      0.00      0.00         1\n",
      "          49       0.91      0.89      0.90       258\n",
      "          55       0.43      0.50      0.46       260\n",
      "          56       0.00      0.00      0.00         1\n",
      "          58       0.00      0.00      0.00         1\n",
      "          59       0.00      0.00      0.00         1\n",
      "          60       0.00      0.00      0.00         1\n",
      "          63       0.65      0.63      0.64       360\n",
      "          66       0.64      0.10      0.17       185\n",
      "          68       0.00      0.00      0.00         1\n",
      "          70       0.55      0.75      0.64      1082\n",
      "          71       0.62      0.80      0.70      1077\n",
      "          72       0.00      0.00      0.00         1\n",
      "          73       0.52      0.08      0.14       179\n",
      "          75       0.00      0.00      0.00         1\n",
      "          78       0.00      0.00      0.00         2\n",
      "          79       0.00      0.00      0.00         1\n",
      "          80       0.00      0.00      0.00         3\n",
      "          81       0.64      0.62      0.63       167\n",
      "          84       1.00      0.02      0.04        93\n",
      "          87       0.81      0.50      0.62       436\n",
      "          90       0.77      0.86      0.81      1026\n",
      "          91       0.00      0.00      0.00         1\n",
      "          92       0.67      0.46      0.55       104\n",
      "          93       0.84      0.42      0.56       203\n",
      "          99       0.65      0.56      0.60       190\n",
      "         102       0.00      0.00      0.00         4\n",
      "         106       0.00      0.00      0.00         1\n",
      "         110       0.00      0.00      0.00         1\n",
      "         115       0.00      0.00      0.00         1\n",
      "         118       0.00      0.00      0.00         1\n",
      "         120       0.00      0.00      0.00         6\n",
      "         122       0.00      0.00      0.00         1\n",
      "         125       0.00      0.00      0.00         1\n",
      "\n",
      "    accuracy                           0.64      8608\n",
      "   macro avg       0.28      0.19      0.20      8608\n",
      "weighted avg       0.66      0.64      0.62      8608\n",
      "\n"
     ]
    },
    {
     "name": "stderr",
     "output_type": "stream",
     "text": [
      "C:\\Users\\Happy\\Anaconda3\\lib\\site-packages\\sklearn\\metrics\\_classification.py:1221: UndefinedMetricWarning: Precision is ill-defined and being set to 0.0 in labels with no predicted samples. Use `zero_division` parameter to control this behavior.\n",
      "  _warn_prf(average, modifier, msg_start, len(result))\n",
      "C:\\Users\\Happy\\Anaconda3\\lib\\site-packages\\sklearn\\metrics\\_classification.py:1221: UndefinedMetricWarning: Precision and F-score are ill-defined and being set to 0.0 in labels with no predicted samples. Use `zero_division` parameter to control this behavior.\n",
      "  _warn_prf(average, modifier, msg_start, len(result))\n"
     ]
    }
   ],
   "source": [
    "y_pred = svm.predict(test_projected[:10000])\n",
    "\n",
    "print(f1_score(y_test[:10000], y_pred, average='micro'))\n",
    "print(precision_score(y_test[:10000], y_pred, average=\"macro\"))\n",
    "print(recall_score(y_test[:10000], y_pred, average=\"macro\"))\n",
    "print(classification_report(y_test[:10000], y_pred))"
   ]
  },
  {
   "cell_type": "markdown",
   "metadata": {},
   "source": [
    "## Modélisation sur toutes les données"
   ]
  },
  {
   "cell_type": "markdown",
   "metadata": {},
   "source": [
    "### Tests sur google colab"
   ]
  },
  {
   "cell_type": "markdown",
   "metadata": {},
   "source": [
    "Le jeu de données étant très important, j'ai rencontré des difficultées à faire tourner ces codes sur jupyter. J'ai donc fait certains tests sur google colab en utilisant le GPU. Pour pouvoir faire cela, il m'a fallu transférer les données sur google colab et vérifier leur forme et leur taille."
   ]
  },
  {
   "cell_type": "code",
   "execution_count": 21,
   "metadata": {},
   "outputs": [],
   "source": [
    "X = train_projected\n",
    "y = y_train"
   ]
  },
  {
   "cell_type": "code",
   "execution_count": 22,
   "metadata": {},
   "outputs": [
    {
     "name": "stdout",
     "output_type": "stream",
     "text": [
      "(34876, 800)\n",
      "(34876,)\n",
      "(8608, 800)\n",
      "(8608,)\n"
     ]
    }
   ],
   "source": [
    "print(X.shape)\n",
    "print(y.shape)\n",
    "print(test_projected.shape)\n",
    "print(y_test.shape)"
   ]
  },
  {
   "cell_type": "code",
   "execution_count": 23,
   "metadata": {
    "scrolled": false
   },
   "outputs": [
    {
     "name": "stdout",
     "output_type": "stream",
     "text": [
      "X: [[-1.54483905e+00  1.40083500e+00  2.09303001e-01 ...  5.95326544e-01\n",
      "  -1.49504499e+00  1.88269706e-03]\n",
      " [ 1.94528506e+00  3.70442646e+00  1.60432818e+00 ... -8.55249506e-01\n",
      "   4.42822787e-01 -4.55148339e-01]\n",
      " [-1.50849740e+00  1.05434131e+00 -1.39288707e+00 ... -8.27174283e-01\n",
      "   1.54222195e-01 -3.92614353e-01]\n",
      " ...\n",
      " [-1.16020402e+00 -1.43050418e+00  1.24224145e+00 ... -9.59776741e-01\n",
      "   3.68352733e-01  6.73205581e-01]\n",
      " [-1.95723822e+00  2.50974079e+00 -4.69779461e-01 ... -1.24035355e+00\n",
      "  -3.38761822e-01  1.00341782e+00]\n",
      " [-1.00379294e+00  8.07275756e+00  3.20417663e+00 ...  3.32758555e-01\n",
      "   3.38913789e-01  7.86003475e-01]]\n",
      "y: [70  5 49 ... 90 24 70]\n",
      "test_projected: [[-4.06875168e-01 -1.53030168e+00  1.17995040e+00 ... -3.62408619e-01\n",
      "  -1.21246430e+00  3.33093006e-01]\n",
      " [ 5.87253361e+00 -9.78786830e-01 -3.54447288e+00 ...  6.80748976e-01\n",
      "  -9.76319228e-01 -2.99488660e-01]\n",
      " [ 3.33907724e+00 -9.74049512e-01  6.65564624e-01 ... -1.30880693e+00\n",
      "  -1.40185833e+00  7.36984024e-03]\n",
      " ...\n",
      " [-4.70425274e-03 -2.27856009e+00 -2.73197115e-01 ...  7.57502910e-01\n",
      "   1.36220525e+00 -3.48663175e-01]\n",
      " [-5.25832756e-01 -1.54591251e+00 -4.55693979e-01 ...  1.47172641e+00\n",
      "   4.95587041e-01  1.24978466e+00]\n",
      " [ 3.38705222e+00 -2.42664397e+00 -1.28079057e+00 ... -7.76922824e-01\n",
      "   1.04976031e+00 -1.52313709e-01]]\n",
      "y_test: [90 55  5 ... 87 70 24]\n"
     ]
    }
   ],
   "source": [
    "print('X:', X)\n",
    "print('y:', y)\n",
    "print('test_projected:', test_projected)\n",
    "print('y_test:', y_test)"
   ]
  },
  {
   "cell_type": "code",
   "execution_count": 44,
   "metadata": {},
   "outputs": [],
   "source": [
    "# Sauvegarde des données pour utiliser dans google colab\n",
    "np.savetxt('X.csv', X, delimiter=',', fmt='%d', header='Values')\n",
    "np.savetxt('Y.csv', y, delimiter=',', fmt='%d', header='Values')\n",
    "np.savetxt('test_proj.csv', test_projected,\n",
    "           delimiter=',', fmt='%d', header='Values')\n",
    "np.savetxt('y_test.csv', y_test, delimiter=',', fmt='%d', header='Values')"
   ]
  },
  {
   "cell_type": "markdown",
   "metadata": {},
   "source": [
    "### Choix du modèle"
   ]
  },
  {
   "cell_type": "markdown",
   "metadata": {},
   "source": [
    "#### Arbre de décision"
   ]
  },
  {
   "cell_type": "code",
   "execution_count": 24,
   "metadata": {},
   "outputs": [
    {
     "name": "stdout",
     "output_type": "stream",
     "text": [
      "0.3888243494423792\n",
      "0.09122714429293237\n",
      "0.09171257460604516\n",
      "              precision    recall  f1-score   support\n",
      "\n",
      "           0       0.07      0.08      0.08       106\n",
      "           3       0.00      0.00      0.00         3\n",
      "           4       0.00      0.00      0.00         0\n",
      "           5       0.51      0.51      0.51       800\n",
      "           9       0.00      0.00      0.00         0\n",
      "          12       0.00      0.00      0.00         0\n",
      "          13       0.00      0.00      0.00         6\n",
      "          16       0.00      0.00      0.00         1\n",
      "          23       0.24      0.23      0.24       197\n",
      "          24       0.35      0.34      0.35      1033\n",
      "          26       0.49      0.46      0.48       621\n",
      "          33       0.23      0.24      0.23       173\n",
      "          34       0.00      0.00      0.00         0\n",
      "          35       0.00      0.00      0.00         1\n",
      "          36       0.00      0.00      0.00         4\n",
      "          37       0.00      0.00      0.00         1\n",
      "          38       0.00      0.00      0.00         7\n",
      "          40       0.00      0.00      0.00         1\n",
      "          41       0.00      0.00      0.00         2\n",
      "          46       0.00      0.00      0.00         1\n",
      "          47       0.00      0.00      0.00         0\n",
      "          48       0.00      0.00      0.00         1\n",
      "          49       0.75      0.76      0.76       258\n",
      "          50       0.00      0.00      0.00         0\n",
      "          51       0.00      0.00      0.00         0\n",
      "          55       0.21      0.20      0.21       260\n",
      "          56       0.00      0.00      0.00         1\n",
      "          57       0.00      0.00      0.00         0\n",
      "          58       0.00      0.00      0.00         1\n",
      "          59       0.00      0.00      0.00         1\n",
      "          60       0.00      0.00      0.00         1\n",
      "          63       0.30      0.34      0.32       360\n",
      "          64       0.00      0.00      0.00         0\n",
      "          66       0.13      0.10      0.11       185\n",
      "          68       0.00      0.00      0.00         1\n",
      "          69       0.00      0.00      0.00         0\n",
      "          70       0.42      0.43      0.43      1082\n",
      "          71       0.46      0.44      0.45      1077\n",
      "          72       0.00      0.00      0.00         1\n",
      "          73       0.16      0.17      0.17       179\n",
      "          75       0.00      0.00      0.00         1\n",
      "          76       0.00      0.00      0.00         0\n",
      "          77       0.00      0.00      0.00         0\n",
      "          78       0.00      0.00      0.00         2\n",
      "          79       0.00      0.00      0.00         1\n",
      "          80       0.00      0.00      0.00         3\n",
      "          81       0.29      0.30      0.30       167\n",
      "          82       0.00      0.00      0.00         0\n",
      "          84       0.05      0.04      0.05        93\n",
      "          86       0.00      0.00      0.00         0\n",
      "          87       0.21      0.20      0.20       436\n",
      "          90       0.56      0.55      0.56      1026\n",
      "          91       0.00      0.00      0.00         1\n",
      "          92       0.15      0.21      0.17       104\n",
      "          93       0.22      0.19      0.20       203\n",
      "          94       0.00      0.00      0.00         0\n",
      "          99       0.32      0.32      0.32       190\n",
      "         102       0.00      0.00      0.00         4\n",
      "         106       0.00      0.00      0.00         1\n",
      "         110       0.00      0.00      0.00         1\n",
      "         114       0.00      0.00      0.00         0\n",
      "         115       0.00      0.00      0.00         1\n",
      "         118       0.00      0.00      0.00         1\n",
      "         120       0.00      0.00      0.00         6\n",
      "         122       0.00      0.00      0.00         1\n",
      "         124       0.00      0.00      0.00         0\n",
      "         125       0.00      0.00      0.00         1\n",
      "\n",
      "    accuracy                           0.39      8608\n",
      "   macro avg       0.09      0.09      0.09      8608\n",
      "weighted avg       0.39      0.39      0.39      8608\n",
      "\n",
      "Temps d'exécution:  142.0283327102661\n"
     ]
    },
    {
     "name": "stderr",
     "output_type": "stream",
     "text": [
      "C:\\Users\\Happy\\Anaconda3\\lib\\site-packages\\sklearn\\metrics\\_classification.py:1221: UndefinedMetricWarning: Precision is ill-defined and being set to 0.0 in labels with no predicted samples. Use `zero_division` parameter to control this behavior.\n",
      "  _warn_prf(average, modifier, msg_start, len(result))\n",
      "C:\\Users\\Happy\\Anaconda3\\lib\\site-packages\\sklearn\\metrics\\_classification.py:1221: UndefinedMetricWarning: Recall is ill-defined and being set to 0.0 in labels with no true samples. Use `zero_division` parameter to control this behavior.\n",
      "  _warn_prf(average, modifier, msg_start, len(result))\n",
      "C:\\Users\\Happy\\Anaconda3\\lib\\site-packages\\sklearn\\metrics\\_classification.py:1221: UndefinedMetricWarning: Precision and F-score are ill-defined and being set to 0.0 in labels with no predicted samples. Use `zero_division` parameter to control this behavior.\n",
      "  _warn_prf(average, modifier, msg_start, len(result))\n",
      "C:\\Users\\Happy\\Anaconda3\\lib\\site-packages\\sklearn\\metrics\\_classification.py:1221: UndefinedMetricWarning: Recall and F-score are ill-defined and being set to 0.0 in labels with no true samples. Use `zero_division` parameter to control this behavior.\n",
      "  _warn_prf(average, modifier, msg_start, len(result))\n"
     ]
    }
   ],
   "source": [
    "debut_tree = time.time()\n",
    "\n",
    "tree_class = DecisionTreeClassifier()\n",
    "tree_class.fit(X, y)\n",
    "\n",
    "y_pred = tree_class.predict(test_projected)\n",
    "\n",
    "fin_tree =  time.time()\n",
    "print(f1_score(y_test, y_pred, average='micro'))\n",
    "print(precision_score(y_test, y_pred, average=\"macro\"))\n",
    "print(recall_score(y_test, y_pred, average=\"macro\"))\n",
    "print(classification_report(y_test, y_pred))\n",
    "print(\"Temps d'exécution: \", fin_tree - debut_tree)"
   ]
  },
  {
   "cell_type": "markdown",
   "metadata": {},
   "source": [
    "#### Régression logistique"
   ]
  },
  {
   "cell_type": "code",
   "execution_count": 25,
   "metadata": {
    "scrolled": false
   },
   "outputs": [
    {
     "name": "stdout",
     "output_type": "stream",
     "text": [
      "0.6780901486988847\n",
      "0.22654798314536978\n",
      "0.21207425189923196\n",
      "              precision    recall  f1-score   support\n",
      "\n",
      "           0       0.20      0.16      0.18       106\n",
      "           1       0.00      0.00      0.00         0\n",
      "           3       0.00      0.00      0.00         3\n",
      "           5       0.81      0.78      0.79       800\n",
      "          13       0.00      0.00      0.00         6\n",
      "          14       0.00      0.00      0.00         0\n",
      "          16       0.00      0.00      0.00         1\n",
      "          23       0.49      0.48      0.48       197\n",
      "          24       0.67      0.67      0.67      1033\n",
      "          26       0.71      0.68      0.70       621\n",
      "          33       0.51      0.45      0.48       173\n",
      "          35       0.00      0.00      0.00         1\n",
      "          36       0.00      0.00      0.00         4\n",
      "          37       0.00      0.00      0.00         1\n",
      "          38       1.00      0.14      0.25         7\n",
      "          40       0.00      0.00      0.00         1\n",
      "          41       0.00      0.00      0.00         2\n",
      "          44       0.00      0.00      0.00         0\n",
      "          46       0.00      0.00      0.00         1\n",
      "          47       0.00      0.00      0.00         0\n",
      "          48       0.00      0.00      0.00         1\n",
      "          49       0.85      0.87      0.86       258\n",
      "          55       0.45      0.49      0.47       260\n",
      "          56       0.00      0.00      0.00         1\n",
      "          58       0.00      0.00      0.00         1\n",
      "          59       0.00      0.00      0.00         1\n",
      "          60       0.00      0.00      0.00         1\n",
      "          63       0.58      0.64      0.61       360\n",
      "          66       0.33      0.28      0.30       185\n",
      "          68       0.00      0.00      0.00         1\n",
      "          70       0.73      0.74      0.73      1082\n",
      "          71       0.73      0.75      0.74      1077\n",
      "          72       0.00      0.00      0.00         1\n",
      "          73       0.41      0.38      0.39       179\n",
      "          75       0.00      0.00      0.00         1\n",
      "          78       0.00      0.00      0.00         2\n",
      "          79       0.00      0.00      0.00         1\n",
      "          80       0.00      0.00      0.00         3\n",
      "          81       0.60      0.62      0.61       167\n",
      "          84       0.13      0.13      0.13        93\n",
      "          87       0.70      0.70      0.70       436\n",
      "          90       0.85      0.87      0.86      1026\n",
      "          91       0.00      0.00      0.00         1\n",
      "          92       0.43      0.50      0.46       104\n",
      "          93       0.63      0.62      0.62       203\n",
      "          99       0.58      0.55      0.56       190\n",
      "         102       0.00      0.00      0.00         4\n",
      "         106       0.00      0.00      0.00         1\n",
      "         110       0.00      0.00      0.00         1\n",
      "         115       0.00      0.00      0.00         1\n",
      "         118       0.00      0.00      0.00         1\n",
      "         120       0.08      0.17      0.11         6\n",
      "         122       0.00      0.00      0.00         1\n",
      "         124       0.00      0.00      0.00         0\n",
      "         125       0.00      0.00      0.00         1\n",
      "\n",
      "    accuracy                           0.68      8608\n",
      "   macro avg       0.23      0.21      0.21      8608\n",
      "weighted avg       0.68      0.68      0.68      8608\n",
      "\n",
      "Temps d'exécution:  29.531790018081665\n"
     ]
    },
    {
     "name": "stderr",
     "output_type": "stream",
     "text": [
      "C:\\Users\\Happy\\Anaconda3\\lib\\site-packages\\sklearn\\linear_model\\_logistic.py:764: ConvergenceWarning: lbfgs failed to converge (status=1):\n",
      "STOP: TOTAL NO. of ITERATIONS REACHED LIMIT.\n",
      "\n",
      "Increase the number of iterations (max_iter) or scale the data as shown in:\n",
      "    https://scikit-learn.org/stable/modules/preprocessing.html\n",
      "Please also refer to the documentation for alternative solver options:\n",
      "    https://scikit-learn.org/stable/modules/linear_model.html#logistic-regression\n",
      "  extra_warning_msg=_LOGISTIC_SOLVER_CONVERGENCE_MSG)\n",
      "C:\\Users\\Happy\\Anaconda3\\lib\\site-packages\\sklearn\\metrics\\_classification.py:1221: UndefinedMetricWarning: Precision is ill-defined and being set to 0.0 in labels with no predicted samples. Use `zero_division` parameter to control this behavior.\n",
      "  _warn_prf(average, modifier, msg_start, len(result))\n",
      "C:\\Users\\Happy\\Anaconda3\\lib\\site-packages\\sklearn\\metrics\\_classification.py:1221: UndefinedMetricWarning: Recall is ill-defined and being set to 0.0 in labels with no true samples. Use `zero_division` parameter to control this behavior.\n",
      "  _warn_prf(average, modifier, msg_start, len(result))\n",
      "C:\\Users\\Happy\\Anaconda3\\lib\\site-packages\\sklearn\\metrics\\_classification.py:1221: UndefinedMetricWarning: Precision and F-score are ill-defined and being set to 0.0 in labels with no predicted samples. Use `zero_division` parameter to control this behavior.\n",
      "  _warn_prf(average, modifier, msg_start, len(result))\n",
      "C:\\Users\\Happy\\Anaconda3\\lib\\site-packages\\sklearn\\metrics\\_classification.py:1221: UndefinedMetricWarning: Recall and F-score are ill-defined and being set to 0.0 in labels with no true samples. Use `zero_division` parameter to control this behavior.\n",
      "  _warn_prf(average, modifier, msg_start, len(result))\n"
     ]
    }
   ],
   "source": [
    "debut_reg = time.time()\n",
    "\n",
    "log_reg = LogisticRegression()\n",
    "log_reg.fit(X, y)\n",
    "y_pred = log_reg.predict(test_projected)\n",
    "\n",
    "fin_reg = time.time()\n",
    "print(f1_score(y_test, y_pred, average='micro'))\n",
    "print(precision_score(y_test, y_pred, average=\"macro\"))\n",
    "print(recall_score(y_test, y_pred, average=\"macro\"))\n",
    "print(classification_report(y_test, y_pred))\n",
    "print(\"Temps d'exécution: \", fin_reg - debut_reg)"
   ]
  },
  {
   "cell_type": "markdown",
   "metadata": {},
   "source": [
    "#### SVM"
   ]
  },
  {
   "cell_type": "code",
   "execution_count": null,
   "metadata": {
    "scrolled": false
   },
   "outputs": [],
   "source": [
    "debut_svm = time.time()\n",
    "\n",
    "svm = SVC()\n",
    "svm.fit(X, y)\n",
    "y_pred = svm.predict(test_projected)\n",
    "\n",
    "fin_svm = time.time()\n",
    "print(f1_score(y_test, y_pred, average='micro'))\n",
    "print(precision_score(y_test, y_pred, average=\"macro\"))\n",
    "print(recall_score(y_test, y_pred, average=\"macro\"))\n",
    "print(classification_report(y_test, y_pred))\n",
    "print(\"Temps d'éxecution: \", fin_svm - debut_svm)"
   ]
  },
  {
   "cell_type": "markdown",
   "metadata": {},
   "source": [
    "## Modèle choisi"
   ]
  },
  {
   "cell_type": "markdown",
   "metadata": {},
   "source": [
    "Le meilleur score est atteint avec la SVM (accuracy = 0,69). Cependant, du au temps d'exécution trop long, le modèle choisi est la régression logistique avec un score accuracy de 0,68 avec les paramètres par défaut suivants: {'C': 1, 'max_iter': 100, 'penalty': 'l2'}."
   ]
  },
  {
   "cell_type": "markdown",
   "metadata": {},
   "source": [
    "### Tuning des paramètres : GridSearchCV V1"
   ]
  },
  {
   "cell_type": "code",
   "execution_count": 22,
   "metadata": {},
   "outputs": [],
   "source": [
    "param_grid = {\n",
    "    'penalty': ['l1', 'none'],\n",
    "    'C': [1, 10, 100],\n",
    "    'max_iter': [100, 500]\n",
    "}"
   ]
  },
  {
   "cell_type": "code",
   "execution_count": 26,
   "metadata": {},
   "outputs": [
    {
     "name": "stdout",
     "output_type": "stream",
     "text": [
      "Fitting 5 folds for each of 12 candidates, totalling 60 fits\n"
     ]
    },
    {
     "name": "stderr",
     "output_type": "stream",
     "text": [
      "C:\\Users\\Happy\\Anaconda3\\lib\\site-packages\\sklearn\\model_selection\\_split.py:672: UserWarning: The least populated class in y has only 1 members, which is less than n_splits=5.\n",
      "  % (min_groups, self.n_splits)), UserWarning)\n",
      "[Parallel(n_jobs=-1)]: Using backend LokyBackend with 8 concurrent workers.\n",
      "[Parallel(n_jobs=-1)]: Done  25 tasks      | elapsed: 16.0min\n",
      "[Parallel(n_jobs=-1)]: Done  60 out of  60 | elapsed: 132.8min finished\n",
      "C:\\Users\\Happy\\Anaconda3\\lib\\site-packages\\sklearn\\linear_model\\_logistic.py:764: ConvergenceWarning: lbfgs failed to converge (status=1):\n",
      "STOP: TOTAL NO. of ITERATIONS REACHED LIMIT.\n",
      "\n",
      "Increase the number of iterations (max_iter) or scale the data as shown in:\n",
      "    https://scikit-learn.org/stable/modules/preprocessing.html\n",
      "Please also refer to the documentation for alternative solver options:\n",
      "    https://scikit-learn.org/stable/modules/linear_model.html#logistic-regression\n",
      "  extra_warning_msg=_LOGISTIC_SOLVER_CONVERGENCE_MSG)\n"
     ]
    }
   ],
   "source": [
    "model = LogisticRegression()\n",
    "grid_search = GridSearchCV(estimator=model, param_grid=param_grid,\n",
    "                           cv=5, scoring=\"accuracy\", verbose=2, n_jobs=-1)\n",
    "\n",
    "best_model = grid_search.fit(X, y)"
   ]
  },
  {
   "cell_type": "code",
   "execution_count": 27,
   "metadata": {},
   "outputs": [
    {
     "data": {
      "text/plain": [
       "{'C': 1, 'max_iter': 100, 'penalty': 'none'}"
      ]
     },
     "execution_count": 27,
     "metadata": {},
     "output_type": "execute_result"
    }
   ],
   "source": [
    "grid_search.best_params_"
   ]
  },
  {
   "cell_type": "code",
   "execution_count": 28,
   "metadata": {},
   "outputs": [
    {
     "data": {
      "text/plain": [
       "0.7078984122716542"
      ]
     },
     "execution_count": 28,
     "metadata": {},
     "output_type": "execute_result"
    }
   ],
   "source": [
    "grid_search.best_score_"
   ]
  },
  {
   "cell_type": "markdown",
   "metadata": {},
   "source": [
    "### Tuning des paramètres : GridSearchCV V2"
   ]
  },
  {
   "cell_type": "code",
   "execution_count": 64,
   "metadata": {},
   "outputs": [
    {
     "name": "stdout",
     "output_type": "stream",
     "text": [
      "Fitting 5 folds for each of 8 candidates, totalling 40 fits\n"
     ]
    },
    {
     "name": "stderr",
     "output_type": "stream",
     "text": [
      "C:\\Users\\Happy\\Anaconda3\\lib\\site-packages\\sklearn\\model_selection\\_split.py:672: UserWarning: The least populated class in y has only 1 members, which is less than n_splits=5.\n",
      "  % (min_groups, self.n_splits)), UserWarning)\n",
      "[Parallel(n_jobs=-1)]: Using backend LokyBackend with 8 concurrent workers.\n",
      "[Parallel(n_jobs=-1)]: Done  25 tasks      | elapsed: 13.5min\n",
      "[Parallel(n_jobs=-1)]: Done  40 out of  40 | elapsed: 117.1min finished\n",
      "C:\\Users\\Happy\\Anaconda3\\lib\\site-packages\\sklearn\\linear_model\\_logistic.py:764: ConvergenceWarning: lbfgs failed to converge (status=1):\n",
      "STOP: TOTAL NO. of ITERATIONS REACHED LIMIT.\n",
      "\n",
      "Increase the number of iterations (max_iter) or scale the data as shown in:\n",
      "    https://scikit-learn.org/stable/modules/preprocessing.html\n",
      "Please also refer to the documentation for alternative solver options:\n",
      "    https://scikit-learn.org/stable/modules/linear_model.html#logistic-regression\n",
      "  extra_warning_msg=_LOGISTIC_SOLVER_CONVERGENCE_MSG)\n"
     ]
    }
   ],
   "source": [
    "param_grid = {\n",
    "    'penalty': ['l1', 'l2'],\n",
    "    'C': [1, 10],\n",
    "    'max_iter': [100, 1000]\n",
    "}\n",
    "model = LogisticRegression()\n",
    "\n",
    "grid_search = GridSearchCV(estimator=model, param_grid=param_grid,\n",
    "                           cv=5, scoring=\"accuracy\", verbose=2, n_jobs=-1)\n",
    "best_model = grid_search.fit(X, y)"
   ]
  },
  {
   "cell_type": "code",
   "execution_count": 65,
   "metadata": {},
   "outputs": [
    {
     "data": {
      "text/plain": [
       "{'C': 1, 'max_iter': 1000, 'penalty': 'l2'}"
      ]
     },
     "execution_count": 65,
     "metadata": {},
     "output_type": "execute_result"
    }
   ],
   "source": [
    "grid_search.best_params_"
   ]
  },
  {
   "cell_type": "code",
   "execution_count": 66,
   "metadata": {},
   "outputs": [
    {
     "data": {
      "text/plain": [
       "0.7104861373516822"
      ]
     },
     "execution_count": 66,
     "metadata": {},
     "output_type": "execute_result"
    }
   ],
   "source": [
    "grid_search.best_score_"
   ]
  },
  {
   "cell_type": "markdown",
   "metadata": {},
   "source": [
    "### Tuning des paramètres : GridSearchCV V3"
   ]
  },
  {
   "cell_type": "code",
   "execution_count": null,
   "metadata": {},
   "outputs": [],
   "source": [
    "param_grid = {\n",
    "    'penalty': ['l2', 'none'],\n",
    "     'C': np.logspace(-2,2,5),\n",
    "    'max_iter': [50,100]\n",
    "}\n",
    "model = LogisticRegression()\n",
    "\n",
    "grid_search = GridSearchCV(estimator=model, param_grid=param_grid, cv=5, scoring=\"accuracy\", verbose=2, n_jobs=-1)\n",
    "best_model = grid_search.fit(X, y)"
   ]
  },
  {
   "cell_type": "markdown",
   "metadata": {},
   "source": [
    "Meilleurs paramètres: {'C': 0.01, 'max_iter': 50, 'penalty': 'l2'}\n",
    "\n",
    "Meilleur score: 0.670891194797935"
   ]
  },
  {
   "cell_type": "markdown",
   "metadata": {},
   "source": [
    "### Tuning des paramètres : GridSearchCV V4"
   ]
  },
  {
   "cell_type": "code",
   "execution_count": null,
   "metadata": {},
   "outputs": [],
   "source": [
    "param_grid = {\n",
    "    'penalty': ['l2', 'none'],\n",
    "     'C': np.logspace(-1,2,4),\n",
    "    'max_iter': [100,1000]\n",
    "}\n",
    "model = LogisticRegression()\n",
    "\n",
    "grid_search = GridSearchCV(estimator=model, param_grid=param_grid, cv=5, scoring=\"accuracy\", verbose=2, n_jobs=-1)\n",
    "best_model = grid_search.fit(X, y)"
   ]
  },
  {
   "cell_type": "markdown",
   "metadata": {},
   "source": [
    "Meilleurs paramètres: {'C': 0.1, 'max_iter': 1000, 'penalty': 'l2'}\n",
    "Meilleur score: 0.6458596765972839"
   ]
  },
  {
   "cell_type": "markdown",
   "metadata": {},
   "source": [
    "### Paramètres choisis"
   ]
  },
  {
   "cell_type": "markdown",
   "metadata": {},
   "source": [
    "Après avoir testé différents paramètres, le meilleur score reste celui obtenu avec les paramètres par défaut du modèle."
   ]
  },
  {
   "cell_type": "markdown",
   "metadata": {},
   "source": [
    "## Validation du modèle"
   ]
  },
  {
   "cell_type": "code",
   "execution_count": 20,
   "metadata": {},
   "outputs": [],
   "source": [
    "X_train = train_projected"
   ]
  },
  {
   "cell_type": "code",
   "execution_count": 22,
   "metadata": {},
   "outputs": [
    {
     "name": "stderr",
     "output_type": "stream",
     "text": [
      "C:\\Users\\Happy\\Anaconda3\\lib\\site-packages\\sklearn\\linear_model\\_logistic.py:764: ConvergenceWarning: lbfgs failed to converge (status=1):\n",
      "STOP: TOTAL NO. of ITERATIONS REACHED LIMIT.\n",
      "\n",
      "Increase the number of iterations (max_iter) or scale the data as shown in:\n",
      "    https://scikit-learn.org/stable/modules/preprocessing.html\n",
      "Please also refer to the documentation for alternative solver options:\n",
      "    https://scikit-learn.org/stable/modules/linear_model.html#logistic-regression\n",
      "  extra_warning_msg=_LOGISTIC_SOLVER_CONVERGENCE_MSG)\n"
     ]
    },
    {
     "name": "stdout",
     "output_type": "stream",
     "text": [
      "              precision    recall  f1-score   support\n",
      "\n",
      "           0       0.20      0.16      0.18       106\n",
      "           1       0.00      0.00      0.00         0\n",
      "           3       0.00      0.00      0.00         3\n",
      "           5       0.81      0.78      0.79       800\n",
      "          13       0.00      0.00      0.00         6\n",
      "          14       0.00      0.00      0.00         0\n",
      "          16       0.00      0.00      0.00         1\n",
      "          23       0.49      0.48      0.48       197\n",
      "          24       0.67      0.67      0.67      1033\n",
      "          26       0.71      0.68      0.70       621\n",
      "          33       0.51      0.45      0.48       173\n",
      "          35       0.00      0.00      0.00         1\n",
      "          36       0.00      0.00      0.00         4\n",
      "          37       0.00      0.00      0.00         1\n",
      "          38       1.00      0.14      0.25         7\n",
      "          40       0.00      0.00      0.00         1\n",
      "          41       0.00      0.00      0.00         2\n",
      "          44       0.00      0.00      0.00         0\n",
      "          46       0.00      0.00      0.00         1\n",
      "          47       0.00      0.00      0.00         0\n",
      "          48       0.00      0.00      0.00         1\n",
      "          49       0.85      0.87      0.86       258\n",
      "          55       0.45      0.49      0.47       260\n",
      "          56       0.00      0.00      0.00         1\n",
      "          58       0.00      0.00      0.00         1\n",
      "          59       0.00      0.00      0.00         1\n",
      "          60       0.00      0.00      0.00         1\n",
      "          63       0.58      0.64      0.61       360\n",
      "          66       0.33      0.28      0.30       185\n",
      "          68       0.00      0.00      0.00         1\n",
      "          70       0.73      0.74      0.73      1082\n",
      "          71       0.73      0.75      0.74      1077\n",
      "          72       0.00      0.00      0.00         1\n",
      "          73       0.41      0.38      0.39       179\n",
      "          75       0.00      0.00      0.00         1\n",
      "          78       0.00      0.00      0.00         2\n",
      "          79       0.00      0.00      0.00         1\n",
      "          80       0.00      0.00      0.00         3\n",
      "          81       0.60      0.62      0.61       167\n",
      "          84       0.13      0.13      0.13        93\n",
      "          87       0.70      0.70      0.70       436\n",
      "          90       0.85      0.87      0.86      1026\n",
      "          91       0.00      0.00      0.00         1\n",
      "          92       0.43      0.50      0.46       104\n",
      "          93       0.63      0.62      0.62       203\n",
      "          99       0.58      0.55      0.56       190\n",
      "         102       0.00      0.00      0.00         4\n",
      "         106       0.00      0.00      0.00         1\n",
      "         110       0.00      0.00      0.00         1\n",
      "         115       0.00      0.00      0.00         1\n",
      "         118       0.00      0.00      0.00         1\n",
      "         120       0.08      0.17      0.11         6\n",
      "         122       0.00      0.00      0.00         1\n",
      "         124       0.00      0.00      0.00         0\n",
      "         125       0.00      0.00      0.00         1\n",
      "\n",
      "    accuracy                           0.68      8608\n",
      "   macro avg       0.23      0.21      0.21      8608\n",
      "weighted avg       0.68      0.68      0.68      8608\n",
      "\n"
     ]
    },
    {
     "name": "stderr",
     "output_type": "stream",
     "text": [
      "C:\\Users\\Happy\\Anaconda3\\lib\\site-packages\\sklearn\\metrics\\_classification.py:1221: UndefinedMetricWarning: Precision and F-score are ill-defined and being set to 0.0 in labels with no predicted samples. Use `zero_division` parameter to control this behavior.\n",
      "  _warn_prf(average, modifier, msg_start, len(result))\n",
      "C:\\Users\\Happy\\Anaconda3\\lib\\site-packages\\sklearn\\metrics\\_classification.py:1221: UndefinedMetricWarning: Recall and F-score are ill-defined and being set to 0.0 in labels with no true samples. Use `zero_division` parameter to control this behavior.\n",
      "  _warn_prf(average, modifier, msg_start, len(result))\n"
     ]
    }
   ],
   "source": [
    "model_final = LogisticRegression()\n",
    "model_final.fit(X_train, y_train)\n",
    "\n",
    "y_pred = model_final.predict(test_projected)\n",
    "print(classification_report(y_test, y_pred))"
   ]
  },
  {
   "cell_type": "code",
   "execution_count": 25,
   "metadata": {},
   "outputs": [
    {
     "data": {
      "text/plain": [
       "['model_final.plk']"
      ]
     },
     "execution_count": 25,
     "metadata": {},
     "output_type": "execute_result"
    }
   ],
   "source": [
    "joblib.dump(model_final, 'model_final.plk')"
   ]
  },
  {
   "cell_type": "code",
   "execution_count": null,
   "metadata": {},
   "outputs": [],
   "source": []
  }
 ],
 "metadata": {
  "kernelspec": {
   "display_name": "Python 3",
   "language": "python",
   "name": "python3"
  },
  "language_info": {
   "codemirror_mode": {
    "name": "ipython",
    "version": 3
   },
   "file_extension": ".py",
   "mimetype": "text/x-python",
   "name": "python",
   "nbconvert_exporter": "python",
   "pygments_lexer": "ipython3",
   "version": "3.7.4"
  },
  "toc": {
   "base_numbering": 1,
   "nav_menu": {},
   "number_sections": true,
   "sideBar": true,
   "skip_h1_title": false,
   "title_cell": "Table of Contents",
   "title_sidebar": "Contents",
   "toc_cell": false,
   "toc_position": {
    "height": "calc(100% - 180px)",
    "left": "10px",
    "top": "150px",
    "width": "165px"
   },
   "toc_section_display": true,
   "toc_window_display": true
  }
 },
 "nbformat": 4,
 "nbformat_minor": 2
}
